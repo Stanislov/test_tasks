{
  "nbformat": 4,
  "nbformat_minor": 0,
  "metadata": {
    "colab": {
      "name": "Profi.ipynb",
      "provenance": [],
      "collapsed_sections": []
    },
    "kernelspec": {
      "name": "python3",
      "display_name": "Python 3"
    }
  },
  "cells": [
    {
      "cell_type": "markdown",
      "metadata": {
        "id": "Qag3TPgsuZEP"
      },
      "source": [
        "# Задания для Профи"
      ]
    },
    {
      "cell_type": "markdown",
      "metadata": {
        "id": "sR5d1LmwueZY"
      },
      "source": [
        "## Задача 1\n",
        "Напиши функцию, которая удалит дубликаты в списке. Список не отсортирован. Необходимо сохранить порядок сортировки оригинального списка.\n",
        "\n",
        "Примеры:\n",
        "* [1, 2, 3, 1] → [1, 2, 3]\n",
        "* [1, 3, 2, 1, 5, 3, 5, 1, 4] → [1, 3, 2, 5, 4]\n",
        "\n",
        "Какая асимптотическая сложность у этой функций?\n",
        "\n",
        "Если задание покажется слишком простым, можешь дополнительно написать юнит тест или doctest."
      ]
    },
    {
      "cell_type": "code",
      "metadata": {
        "id": "USpgRrXWuUWt",
        "outputId": "cdf3e232-07f7-4118-c8f0-91310f3c2d6b",
        "colab": {
          "base_uri": "https://localhost:8080/",
          "height": 34
        }
      },
      "source": [
        "my_list = input().split()\n",
        "# Решение 1: если порядок в списке не важен\n",
        "# асимптотическая сложность O(n) (O(k*n) считаю как O(n))\n",
        "new_list = lambda my_list: list(set(my_list))\n",
        "\n",
        "# Решение 2: при необходимости сохранения порядка\n",
        "# асимптотическая сложность O(n)\n",
        "new_s = []\n",
        "for n in my_list:\n",
        "    if n not in new_s: \n",
        "        new_s.append(n) \n",
        "\n",
        "# Рещение 3: аналог решения2 в одну строчку\n",
        "s2 = {}\n",
        "new_s2 = [s2.setdefault(x, x) for x in my_list if x not in s2]\n",
        "\n"
      ],
      "execution_count": 10,
      "outputs": [
        {
          "output_type": "stream",
          "text": [
            "123 436456 756 8658 68 679 768 75 4 634 634 63 632 623 62 text for task for people\n"
          ],
          "name": "stdout"
        }
      ]
    },
    {
      "cell_type": "code",
      "metadata": {
        "id": "tcUw9d6CQeR7"
      },
      "source": [
        "print(new_list(my_list))"
      ],
      "execution_count": null,
      "outputs": []
    },
    {
      "cell_type": "code",
      "metadata": {
        "id": "s1pevSYbQCE1",
        "outputId": "4e5caad6-5d2b-4dcf-9ae2-a4bc40a752bc",
        "colab": {
          "base_uri": "https://localhost:8080/",
          "height": 34
        }
      },
      "source": [
        "print(new_s)"
      ],
      "execution_count": 11,
      "outputs": [
        {
          "output_type": "stream",
          "text": [
            "['123', '436456', '756', '8658', '68', '679', '768', '75', '4', '634', '63', '632', '623', '62', 'text', 'for', 'task', 'people']\n"
          ],
          "name": "stdout"
        }
      ]
    },
    {
      "cell_type": "markdown",
      "metadata": {
        "id": "fN61QdveukQ7"
      },
      "source": [
        "## Задача 2\n",
        "Написать SQL запрос\n",
        "\n",
        "Дана таблица employees всех сотрудников компании. Поля:\n",
        "* full_name TEXT (PK),\n",
        "* position TEXT,\n",
        "* department TEXT.\n",
        "\n",
        "Напиши запрос, выводящий все отделы, в которых меньше 5 разработчиков (position = 'Software Developer')."
      ]
    },
    {
      "cell_type": "code",
      "metadata": {
        "id": "bLfpZPOxunjX"
      },
      "source": [
        "SELECT department FROM employees GROUP BY position, department HAVING COUNT (position = 'Software Developer') < 5 "
      ],
      "execution_count": null,
      "outputs": []
    },
    {
      "cell_type": "markdown",
      "metadata": {
        "id": "z3oWo9h3umdk"
      },
      "source": [
        "## Задача 3\n",
        "Подкинули монету N раз. Кол-во случаев, когда выпал орёл, на 10% больше, чем кол-во случаев, когда выпала решка. При каком N мы можем сказать, что монета «нечестная» (орёл и решка выпадают с разной вероятностью)?"
      ]
    },
    {
      "cell_type": "markdown",
      "metadata": {
        "id": "iF-SXO_QvwLq"
      },
      "source": [
        "Решение:\n",
        "\n",
        "Никаком. При 10 бросках у нас на монете может выпасть 10 раз \"орёл\".\n",
        "\n",
        "Для того, чтобы наверняка определить N, надо провести достаточное количество тестов на \"честной\" и \"не честной\" монете.   "
      ]
    },
    {
      "cell_type": "code",
      "metadata": {
        "id": "7vXXEPzAwqGk"
      },
      "source": [
        ""
      ],
      "execution_count": null,
      "outputs": []
    }
  ]
}