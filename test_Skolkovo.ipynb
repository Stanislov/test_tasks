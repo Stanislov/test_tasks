{
  "nbformat": 4,
  "nbformat_minor": 0,
  "metadata": {
    "colab": {
      "name": "Copy of test_Skolkovo.ipynb",
      "provenance": []
    },
    "kernelspec": {
      "name": "python3",
      "display_name": "Python 3"
    }
  },
  "cells": [
    {
      "cell_type": "markdown",
      "metadata": {
        "id": "CjrneWxN6hNV"
      },
      "source": [
        "Задача заключается в следующем: надо написать на Python функцию, которая получает на вход M, dT и файл с инцидентами, и вычисляет для каждого из N инцидентов количество инцидентов из того же файла, которые удовлетворяют следующим условиям:\n",
        "\n",
        "1) предшествуют данному инциденту по времени, при этом разница по времени не превосходит dT;\n",
        "\n",
        "2) имеют значения feature1 и feature2, совпадающие с соответствующими значениями данного инцидента."
      ]
    },
    {
      "cell_type": "markdown",
      "metadata": {
        "id": "YddagUah2Mnh"
      },
      "source": [
        "Генерируем случайный набор инцидентов с N-строк, M-аргументов"
      ]
    },
    {
      "cell_type": "code",
      "metadata": {
        "id": "WBLDsXSZ06W0"
      },
      "source": [
        "import pandas as pd\n",
        "import numpy as np\n",
        "from queue import Queue"
      ],
      "execution_count": null,
      "outputs": []
    },
    {
      "cell_type": "code",
      "metadata": {
        "id": "ogWUsuaOPvRD",
        "colab": {
          "base_uri": "https://localhost:8080/"
        },
        "outputId": "3038af44-9304-439e-d956-727543a41667"
      },
      "source": [
        "%%time\n",
        "\n",
        "M = 100\n",
        "N = 1000000\n",
        "\n",
        "df = pd.DataFrame({'feature1':np.random.randint(M, size=(N,)),\n",
        "                 'feature2':np.random.randint(M, size=(N,)),\n",
        "                 'time':np.random.rand(N)\n",
        "                 })\n",
        "df.to_csv('incidents.csv', index_label='id') # ====="
      ],
      "execution_count": null,
      "outputs": [
        {
          "output_type": "stream",
          "text": [
            "CPU times: user 3.38 s, sys: 54.5 ms, total: 3.43 s\n",
            "Wall time: 3.44 s\n"
          ],
          "name": "stdout"
        }
      ]
    },
    {
      "cell_type": "markdown",
      "metadata": {
        "id": "cCQDHC3F2jk0"
      },
      "source": [
        "Функция подсчета количества инцидентов за период dT "
      ]
    },
    {
      "cell_type": "code",
      "metadata": {
        "id": "LDAl-4TSP0O5"
      },
      "source": [
        "def process(input_file, output_file, M, dt):\n",
        "    df = pd.read_csv(input_file, dtype={'feature1': int, 'feature2': int}, index_col='id')\\\n",
        "      .sort_values('time')\n",
        "      \n",
        "    features = (df['feature1'] + df['feature2'] * M).astype('int64').to_numpy()\n",
        "    time_borders = (df['time'] - dt).to_numpy()\n",
        "    times = df['time'].to_numpy()\n",
        "    cache = [0] * M ** 2 \n",
        "    q = Queue()\n",
        "    counts = np.zeros(len(df))\n",
        "\n",
        "    q.put(0)\n",
        "    cache[features[0]] += 1\n",
        "\n",
        "    for i in range(1, len(features)):            \n",
        "        time_border = time_borders[i]\n",
        "            \n",
        "        while not q.empty():\n",
        "            index = q.queue[0]\n",
        "            \n",
        "            if times[index] >= time_border:\n",
        "              break\n",
        "\n",
        "            cache[features[index]] -= 1\n",
        "            q.get()\n",
        "            \n",
        "        q.put(i)\n",
        "        counts[i] = cache[features[i]]\n",
        "        cache[features[i]] += 1\n",
        "                     \n",
        "    df['count'] = counts\n",
        "    df['count'] = df['count'].astype('int')\n",
        "    df.sort_values('id').to_csv(output_file, columns=['count'])"
      ],
      "execution_count": null,
      "outputs": []
    },
    {
      "cell_type": "markdown",
      "metadata": {
        "id": "hu6jAW_R4nja"
      },
      "source": [
        "Вычисляем. В ф-цию подаем входной/выходной файл, M и dt"
      ]
    },
    {
      "cell_type": "code",
      "metadata": {
        "id": "m0KDGdZY4ZE7",
        "colab": {
          "base_uri": "https://localhost:8080/"
        },
        "outputId": "c60c8a4f-d45e-4c36-8644-767e781d425e"
      },
      "source": [
        "%%time\n",
        "process('incidents.csv', 'out.csv', 100, 0.3)"
      ],
      "execution_count": null,
      "outputs": [
        {
          "output_type": "stream",
          "text": [
            "CPU times: user 8.94 s, sys: 45 ms, total: 8.98 s\n",
            "Wall time: 8.98 s\n"
          ],
          "name": "stdout"
        }
      ]
    },
    {
      "cell_type": "markdown",
      "metadata": {
        "id": "3dPp_B8Wtyf0"
      },
      "source": [
        "Если нам надо опустить переменную M при вызове функции, то убрать аргумент и внутри функции добавить:\n",
        "\n",
        "M = max(df['feature1'].max(), df['feature2'].max()) + 1"
      ]
    },
    {
      "cell_type": "markdown",
      "metadata": {
        "id": "7h12qgGXub3D"
      },
      "source": [
        "Чтобы вызвать через командную строку надо ipynb сохранить как *.py и запустить с параметрами, например:\n",
        "\n",
        "> python test_Skolkovo.py incidents.csv out.csv 100 0.3"
      ]
    },
    {
      "cell_type": "code",
      "metadata": {
        "id": "p5B_P7VrD10M"
      },
      "source": [
        "import sys\n",
        "\n",
        "if __name__ == \"__main__\":\n",
        "\tif len(sys.argv) != 5:\n",
        "\t\tprint ('Необходимо передать 4 параметра')\n",
        "\telse:\n",
        "\t\tprocess(sys.argv[1], sys.argv[2], int(sys.argv[3]), float(sys.argv[4]))\n",
        "\t\tprint ('Обработка выполнена')"
      ],
      "execution_count": null,
      "outputs": []
    },
    {
      "cell_type": "markdown",
      "metadata": {
        "id": "-dahCx1Y-k5Y"
      },
      "source": [
        "# Проверка на тестовом файле в 10 строк\n",
        "\n",
        "Добавлено %%time, чтобы код не попадал при экспорте в py-файл"
      ]
    },
    {
      "cell_type": "code",
      "metadata": {
        "id": "GfxgPC-a-qeJ",
        "colab": {
          "base_uri": "https://localhost:8080/",
          "height": 390
        },
        "outputId": "8d2adecb-3069-4e90-a76a-a7699794a9e0"
      },
      "source": [
        "%%time\n",
        "df_in10 = pd.read_csv('inc10_t.csv', index_col='id')\n",
        "df_in10.head(10)"
      ],
      "execution_count": null,
      "outputs": [
        {
          "output_type": "execute_result",
          "data": {
            "text/html": [
              "<div>\n",
              "<style scoped>\n",
              "    .dataframe tbody tr th:only-of-type {\n",
              "        vertical-align: middle;\n",
              "    }\n",
              "\n",
              "    .dataframe tbody tr th {\n",
              "        vertical-align: top;\n",
              "    }\n",
              "\n",
              "    .dataframe thead th {\n",
              "        text-align: right;\n",
              "    }\n",
              "</style>\n",
              "<table border=\"1\" class=\"dataframe\">\n",
              "  <thead>\n",
              "    <tr style=\"text-align: right;\">\n",
              "      <th></th>\n",
              "      <th>feature1</th>\n",
              "      <th>feature2</th>\n",
              "      <th>time</th>\n",
              "    </tr>\n",
              "    <tr>\n",
              "      <th>id</th>\n",
              "      <th></th>\n",
              "      <th></th>\n",
              "      <th></th>\n",
              "    </tr>\n",
              "  </thead>\n",
              "  <tbody>\n",
              "    <tr>\n",
              "      <th>0</th>\n",
              "      <td>1</td>\n",
              "      <td>0</td>\n",
              "      <td>0.206520</td>\n",
              "    </tr>\n",
              "    <tr>\n",
              "      <th>1</th>\n",
              "      <td>0</td>\n",
              "      <td>0</td>\n",
              "      <td>0.233725</td>\n",
              "    </tr>\n",
              "    <tr>\n",
              "      <th>2</th>\n",
              "      <td>0</td>\n",
              "      <td>1</td>\n",
              "      <td>0.760993</td>\n",
              "    </tr>\n",
              "    <tr>\n",
              "      <th>3</th>\n",
              "      <td>1</td>\n",
              "      <td>1</td>\n",
              "      <td>0.927770</td>\n",
              "    </tr>\n",
              "    <tr>\n",
              "      <th>4</th>\n",
              "      <td>1</td>\n",
              "      <td>0</td>\n",
              "      <td>0.569711</td>\n",
              "    </tr>\n",
              "    <tr>\n",
              "      <th>5</th>\n",
              "      <td>0</td>\n",
              "      <td>1</td>\n",
              "      <td>0.992246</td>\n",
              "    </tr>\n",
              "    <tr>\n",
              "      <th>6</th>\n",
              "      <td>0</td>\n",
              "      <td>0</td>\n",
              "      <td>0.593264</td>\n",
              "    </tr>\n",
              "    <tr>\n",
              "      <th>7</th>\n",
              "      <td>1</td>\n",
              "      <td>0</td>\n",
              "      <td>0.694181</td>\n",
              "    </tr>\n",
              "    <tr>\n",
              "      <th>8</th>\n",
              "      <td>1</td>\n",
              "      <td>1</td>\n",
              "      <td>0.823813</td>\n",
              "    </tr>\n",
              "    <tr>\n",
              "      <th>9</th>\n",
              "      <td>0</td>\n",
              "      <td>1</td>\n",
              "      <td>0.906011</td>\n",
              "    </tr>\n",
              "  </tbody>\n",
              "</table>\n",
              "</div>"
            ],
            "text/plain": [
              "    feature1  feature2      time\n",
              "id                              \n",
              "0          1         0  0.206520\n",
              "1          0         0  0.233725\n",
              "2          0         1  0.760993\n",
              "3          1         1  0.927770\n",
              "4          1         0  0.569711\n",
              "5          0         1  0.992246\n",
              "6          0         0  0.593264\n",
              "7          1         0  0.694181\n",
              "8          1         1  0.823813\n",
              "9          0         1  0.906011"
            ]
          },
          "metadata": {
            "tags": []
          },
          "execution_count": 9
        }
      ]
    },
    {
      "cell_type": "code",
      "metadata": {
        "id": "b_RqtM8M_TjO"
      },
      "source": [
        "%%time\n",
        "process('inc10_t.csv', 'out10_t.csv', 2, 0.3)"
      ],
      "execution_count": null,
      "outputs": []
    },
    {
      "cell_type": "code",
      "metadata": {
        "id": "jI9p2PC4_f-1",
        "colab": {
          "base_uri": "https://localhost:8080/",
          "height": 359
        },
        "outputId": "e6602e76-6200-4539-8c7f-94082c003f58"
      },
      "source": [
        "%%time\n",
        "df10 = pd.read_csv('out10_t.csv')\n",
        "df10.head(10)"
      ],
      "execution_count": null,
      "outputs": [
        {
          "output_type": "execute_result",
          "data": {
            "text/html": [
              "<div>\n",
              "<style scoped>\n",
              "    .dataframe tbody tr th:only-of-type {\n",
              "        vertical-align: middle;\n",
              "    }\n",
              "\n",
              "    .dataframe tbody tr th {\n",
              "        vertical-align: top;\n",
              "    }\n",
              "\n",
              "    .dataframe thead th {\n",
              "        text-align: right;\n",
              "    }\n",
              "</style>\n",
              "<table border=\"1\" class=\"dataframe\">\n",
              "  <thead>\n",
              "    <tr style=\"text-align: right;\">\n",
              "      <th></th>\n",
              "      <th>id</th>\n",
              "      <th>count</th>\n",
              "    </tr>\n",
              "  </thead>\n",
              "  <tbody>\n",
              "    <tr>\n",
              "      <th>0</th>\n",
              "      <td>0</td>\n",
              "      <td>0</td>\n",
              "    </tr>\n",
              "    <tr>\n",
              "      <th>1</th>\n",
              "      <td>1</td>\n",
              "      <td>0</td>\n",
              "    </tr>\n",
              "    <tr>\n",
              "      <th>2</th>\n",
              "      <td>2</td>\n",
              "      <td>0</td>\n",
              "    </tr>\n",
              "    <tr>\n",
              "      <th>3</th>\n",
              "      <td>3</td>\n",
              "      <td>1</td>\n",
              "    </tr>\n",
              "    <tr>\n",
              "      <th>4</th>\n",
              "      <td>4</td>\n",
              "      <td>0</td>\n",
              "    </tr>\n",
              "    <tr>\n",
              "      <th>5</th>\n",
              "      <td>5</td>\n",
              "      <td>2</td>\n",
              "    </tr>\n",
              "    <tr>\n",
              "      <th>6</th>\n",
              "      <td>6</td>\n",
              "      <td>0</td>\n",
              "    </tr>\n",
              "    <tr>\n",
              "      <th>7</th>\n",
              "      <td>7</td>\n",
              "      <td>1</td>\n",
              "    </tr>\n",
              "    <tr>\n",
              "      <th>8</th>\n",
              "      <td>8</td>\n",
              "      <td>0</td>\n",
              "    </tr>\n",
              "    <tr>\n",
              "      <th>9</th>\n",
              "      <td>9</td>\n",
              "      <td>1</td>\n",
              "    </tr>\n",
              "  </tbody>\n",
              "</table>\n",
              "</div>"
            ],
            "text/plain": [
              "   id  count\n",
              "0   0      0\n",
              "1   1      0\n",
              "2   2      0\n",
              "3   3      1\n",
              "4   4      0\n",
              "5   5      2\n",
              "6   6      0\n",
              "7   7      1\n",
              "8   8      0\n",
              "9   9      1"
            ]
          },
          "metadata": {
            "tags": []
          },
          "execution_count": 7
        }
      ]
    }
  ]
}