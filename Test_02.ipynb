{
  "nbformat": 4,
  "nbformat_minor": 0,
  "metadata": {
    "colab": {
      "name": "Test_02",
      "provenance": [],
      "collapsed_sections": []
    },
    "kernelspec": {
      "name": "python3",
      "display_name": "Python 3"
    },
    "accelerator": "GPU"
  },
  "cells": [
    {
      "cell_type": "markdown",
      "metadata": {
        "id": "xxcGCuq-HcDz"
      },
      "source": [
        "Задача от 19 ноября"
      ]
    },
    {
      "cell_type": "markdown",
      "metadata": {
        "id": "8ohD3clFwy3U"
      },
      "source": [
        "# TZ\n",
        "\n",
        "1. На базе HorsesOrHumans (которая есть в открытом доступе библиотеки tensorflow) постройте автокодировщик. \n",
        "2. Предобучите автокодировщик. Возьмите\n",
        "предобученный encoder. \n",
        "3. Кластеризуйте скрытое пространство на два кластера,\n",
        "полученное из encoder (т.е. кластеризовать изображения, так как при подаче изображения на вход encoder’у получится скрытое пространство).\n",
        "4. Проверьте насколько точно произошла кластеризация картинок лошадей и людей\n",
        "по двум классам.\n",
        "\n",
        "Мы не ждём от Вас высокой точности сети, это будет проверка на\n",
        "взаимодействие, понимание задания и подход к обработке базы.\n"
      ]
    },
    {
      "cell_type": "markdown",
      "metadata": {
        "id": "C8KUbmqIpypu"
      },
      "source": [
        "# Import"
      ]
    },
    {
      "cell_type": "code",
      "metadata": {
        "id": "0hyWYiPqLdez"
      },
      "source": [
        "from tensorflow.keras.models import Model, Sequential # загружаем абстрактный класс базовой модели сети от кераса и последовательную модель\n",
        "from tensorflow.keras.layers import Dense, Flatten, Reshape, Input, Conv2DTranspose, Dropout, concatenate, Activation, MaxPooling2D, Conv2D, BatchNormalization\n",
        "from tensorflow.keras import backend as K # базовые керасовские функции\n",
        "from tensorflow.keras.optimizers import Adam \n",
        "from tensorflow.keras import utils \n",
        "\n",
        "import matplotlib.pyplot as plt # для построения графиков простых функций\n",
        "from tensorflow.keras.preprocessing import image # модуль для отрисовки изображения\n",
        "import numpy as np \n",
        "import pandas as pd \n",
        "from PIL import Image # модуль для отрисовки изображения\n",
        "from sklearn.model_selection import train_test_split # для разбивки выборки на тренировочную/тестовую\n",
        "from sklearn.preprocessing import StandardScaler # для стандартизации данных\n",
        "\n",
        "import os\n",
        "from google.colab import drive \n",
        "import time"
      ],
      "execution_count": 1,
      "outputs": []
    },
    {
      "cell_type": "code",
      "metadata": {
        "id": "INneN1KCfWkU"
      },
      "source": [
        "import pylab # для построения графиков\n",
        "# выводить изображения в ноутбуке, а не в консоль или файл\n",
        "%matplotlib inline "
      ],
      "execution_count": 2,
      "outputs": []
    },
    {
      "cell_type": "code",
      "metadata": {
        "id": "A0z0yyCJEs0v",
        "colab": {
          "base_uri": "https://localhost:8080/"
        },
        "outputId": "22d6bc31-fb44-4bfc-ddf0-e12e09d5c087"
      },
      "source": [
        "drive.mount('/content/drive/') "
      ],
      "execution_count": 3,
      "outputs": [
        {
          "output_type": "stream",
          "text": [
            "Mounted at /content/drive/\n"
          ],
          "name": "stdout"
        }
      ]
    },
    {
      "cell_type": "markdown",
      "metadata": {
        "id": "qc7BJnQF8zam"
      },
      "source": [
        "# Автокодировщик\n"
      ]
    },
    {
      "cell_type": "markdown",
      "metadata": {
        "id": "e29InQSt6Z99"
      },
      "source": [
        "## Функции"
      ]
    },
    {
      "cell_type": "code",
      "metadata": {
        "id": "32dg8H6yxOsE"
      },
      "source": [
        "def baseAutoencoder(shape=(300,300,1)): # зададим функцию создания базового автокодировщика\n",
        "    img_input = Input((shape)) # задаём входные размеры\n",
        "\n",
        "    x = Conv2D(32, (3, 3), padding='same', activation='relu')(img_input) \n",
        "    x = BatchNormalization()(x) \n",
        "    x = Conv2D(32, (3, 3), padding='same', activation='relu')(x) \n",
        "    x = BatchNormalization()(x) \n",
        "    x = MaxPooling2D()(x) \n",
        "\n",
        "    x = Conv2D(64, (3, 3), padding='same', activation='relu')(x) \n",
        "    x = BatchNormalization()(x) \n",
        "    x = Conv2D(64, (3, 3), padding='same', activation='relu')(x)  \n",
        "    x = BatchNormalization()(x) \n",
        "    z = MaxPooling2D()(x) # передаём на слой подвыборки\n",
        "    \n",
        "    # слой разжимает данные\n",
        "    x = Conv2DTranspose(64, (2, 2), strides=(2, 2), padding='same', activation='relu')(z) \n",
        "    x = BatchNormalization()(x) \n",
        "    \n",
        "    x = Conv2D(64, (3, 3), padding='same', activation='relu')(x) # передаем на слой двумерной свёртки\n",
        "    x = BatchNormalization()(x) \n",
        "    x = Conv2D(64, (3, 3), padding='same', activation='relu')(x) # ещё слой двумерной свёртки\n",
        "    x = BatchNormalization()(x)\n",
        "\n",
        "    # слой разжимает данные\n",
        "    x = Conv2DTranspose(32, (2, 2), strides=(2, 2), padding='same', activation='relu')(x) \n",
        "    x = BatchNormalization()(x) \n",
        "    x = Conv2D(32, (3, 3), padding='same', activation='relu')(x) # передаем на слой двумерной свёртки\n",
        "    x = BatchNormalization()(x) \n",
        "    x = Conv2D(32, (3, 3), padding='same', activation='relu')(x) # ещё слой двумерной свёртки\n",
        "    x = BatchNormalization()(x) \n",
        "\n",
        "    # Финальный слой двумерной свертки\n",
        "    x = Conv2D(1, (3, 3), activation='sigmoid', padding='same')(x)\n",
        "\n",
        "    model = Model(img_input, x) # указываем модель, с оригинальным изображением на входе в сеть и сжатым-разжатым на выходе из сети\n",
        "    model.compile(optimizer=Adam(lr=0.0001),\n",
        "                  loss='mean_squared_error') # компилируем модель с оптимайзером Адам и MSE\n",
        "\n",
        "    return model # функция вернёт заданную модель"
      ],
      "execution_count": 4,
      "outputs": []
    },
    {
      "cell_type": "code",
      "metadata": {
        "id": "2S1Q6KH9kO6v"
      },
      "source": [
        "def plotImages(xTrain, pred, shape=(300, 300)): # создадим функцию для вывода изображений как картинок\n",
        "  n = 5  # количество картинок, которые хотим показать\n",
        "  plt.figure(figsize=(10, 10)) # указываем размеры фигуры\n",
        "  for i in range(n): # для каждой картинки из n=5\n",
        "      index = np.random.randint(0, pred.shape[0]) # startIndex - начиная с какого индекса хотим заплотить картинки\n",
        "      # Показываем картинки из тестового набора\n",
        "      ax = plt.subplot(2, n, i + 1) # выведем область рисования Axes\n",
        "      plt.imshow(xTrain[index].reshape(shape)) # отрисуем правильные картинки в размере shape      \n",
        "      plt.gray() # выведем в черно-белом цвете\n",
        "      ax.get_xaxis().set_visible(False) # скрываем вывод координатной оси x\n",
        "      ax.get_yaxis().set_visible(False) # скрываем вывод координатной оси y\n",
        "\n",
        "      # Показываем восстановленные картинки\n",
        "      ax = plt.subplot(2, n, i + 1 + n) # выведем область рисования Axes \n",
        "      plt.imshow(pred[index].reshape(shape)) # отрисуем обработанные сеткой картинки в размере shape     \n",
        "      plt.gray() # выведем в черно-белом цвете\n",
        "      ax.get_xaxis().set_visible(False) # скрываем вывод координатной оси x\n",
        "      ax.get_yaxis().set_visible(False) # скрываем вывод координатной оси y\n",
        "  plt.show()"
      ],
      "execution_count": 96,
      "outputs": []
    },
    {
      "cell_type": "code",
      "metadata": {
        "id": "CqamHfNmsxXR"
      },
      "source": [
        "def plotImages2(xTrain, pred, shape=(300, 300), shape2=(75,75)): # создадим функцию для вывода изображений как картинок\n",
        "  n = 5  # количество картинок, которые хотим показать\n",
        "  plt.figure(figsize=(10, 10)) # указываем размеры фигуры\n",
        "  for i in range(n): # для каждой картинки из n\n",
        "      index = np.random.randint(0, pred.shape[0]) # startIndex - начиная с какого индекса хотим заплотить картинки\n",
        "      # Показываем картинки из тестового набора\n",
        "      ax = plt.subplot(2, n, i + 1) # выведем область рисования Axes\n",
        "      plt.imshow(xTrain[index].reshape(shape)) # отрисуем правильные картинки в размере shape      \n",
        "      plt.gray() # выведем в черно-белом цвете\n",
        "      ax.get_xaxis().set_visible(False) # скрываем вывод координатной оси x\n",
        "      ax.get_yaxis().set_visible(False) # скрываем вывод координатной оси y\n",
        "\n",
        "      # Показываем восстановленные картинки\n",
        "      ax = plt.subplot(2, n, i + 1 + n) # выведем область рисования Axes \n",
        "      plt.imshow(pred[index].reshape(shape2)) # отрисуем картинки в размере 75*75     \n",
        "      plt.gray() # выведем в черно-белом цвете\n",
        "      ax.get_xaxis().set_visible(False) # скрываем вывод координатной оси x\n",
        "      ax.get_yaxis().set_visible(False) # скрываем вывод координатной оси y\n",
        "  plt.show()"
      ],
      "execution_count": 97,
      "outputs": []
    },
    {
      "cell_type": "code",
      "metadata": {
        "id": "rMpOvVyhoCOC"
      },
      "source": [
        "def getMSE(x1, x2): # создадим функцию среднеквадратичной ошибки\n",
        "  x1 = x1.flatten() # сплющиваем в одномерный вектор\n",
        "  x2 = x2.flatten() # сплющиваем в одномерный вектор\n",
        "  delta = x1 - x2 # находим разницу\n",
        "  return sum(delta ** 2) / len(delta) # и возвращаем сумму квадратов разницы, делённую на длину разницы"
      ],
      "execution_count": 7,
      "outputs": []
    },
    {
      "cell_type": "code",
      "metadata": {
        "id": "731IGX1h1T3u"
      },
      "source": [
        "# функция загрузки изображений\n",
        "def load_images(images_dir, img_height, img_width): \n",
        "  list_images = [] # создаем пустой список в который будем загружать изображения\n",
        "  for img in os.listdir(images_dir): # получим список изображений и для каждого изображения\n",
        "  # добавим в список изображение в виде массива, с заданными размерами, в отенках серого\n",
        "    list_images.append(image.img_to_array(image.load_img(os.path.join(images_dir, img), target_size=(img_height, img_width), color_mode='grayscale')))\n",
        "  return np.array(list_images) # возвращаем numpy массив загруженных избражений"
      ],
      "execution_count": 8,
      "outputs": []
    },
    {
      "cell_type": "code",
      "metadata": {
        "id": "CU-DVDjpqKUz",
        "colab": {
          "base_uri": "https://localhost:8080/"
        },
        "outputId": "78ab310c-812c-47f9-ee83-08219d70fe5d"
      },
      "source": [
        "# Зададим пару массивов и проверим работу функции\n",
        "x1 = np.array([1, 1, 1]) \n",
        "x2 = np.array([0, 0, 0]) \n",
        "print(getMSE(x1,x2)) # выведем ошибку полученную нашей функцией"
      ],
      "execution_count": 9,
      "outputs": [
        {
          "output_type": "stream",
          "text": [
            "1.0\n"
          ],
          "name": "stdout"
        }
      ]
    },
    {
      "cell_type": "markdown",
      "metadata": {
        "id": "WGmuHyXfsdFv"
      },
      "source": [
        "## Подготовка"
      ]
    },
    {
      "cell_type": "code",
      "metadata": {
        "id": "qWFmOSm0pTww",
        "colab": {
          "base_uri": "https://localhost:8080/"
        },
        "outputId": "4ed9ab2a-d371-43e3-b0e5-0f8daed4184b"
      },
      "source": [
        "%%time\n",
        "# Распаковываем лошадей\n",
        "!unzip -q '/content/drive/My Drive/Colab Notebooks/Базы/horse-or-human.zip' # распоковываем базу в colaboratory"
      ],
      "execution_count": 10,
      "outputs": [
        {
          "output_type": "stream",
          "text": [
            "CPU times: user 10.5 ms, sys: 6.65 ms, total: 17.2 ms\n",
            "Wall time: 3.93 s\n"
          ],
          "name": "stdout"
        }
      ]
    },
    {
      "cell_type": "code",
      "metadata": {
        "id": "D9pNoAJSpTwx"
      },
      "source": [
        "images_dir = 'train/horses' # зададим имя папки в которую распоковали изображения\n",
        "img_height = 300 # зададим высоту изображений\n",
        "img_width = 300 # зададим ширину избражений\n",
        "\n",
        "images_dir75 = 'train/horses' # зададим имя папки в которую распоковали изображения\n",
        "img_height75 = 75 # зададим высоту изображений\n",
        "img_width75 = 75 # зададим ширину избражений"
      ],
      "execution_count": 11,
      "outputs": []
    },
    {
      "cell_type": "code",
      "metadata": {
        "colab": {
          "base_uri": "https://localhost:8080/"
        },
        "id": "915EUftB1T3v",
        "outputId": "f007c639-b20c-4040-ba2f-9037db23c11a"
      },
      "source": [
        "cur_time = time.time() \n",
        "xTrain_imag = load_images(images_dir, img_height, img_width) # загрузим избражения 300*300\n",
        "print ('Время загрузки: ', round(time.time()-cur_time, 2), 'с', sep='')"
      ],
      "execution_count": 12,
      "outputs": [
        {
          "output_type": "stream",
          "text": [
            "Время загрузки: 3.04с\n"
          ],
          "name": "stdout"
        }
      ]
    },
    {
      "cell_type": "code",
      "metadata": {
        "colab": {
          "base_uri": "https://localhost:8080/"
        },
        "id": "uLBdP_03Zovn",
        "outputId": "f72d84cd-f0ff-4a54-add3-b3573dc7a305"
      },
      "source": [
        "cur_time = time.time() \n",
        "yTrain_imag = load_images(images_dir75, img_height75, img_width75) # загрузим избражения 75*75\n",
        "print ('Время загрузки: ', round(time.time()-cur_time, 2), 'с', sep='')"
      ],
      "execution_count": 13,
      "outputs": [
        {
          "output_type": "stream",
          "text": [
            "Время загрузки: 2.82с\n"
          ],
          "name": "stdout"
        }
      ]
    },
    {
      "cell_type": "code",
      "metadata": {
        "id": "OSwhplTW4FAB"
      },
      "source": [
        "xTrain_img = xTrain_imag/255 # отнормируем изображения \n",
        "yTrain_img = yTrain_imag/255"
      ],
      "execution_count": 14,
      "outputs": []
    },
    {
      "cell_type": "code",
      "metadata": {
        "colab": {
          "base_uri": "https://localhost:8080/"
        },
        "id": "QRnfjAQc4FAB",
        "outputId": "6696885c-a19e-41dd-be55-82012caacdfc"
      },
      "source": [
        "xTrain_img.shape # выведем размерность"
      ],
      "execution_count": 15,
      "outputs": [
        {
          "output_type": "execute_result",
          "data": {
            "text/plain": [
              "(500, 300, 300, 1)"
            ]
          },
          "metadata": {
            "tags": []
          },
          "execution_count": 15
        }
      ]
    },
    {
      "cell_type": "code",
      "metadata": {
        "colab": {
          "base_uri": "https://localhost:8080/"
        },
        "id": "P44vZwQ5aTFg",
        "outputId": "b87b0a51-f09f-4551-cb65-2d979be06f7a"
      },
      "source": [
        "yTrain_img.shape"
      ],
      "execution_count": 16,
      "outputs": [
        {
          "output_type": "execute_result",
          "data": {
            "text/plain": [
              "(500, 75, 75, 1)"
            ]
          },
          "metadata": {
            "tags": []
          },
          "execution_count": 16
        }
      ]
    },
    {
      "cell_type": "markdown",
      "metadata": {
        "id": "Zy4HphNcz6lk"
      },
      "source": [
        "## Horse. Часть 0. 300 -> 75 -> 300\n",
        "Автоэнкодер как в уроке 9"
      ]
    },
    {
      "cell_type": "code",
      "metadata": {
        "colab": {
          "base_uri": "https://localhost:8080/",
          "height": 269
        },
        "id": "U7FXzTHd4FAD",
        "outputId": "c48937e6-2e1f-42c8-c4d9-564ee3947c67"
      },
      "source": [
        "plt.imshow(xTrain_img[np.random.randint(0, xTrain_img.shape[0])].reshape(300,300), cmap='gray') #выведем случайное изображение\n",
        "plt.show()"
      ],
      "execution_count": null,
      "outputs": [
        {
          "output_type": "display_data",
          "data": {
            "image/png": "[encoded data removed]",
            "text/plain": [
              "<Figure size 432x288 with 1 Axes>"
            ]
          },
          "metadata": {
            "tags": [],
            "needs_background": "light"
          }
        }
      ]
    },
    {
      "cell_type": "code",
      "metadata": {
        "colab": {
          "base_uri": "https://localhost:8080/"
        },
        "id": "bsbBI-bU4FAD",
        "outputId": "b17dac88-9289-4a85-fda9-0bbf62b67a41"
      },
      "source": [
        "modelAutoFace = baseAutoencoder() # создаем автокодировщик\n",
        "# грузим данные в нашу модель, берём первые 460 из xTrain_img и на вход, и на выход, в качестве проверочной берем оставшиеся из xTrain_img\n",
        "modelAutoFace.fit(xTrain_img[:460], xTrain_img[:460], epochs=150, validation_data = (xTrain_img[460:], xTrain_img[460:]))"
      ],
      "execution_count": null,
      "outputs": [
        {
          "output_type": "stream",
          "text": [
            "Epoch 1/150\n",
            " 2/15 [===>..........................] - ETA: 4s - loss: 0.1281WARNING:tensorflow:Callbacks method `on_train_batch_end` is slow compared to the batch time (batch time: 0.1827s vs `on_train_batch_end` time: 0.4405s). Check your callbacks.\n",
            "15/15 [==============================] - 10s 679ms/step - loss: 0.0689 - val_loss: 0.0779\n",
            "Epoch 2/150\n",
            "15/15 [==============================] - 9s 622ms/step - loss: 0.0260 - val_loss: 0.0775\n",
            "Epoch 3/150\n",
            "15/15 [==============================] - 9s 605ms/step - loss: 0.0172 - val_loss: 0.0775\n",
            "Epoch 4/150\n",
            "15/15 [==============================] - 9s 593ms/step - loss: 0.0126 - val_loss: 0.0770\n",
            "Epoch 5/150\n",
            "15/15 [==============================] - 9s 585ms/step - loss: 0.0094 - val_loss: 0.0770\n",
            "Epoch 6/150\n",
            "15/15 [==============================] - 9s 583ms/step - loss: 0.0076 - val_loss: 0.0763\n",
            "Epoch 7/150\n",
            "15/15 [==============================] - 9s 585ms/step - loss: 0.0068 - val_loss: 0.0770\n",
            "Epoch 8/150\n",
            "15/15 [==============================] - 9s 585ms/step - loss: 0.0060 - val_loss: 0.0746\n",
            "Epoch 9/150\n",
            "15/15 [==============================] - 9s 591ms/step - loss: 0.0051 - val_loss: 0.0733\n",
            "Epoch 10/150\n",
            "15/15 [==============================] - 9s 593ms/step - loss: 0.0051 - val_loss: 0.0718\n",
            "Epoch 11/150\n",
            "15/15 [==============================] - 9s 596ms/step - loss: 0.0049 - val_loss: 0.0690\n",
            "Epoch 12/150\n",
            "15/15 [==============================] - 9s 597ms/step - loss: 0.0051 - val_loss: 0.0670\n",
            "Epoch 13/150\n",
            "15/15 [==============================] - 9s 594ms/step - loss: 0.0049 - val_loss: 0.0639\n",
            "Epoch 14/150\n",
            "15/15 [==============================] - 9s 591ms/step - loss: 0.0039 - val_loss: 0.0612\n",
            "Epoch 15/150\n",
            "15/15 [==============================] - 9s 590ms/step - loss: 0.0052 - val_loss: 0.0580\n",
            "Epoch 16/150\n",
            "15/15 [==============================] - 9s 586ms/step - loss: 0.0036 - val_loss: 0.0553\n",
            "Epoch 17/150\n",
            "15/15 [==============================] - 9s 586ms/step - loss: 0.0037 - val_loss: 0.0534\n",
            "Epoch 18/150\n",
            "15/15 [==============================] - 9s 589ms/step - loss: 0.0039 - val_loss: 0.0499\n",
            "Epoch 19/150\n",
            "15/15 [==============================] - 9s 590ms/step - loss: 0.0033 - val_loss: 0.0475\n",
            "Epoch 20/150\n",
            "15/15 [==============================] - 9s 589ms/step - loss: 0.0031 - val_loss: 0.0451\n",
            "Epoch 21/150\n",
            "15/15 [==============================] - 9s 591ms/step - loss: 0.0034 - val_loss: 0.0418\n",
            "Epoch 22/150\n",
            "15/15 [==============================] - 9s 588ms/step - loss: 0.0029 - val_loss: 0.0399\n",
            "Epoch 23/150\n",
            "15/15 [==============================] - 9s 591ms/step - loss: 0.0028 - val_loss: 0.0379\n",
            "Epoch 24/150\n",
            "15/15 [==============================] - 9s 591ms/step - loss: 0.0027 - val_loss: 0.0354\n",
            "Epoch 25/150\n",
            "15/15 [==============================] - 9s 590ms/step - loss: 0.0029 - val_loss: 0.0325\n",
            "Epoch 26/150\n",
            "15/15 [==============================] - 9s 590ms/step - loss: 0.0026 - val_loss: 0.0304\n",
            "Epoch 27/150\n",
            "15/15 [==============================] - 9s 592ms/step - loss: 0.0026 - val_loss: 0.0290\n",
            "Epoch 28/150\n",
            "15/15 [==============================] - 9s 591ms/step - loss: 0.0028 - val_loss: 0.0261\n",
            "Epoch 29/150\n",
            "15/15 [==============================] - 9s 590ms/step - loss: 0.0034 - val_loss: 0.0238\n",
            "Epoch 30/150\n",
            "15/15 [==============================] - 9s 590ms/step - loss: 0.0023 - val_loss: 0.0215\n",
            "Epoch 31/150\n",
            "15/15 [==============================] - 9s 591ms/step - loss: 0.0021 - val_loss: 0.0198\n",
            "Epoch 32/150\n",
            "15/15 [==============================] - 9s 590ms/step - loss: 0.0025 - val_loss: 0.0180\n",
            "Epoch 33/150\n",
            "15/15 [==============================] - 9s 591ms/step - loss: 0.0025 - val_loss: 0.0153\n",
            "Epoch 34/150\n",
            "15/15 [==============================] - 9s 591ms/step - loss: 0.0030 - val_loss: 0.0142\n",
            "Epoch 35/150\n",
            "15/15 [==============================] - 9s 589ms/step - loss: 0.0022 - val_loss: 0.0116\n",
            "Epoch 36/150\n",
            "15/15 [==============================] - 9s 587ms/step - loss: 0.0026 - val_loss: 0.0112\n",
            "Epoch 37/150\n",
            "15/15 [==============================] - 9s 589ms/step - loss: 0.0029 - val_loss: 0.0093\n",
            "Epoch 38/150\n",
            "15/15 [==============================] - 9s 589ms/step - loss: 0.0034 - val_loss: 0.0087\n",
            "Epoch 39/150\n",
            "15/15 [==============================] - 9s 588ms/step - loss: 0.0023 - val_loss: 0.0068\n",
            "Epoch 40/150\n",
            "15/15 [==============================] - 9s 588ms/step - loss: 0.0028 - val_loss: 0.0062\n",
            "Epoch 41/150\n",
            "15/15 [==============================] - 9s 588ms/step - loss: 0.0021 - val_loss: 0.0044\n",
            "Epoch 42/150\n",
            "15/15 [==============================] - 9s 587ms/step - loss: 0.0023 - val_loss: 0.0039\n",
            "Epoch 43/150\n",
            "15/15 [==============================] - 9s 588ms/step - loss: 0.0018 - val_loss: 0.0036\n",
            "Epoch 44/150\n",
            "15/15 [==============================] - 9s 589ms/step - loss: 0.0022 - val_loss: 0.0032\n",
            "Epoch 45/150\n",
            "15/15 [==============================] - 9s 590ms/step - loss: 0.0026 - val_loss: 0.0026\n",
            "Epoch 46/150\n",
            "15/15 [==============================] - 9s 590ms/step - loss: 0.0020 - val_loss: 0.0023\n",
            "Epoch 47/150\n",
            "15/15 [==============================] - 9s 592ms/step - loss: 0.0025 - val_loss: 0.0021\n",
            "Epoch 48/150\n",
            "15/15 [==============================] - 9s 591ms/step - loss: 0.0019 - val_loss: 0.0017\n",
            "Epoch 49/150\n",
            "15/15 [==============================] - 9s 591ms/step - loss: 0.0030 - val_loss: 0.0021\n",
            "Epoch 50/150\n",
            "15/15 [==============================] - 9s 591ms/step - loss: 0.0035 - val_loss: 0.0015\n",
            "Epoch 51/150\n",
            "15/15 [==============================] - 9s 590ms/step - loss: 0.0029 - val_loss: 0.0017\n",
            "Epoch 52/150\n",
            "15/15 [==============================] - 9s 589ms/step - loss: 0.0027 - val_loss: 0.0016\n",
            "Epoch 53/150\n",
            "15/15 [==============================] - 9s 589ms/step - loss: 0.0018 - val_loss: 0.0014\n",
            "Epoch 54/150\n",
            "15/15 [==============================] - 9s 590ms/step - loss: 0.0024 - val_loss: 0.0013\n",
            "Epoch 55/150\n",
            "15/15 [==============================] - 9s 589ms/step - loss: 0.0021 - val_loss: 0.0013\n",
            "Epoch 56/150\n",
            "15/15 [==============================] - 9s 589ms/step - loss: 0.0019 - val_loss: 0.0014\n",
            "Epoch 57/150\n",
            "15/15 [==============================] - 9s 588ms/step - loss: 0.0021 - val_loss: 0.0013\n",
            "Epoch 58/150\n",
            "15/15 [==============================] - 9s 587ms/step - loss: 0.0019 - val_loss: 0.0012\n",
            "Epoch 59/150\n",
            "15/15 [==============================] - 9s 586ms/step - loss: 0.0019 - val_loss: 0.0012\n",
            "Epoch 60/150\n",
            "15/15 [==============================] - 9s 587ms/step - loss: 0.0023 - val_loss: 0.0012\n",
            "Epoch 61/150\n",
            "15/15 [==============================] - 9s 589ms/step - loss: 0.0024 - val_loss: 0.0012\n",
            "Epoch 62/150\n",
            "15/15 [==============================] - 9s 588ms/step - loss: 0.0025 - val_loss: 0.0013\n",
            "Epoch 63/150\n",
            "15/15 [==============================] - 9s 589ms/step - loss: 0.0025 - val_loss: 0.0012\n",
            "Epoch 64/150\n",
            "15/15 [==============================] - 9s 590ms/step - loss: 0.0025 - val_loss: 0.0011\n",
            "Epoch 65/150\n",
            "15/15 [==============================] - 9s 590ms/step - loss: 0.0021 - val_loss: 0.0011\n",
            "Epoch 66/150\n",
            "15/15 [==============================] - 9s 588ms/step - loss: 0.0016 - val_loss: 0.0011\n",
            "Epoch 67/150\n",
            "15/15 [==============================] - 9s 587ms/step - loss: 0.0019 - val_loss: 0.0012\n",
            "Epoch 68/150\n",
            "15/15 [==============================] - 9s 588ms/step - loss: 0.0017 - val_loss: 0.0012\n",
            "Epoch 69/150\n",
            "15/15 [==============================] - 9s 589ms/step - loss: 0.0020 - val_loss: 0.0011\n",
            "Epoch 70/150\n",
            "15/15 [==============================] - 9s 587ms/step - loss: 0.0016 - val_loss: 0.0011\n",
            "Epoch 71/150\n",
            "15/15 [==============================] - 9s 587ms/step - loss: 0.0020 - val_loss: 0.0012\n",
            "Epoch 72/150\n",
            "15/15 [==============================] - 9s 590ms/step - loss: 0.0028 - val_loss: 0.0015\n",
            "Epoch 73/150\n",
            "15/15 [==============================] - 9s 588ms/step - loss: 0.0020 - val_loss: 0.0011\n",
            "Epoch 74/150\n",
            "15/15 [==============================] - 9s 589ms/step - loss: 0.0025 - val_loss: 0.0011\n",
            "Epoch 75/150\n",
            "15/15 [==============================] - 9s 589ms/step - loss: 0.0016 - val_loss: 0.0011\n",
            "Epoch 76/150\n",
            "15/15 [==============================] - 9s 589ms/step - loss: 0.0016 - val_loss: 0.0012\n",
            "Epoch 77/150\n",
            "15/15 [==============================] - 9s 590ms/step - loss: 0.0019 - val_loss: 0.0011\n",
            "Epoch 78/150\n",
            "15/15 [==============================] - 9s 590ms/step - loss: 0.0018 - val_loss: 0.0011\n",
            "Epoch 79/150\n",
            "15/15 [==============================] - 9s 590ms/step - loss: 0.0020 - val_loss: 0.0011\n",
            "Epoch 80/150\n",
            "15/15 [==============================] - 9s 590ms/step - loss: 0.0014 - val_loss: 0.0010\n",
            "Epoch 81/150\n",
            "15/15 [==============================] - 9s 590ms/step - loss: 0.0019 - val_loss: 0.0011\n",
            "Epoch 82/150\n",
            "15/15 [==============================] - 9s 588ms/step - loss: 0.0017 - val_loss: 0.0012\n",
            "Epoch 83/150\n",
            "15/15 [==============================] - 9s 588ms/step - loss: 0.0018 - val_loss: 0.0010\n",
            "Epoch 84/150\n",
            "15/15 [==============================] - 9s 588ms/step - loss: 0.0017 - val_loss: 0.0011\n",
            "Epoch 85/150\n",
            "15/15 [==============================] - 9s 589ms/step - loss: 0.0016 - val_loss: 0.0010\n",
            "Epoch 86/150\n",
            "15/15 [==============================] - 9s 590ms/step - loss: 0.0018 - val_loss: 0.0012\n",
            "Epoch 87/150\n",
            "15/15 [==============================] - 9s 590ms/step - loss: 0.0016 - val_loss: 9.9153e-04\n",
            "Epoch 88/150\n",
            "15/15 [==============================] - 9s 589ms/step - loss: 0.0014 - val_loss: 9.7928e-04\n",
            "Epoch 89/150\n",
            "15/15 [==============================] - 9s 589ms/step - loss: 0.0017 - val_loss: 9.7330e-04\n",
            "Epoch 90/150\n",
            "15/15 [==============================] - 9s 588ms/step - loss: 0.0016 - val_loss: 9.7245e-04\n",
            "Epoch 91/150\n",
            "15/15 [==============================] - 9s 588ms/step - loss: 0.0020 - val_loss: 9.7919e-04\n",
            "Epoch 92/150\n",
            "15/15 [==============================] - 9s 590ms/step - loss: 0.0018 - val_loss: 0.0012\n",
            "Epoch 93/150\n",
            "15/15 [==============================] - 9s 590ms/step - loss: 0.0019 - val_loss: 9.7583e-04\n",
            "Epoch 94/150\n",
            "15/15 [==============================] - 9s 590ms/step - loss: 0.0016 - val_loss: 9.9047e-04\n",
            "Epoch 95/150\n",
            "15/15 [==============================] - 9s 589ms/step - loss: 0.0018 - val_loss: 9.8184e-04\n",
            "Epoch 96/150\n",
            "15/15 [==============================] - 9s 589ms/step - loss: 0.0015 - val_loss: 0.0011\n",
            "Epoch 97/150\n",
            "15/15 [==============================] - 9s 590ms/step - loss: 0.0014 - val_loss: 0.0012\n",
            "Epoch 98/150\n",
            "15/15 [==============================] - 9s 588ms/step - loss: 0.0017 - val_loss: 9.7272e-04\n",
            "Epoch 99/150\n",
            "15/15 [==============================] - 9s 590ms/step - loss: 0.0018 - val_loss: 0.0011\n",
            "Epoch 100/150\n",
            "15/15 [==============================] - 9s 588ms/step - loss: 0.0017 - val_loss: 0.0011\n",
            "Epoch 101/150\n",
            "15/15 [==============================] - 9s 589ms/step - loss: 0.0016 - val_loss: 0.0011\n",
            "Epoch 102/150\n",
            "15/15 [==============================] - 9s 589ms/step - loss: 0.0017 - val_loss: 0.0010\n",
            "Epoch 103/150\n",
            "15/15 [==============================] - 9s 590ms/step - loss: 0.0013 - val_loss: 9.5660e-04\n",
            "Epoch 104/150\n",
            "15/15 [==============================] - 9s 589ms/step - loss: 0.0012 - val_loss: 9.1426e-04\n",
            "Epoch 105/150\n",
            "15/15 [==============================] - 9s 591ms/step - loss: 0.0017 - val_loss: 9.1694e-04\n",
            "Epoch 106/150\n",
            "15/15 [==============================] - 9s 591ms/step - loss: 0.0016 - val_loss: 0.0010\n",
            "Epoch 107/150\n",
            "15/15 [==============================] - 9s 590ms/step - loss: 0.0023 - val_loss: 9.1769e-04\n",
            "Epoch 108/150\n",
            "15/15 [==============================] - 9s 590ms/step - loss: 0.0019 - val_loss: 0.0010\n",
            "Epoch 109/150\n",
            "15/15 [==============================] - 9s 592ms/step - loss: 0.0015 - val_loss: 9.5065e-04\n",
            "Epoch 110/150\n",
            "15/15 [==============================] - 9s 590ms/step - loss: 0.0013 - val_loss: 9.2122e-04\n",
            "Epoch 111/150\n",
            "15/15 [==============================] - 9s 588ms/step - loss: 0.0017 - val_loss: 0.0011\n",
            "Epoch 112/150\n",
            "15/15 [==============================] - 9s 591ms/step - loss: 0.0016 - val_loss: 9.8228e-04\n",
            "Epoch 113/150\n",
            "15/15 [==============================] - 9s 591ms/step - loss: 0.0014 - val_loss: 9.9732e-04\n",
            "Epoch 114/150\n",
            "15/15 [==============================] - 9s 590ms/step - loss: 0.0019 - val_loss: 0.0011\n",
            "Epoch 115/150\n",
            "15/15 [==============================] - 9s 589ms/step - loss: 0.0017 - val_loss: 0.0012\n",
            "Epoch 116/150\n",
            "15/15 [==============================] - 9s 589ms/step - loss: 0.0017 - val_loss: 9.8631e-04\n",
            "Epoch 117/150\n",
            "15/15 [==============================] - 9s 587ms/step - loss: 0.0016 - val_loss: 8.6283e-04\n",
            "Epoch 118/150\n",
            "15/15 [==============================] - 9s 588ms/step - loss: 0.0014 - val_loss: 9.2239e-04\n",
            "Epoch 119/150\n",
            "15/15 [==============================] - 9s 590ms/step - loss: 0.0016 - val_loss: 8.7038e-04\n",
            "Epoch 120/150\n",
            "15/15 [==============================] - 9s 590ms/step - loss: 0.0018 - val_loss: 0.0010\n",
            "Epoch 121/150\n",
            "15/15 [==============================] - 9s 588ms/step - loss: 0.0021 - val_loss: 8.3628e-04\n",
            "Epoch 122/150\n",
            "15/15 [==============================] - 9s 588ms/step - loss: 0.0017 - val_loss: 0.0012\n",
            "Epoch 123/150\n",
            "15/15 [==============================] - 9s 588ms/step - loss: 0.0018 - val_loss: 8.5172e-04\n",
            "Epoch 124/150\n",
            "15/15 [==============================] - 9s 588ms/step - loss: 0.0016 - val_loss: 8.4144e-04\n",
            "Epoch 125/150\n",
            "15/15 [==============================] - 9s 589ms/step - loss: 0.0019 - val_loss: 8.7089e-04\n",
            "Epoch 126/150\n",
            "15/15 [==============================] - 9s 586ms/step - loss: 0.0016 - val_loss: 9.4574e-04\n",
            "Epoch 127/150\n",
            "15/15 [==============================] - 9s 589ms/step - loss: 0.0014 - val_loss: 9.0535e-04\n",
            "Epoch 128/150\n",
            "15/15 [==============================] - 9s 587ms/step - loss: 0.0013 - val_loss: 8.4565e-04\n",
            "Epoch 129/150\n",
            "15/15 [==============================] - 9s 587ms/step - loss: 0.0014 - val_loss: 9.0592e-04\n",
            "Epoch 130/150\n",
            "15/15 [==============================] - 9s 589ms/step - loss: 0.0014 - val_loss: 8.1442e-04\n",
            "Epoch 131/150\n",
            "15/15 [==============================] - 9s 585ms/step - loss: 0.0015 - val_loss: 8.4602e-04\n",
            "Epoch 132/150\n",
            "15/15 [==============================] - 9s 589ms/step - loss: 0.0011 - val_loss: 9.4405e-04\n",
            "Epoch 133/150\n",
            "15/15 [==============================] - 9s 586ms/step - loss: 0.0015 - val_loss: 8.5896e-04\n",
            "Epoch 134/150\n",
            "15/15 [==============================] - 9s 588ms/step - loss: 0.0014 - val_loss: 8.3105e-04\n",
            "Epoch 135/150\n",
            "15/15 [==============================] - 9s 588ms/step - loss: 0.0012 - val_loss: 8.0624e-04\n",
            "Epoch 136/150\n",
            "15/15 [==============================] - 9s 590ms/step - loss: 9.3684e-04 - val_loss: 8.0398e-04\n",
            "Epoch 137/150\n",
            "15/15 [==============================] - 9s 587ms/step - loss: 0.0010 - val_loss: 8.4314e-04\n",
            "Epoch 138/150\n",
            "15/15 [==============================] - 9s 590ms/step - loss: 0.0018 - val_loss: 8.9761e-04\n",
            "Epoch 139/150\n",
            "15/15 [==============================] - 9s 588ms/step - loss: 0.0014 - val_loss: 9.9010e-04\n",
            "Epoch 140/150\n",
            "15/15 [==============================] - 9s 590ms/step - loss: 0.0014 - val_loss: 7.9925e-04\n",
            "Epoch 141/150\n",
            "15/15 [==============================] - 9s 588ms/step - loss: 0.0014 - val_loss: 8.0167e-04\n",
            "Epoch 142/150\n",
            "15/15 [==============================] - 9s 589ms/step - loss: 0.0019 - val_loss: 8.4557e-04\n",
            "Epoch 143/150\n",
            "15/15 [==============================] - 9s 589ms/step - loss: 0.0012 - val_loss: 9.5833e-04\n",
            "Epoch 144/150\n",
            "15/15 [==============================] - 9s 587ms/step - loss: 0.0012 - val_loss: 8.2438e-04\n",
            "Epoch 145/150\n",
            "15/15 [==============================] - 9s 588ms/step - loss: 0.0014 - val_loss: 7.9919e-04\n",
            "Epoch 146/150\n",
            "15/15 [==============================] - 9s 589ms/step - loss: 0.0012 - val_loss: 8.6873e-04\n",
            "Epoch 147/150\n",
            "15/15 [==============================] - 9s 588ms/step - loss: 0.0014 - val_loss: 8.6623e-04\n",
            "Epoch 148/150\n",
            "15/15 [==============================] - 9s 588ms/step - loss: 0.0013 - val_loss: 8.5694e-04\n",
            "Epoch 149/150\n",
            "15/15 [==============================] - 9s 587ms/step - loss: 0.0013 - val_loss: 8.6592e-04\n",
            "Epoch 150/150\n",
            "15/15 [==============================] - 9s 588ms/step - loss: 0.0015 - val_loss: 8.1831e-04\n"
          ],
          "name": "stdout"
        },
        {
          "output_type": "execute_result",
          "data": {
            "text/plain": [
              "<tensorflow.python.keras.callbacks.History at 0x7f630876ae48>"
            ]
          },
          "metadata": {
            "tags": []
          },
          "execution_count": 23
        }
      ]
    },
    {
      "cell_type": "code",
      "metadata": {
        "id": "n3yy1DRS4FAE"
      },
      "source": [
        "modelAutoFace.save_weights('modelAutoFace.h5')\n",
        "modelAutoFace.load_weights('modelAutoFace.h5') "
      ],
      "execution_count": null,
      "outputs": []
    },
    {
      "cell_type": "code",
      "metadata": {
        "id": "9TRTe_Cg4FAE"
      },
      "source": [
        "predFace = modelAutoFace.predict(xTrain_img[:100]) # сделаем предикт для первых ста картинок\n",
        "\n",
        "predFace = predFace * 255 # представляем в виде значений от 0 до 255\n",
        "predFace = predFace.astype('uint8') # устанавливаем 8битовый тип"
      ],
      "execution_count": null,
      "outputs": []
    },
    {
      "cell_type": "code",
      "metadata": {
        "colab": {
          "base_uri": "https://localhost:8080/",
          "height": 427
        },
        "id": "zrlpP7XR4FAE",
        "outputId": "9d0afec7-8fc3-4b66-b959-7448a832ed4f"
      },
      "source": [
        "plotImages(xTrain_img, predFace) #выведем оригинальные и сгенерированные автокодировщиком"
      ],
      "execution_count": null,
      "outputs": [
        {
          "output_type": "display_data",
          "data": {
            "image/png": "[encoded data removed]",
            "text/plain": [
              "<Figure size 720x720 with 10 Axes>"
            ]
          },
          "metadata": {
            "tags": [],
            "needs_background": "light"
          }
        }
      ]
    },
    {
      "cell_type": "code",
      "metadata": {
        "colab": {
          "base_uri": "https://localhost:8080/"
        },
        "id": "-Kk1dndY4FAF",
        "outputId": "d42e0c8f-086d-4178-a462-8231e08896c8"
      },
      "source": [
        "# Возьмем среднеквадратичные ошибки и выведем их \n",
        "errFace = [getMSE(xTrain_img[i], predFace[i] / 255) for i in range(len(predFace))] # посчитаем ошибку для всех изображений\n",
        "print(\"Ошибка на лошадях:\", errFace[80:]) #посмотрим последнии 20\n",
        "print(\"Средняя ошибка на лошадях:\", round(sum(errFace[80:]) / len(errFace[80:]), 4)) # посчитаем для последних 20 среднюю ошибку\n",
        "print(\"Минимальная ошибка на лошадях:\", round(min(errFace),4)) #найдем минимальную ошибку"
      ],
      "execution_count": null,
      "outputs": [
        {
          "output_type": "stream",
          "text": [
            "Ошибка на лошадях: [0.0010393381460817607, 0.0006163348343274977, 0.0005675960140231006, 0.0008710246002512597, 0.0011021831572588718, 0.0013613250818040748, 0.0005008192654761355, 0.0007964870835828825, 0.0008783210764179701, 0.0006390472157404581, 0.0010190605102916622, 0.0008428917715959996, 0.0007651054972001033, 0.0008988437833456474, 0.000740064561113337, 0.0009594264805309394, 0.0009573262173588046, 0.0006473014366765881, 0.0009714319811371685, 0.0005714350791724431]\n",
            "Средняя ошибка на лошадях: 0.0008\n",
            "Минимальная ошибка на лошадях: 0.0004\n"
          ],
          "name": "stdout"
        }
      ]
    },
    {
      "cell_type": "code",
      "metadata": {
        "colab": {
          "base_uri": "https://localhost:8080/"
        },
        "id": "77Brg_dD4FAG",
        "outputId": "dba4bec8-e746-480a-cf07-e2070a7211ca"
      },
      "source": [
        "bias = 0.0004 # установим пороговое значение\n",
        "\n",
        "isFace = [e < bias for e in errFace[80:]] # запишем каждую ошибку больше порогового значения\n",
        "\n",
        "print(\"Лошади распознаны, как лошади: \", round(100*sum(isFace) / len(isFace)),\"%\", sep=\"\")"
      ],
      "execution_count": null,
      "outputs": [
        {
          "output_type": "stream",
          "text": [
            "Лошади распознаны, как лошади: 0.0%\n"
          ],
          "name": "stdout"
        }
      ]
    },
    {
      "cell_type": "markdown",
      "metadata": {
        "id": "C6r172ymxdTK"
      },
      "source": [
        "## Часть 1. Cжатие (300 -> 75)"
      ]
    },
    {
      "cell_type": "code",
      "metadata": {
        "id": "8oK2uP7M0kKS"
      },
      "source": [
        "def baseAutoencoder3(shape=(300,300,1)): # зададим функцию создания базового автокодировщика\n",
        "    img_input = Input((shape)) # задаём входные размеры\n",
        "\n",
        "    x = Conv2D(32, (3, 3), padding='same', activation='relu')(img_input) \n",
        "    x = BatchNormalization()(x) \n",
        "    x = Conv2D(32, (3, 3), padding='same', activation='relu')(x) \n",
        "    x = BatchNormalization()(x) \n",
        "    x = MaxPooling2D()(x) \n",
        "\n",
        "    # передаем на слой двумерной свёртки\n",
        "    x = Conv2D(64, (3, 3), padding='same', activation='relu')(x) \n",
        "    x = BatchNormalization()(x) \n",
        "    x = Conv2D(64, (3, 3), padding='same', activation='relu')(x)  \n",
        "    x = BatchNormalization()(x) \n",
        "    z = MaxPooling2D()(x) \n",
        "    \n",
        "    # Финальный слой двумерной свертки, выдающий итоговое изображение\n",
        "    z = Conv2D(1, (3, 3), activation='sigmoid', padding='same')(z)\n",
        "\n",
        "    model = Model(img_input, z) # указываем модель, с оригинальным изображением на входе в сеть и сжатым на выходе из сети\n",
        "    model.compile(optimizer='adam',\n",
        "                  loss='mse')\n",
        "\n",
        "    return model "
      ],
      "execution_count": 18,
      "outputs": []
    },
    {
      "cell_type": "code",
      "metadata": {
        "colab": {
          "base_uri": "https://localhost:8080/"
        },
        "id": "CryH_nVbxi7n",
        "outputId": "78412a5b-fdbc-48c5-92e2-10723936c677"
      },
      "source": [
        "%%time\n",
        "modelAutoHorse = baseAutoencoder3() # создаем автокодировщик\n",
        "# грузим данные в нашу модель, берём первые 460 из xTrain_img и на вход, и на выход, в качестве проверочной берем оставшиеся из xTrain_img\n",
        "modelAutoHorse.fit(xTrain_img[:460], yTrain_img[:460], epochs=70, validation_data = (xTrain_img[460:], yTrain_img[460:]))"
      ],
      "execution_count": 28,
      "outputs": [
        {
          "output_type": "stream",
          "text": [
            "Epoch 1/70\n",
            " 2/15 [===>..........................] - ETA: 2s - loss: 0.1040WARNING:tensorflow:Callbacks method `on_train_batch_end` is slow compared to the batch time (batch time: 0.0700s vs `on_train_batch_end` time: 0.1607s). Check your callbacks.\n",
            "15/15 [==============================] - 4s 247ms/step - loss: 0.0368 - val_loss: 0.0685\n",
            "Epoch 2/70\n",
            "15/15 [==============================] - 3s 229ms/step - loss: 0.0068 - val_loss: 0.0705\n",
            "Epoch 3/70\n",
            "15/15 [==============================] - 3s 229ms/step - loss: 0.0031 - val_loss: 0.0729\n",
            "Epoch 4/70\n",
            "15/15 [==============================] - 3s 231ms/step - loss: 0.0025 - val_loss: 0.0723\n",
            "Epoch 5/70\n",
            "15/15 [==============================] - 3s 232ms/step - loss: 0.0030 - val_loss: 0.0744\n",
            "Epoch 6/70\n",
            "15/15 [==============================] - 4s 234ms/step - loss: 0.0022 - val_loss: 0.0719\n",
            "Epoch 7/70\n",
            "15/15 [==============================] - 4s 234ms/step - loss: 0.0025 - val_loss: 0.0704\n",
            "Epoch 8/70\n",
            "15/15 [==============================] - 4s 236ms/step - loss: 0.0029 - val_loss: 0.0679\n",
            "Epoch 9/70\n",
            "15/15 [==============================] - 4s 238ms/step - loss: 0.0024 - val_loss: 0.0668\n",
            "Epoch 10/70\n",
            "15/15 [==============================] - 4s 238ms/step - loss: 0.0019 - val_loss: 0.0643\n",
            "Epoch 11/70\n",
            "15/15 [==============================] - 4s 237ms/step - loss: 0.0027 - val_loss: 0.0621\n",
            "Epoch 12/70\n",
            "15/15 [==============================] - 4s 236ms/step - loss: 0.0020 - val_loss: 0.0608\n",
            "Epoch 13/70\n",
            "15/15 [==============================] - 4s 234ms/step - loss: 0.0021 - val_loss: 0.0611\n",
            "Epoch 14/70\n",
            "15/15 [==============================] - 4s 234ms/step - loss: 0.0021 - val_loss: 0.0667\n",
            "Epoch 15/70\n",
            "15/15 [==============================] - 4s 234ms/step - loss: 0.0021 - val_loss: 0.0573\n",
            "Epoch 16/70\n",
            "15/15 [==============================] - 4s 234ms/step - loss: 0.0017 - val_loss: 0.0543\n",
            "Epoch 17/70\n",
            "15/15 [==============================] - 3s 232ms/step - loss: 0.0021 - val_loss: 0.0564\n",
            "Epoch 18/70\n",
            "15/15 [==============================] - 3s 232ms/step - loss: 0.0018 - val_loss: 0.0524\n",
            "Epoch 19/70\n",
            "15/15 [==============================] - 3s 232ms/step - loss: 0.0014 - val_loss: 0.0526\n",
            "Epoch 20/70\n",
            "15/15 [==============================] - 3s 231ms/step - loss: 0.0016 - val_loss: 0.0477\n",
            "Epoch 21/70\n",
            "15/15 [==============================] - 3s 231ms/step - loss: 0.0016 - val_loss: 0.0472\n",
            "Epoch 22/70\n",
            "15/15 [==============================] - 3s 231ms/step - loss: 0.0015 - val_loss: 0.0473\n",
            "Epoch 23/70\n",
            "15/15 [==============================] - 3s 231ms/step - loss: 0.0015 - val_loss: 0.0424\n",
            "Epoch 24/70\n",
            "15/15 [==============================] - 3s 231ms/step - loss: 0.0015 - val_loss: 0.0418\n",
            "Epoch 25/70\n",
            "15/15 [==============================] - 3s 231ms/step - loss: 0.0027 - val_loss: 0.0483\n",
            "Epoch 26/70\n",
            "15/15 [==============================] - 3s 232ms/step - loss: 0.0021 - val_loss: 0.0444\n",
            "Epoch 27/70\n",
            "15/15 [==============================] - 3s 233ms/step - loss: 0.0023 - val_loss: 0.0413\n",
            "Epoch 28/70\n",
            "15/15 [==============================] - 3s 233ms/step - loss: 0.0022 - val_loss: 0.0365\n",
            "Epoch 29/70\n",
            "15/15 [==============================] - 3s 233ms/step - loss: 0.0019 - val_loss: 0.0325\n",
            "Epoch 30/70\n",
            "15/15 [==============================] - 4s 234ms/step - loss: 0.0017 - val_loss: 0.0263\n",
            "Epoch 31/70\n",
            "15/15 [==============================] - 4s 234ms/step - loss: 0.0017 - val_loss: 0.0207\n",
            "Epoch 32/70\n",
            "15/15 [==============================] - 4s 234ms/step - loss: 0.0012 - val_loss: 0.0253\n",
            "Epoch 33/70\n",
            "15/15 [==============================] - 4s 235ms/step - loss: 0.0018 - val_loss: 0.0253\n",
            "Epoch 34/70\n",
            "15/15 [==============================] - 4s 235ms/step - loss: 0.0020 - val_loss: 0.0202\n",
            "Epoch 35/70\n",
            "15/15 [==============================] - 4s 235ms/step - loss: 0.0016 - val_loss: 0.0148\n",
            "Epoch 36/70\n",
            "15/15 [==============================] - 4s 234ms/step - loss: 0.0020 - val_loss: 0.0160\n",
            "Epoch 37/70\n",
            "15/15 [==============================] - 4s 234ms/step - loss: 0.0015 - val_loss: 0.0214\n",
            "Epoch 38/70\n",
            "15/15 [==============================] - 4s 235ms/step - loss: 0.0013 - val_loss: 0.0122\n",
            "Epoch 39/70\n",
            "15/15 [==============================] - 4s 234ms/step - loss: 0.0016 - val_loss: 0.0094\n",
            "Epoch 40/70\n",
            "15/15 [==============================] - 4s 234ms/step - loss: 9.7335e-04 - val_loss: 0.0099\n",
            "Epoch 41/70\n",
            "15/15 [==============================] - 4s 235ms/step - loss: 0.0016 - val_loss: 0.0111\n",
            "Epoch 42/70\n",
            "15/15 [==============================] - 4s 234ms/step - loss: 0.0018 - val_loss: 0.0072\n",
            "Epoch 43/70\n",
            "15/15 [==============================] - 4s 234ms/step - loss: 0.0014 - val_loss: 0.0074\n",
            "Epoch 44/70\n",
            "15/15 [==============================] - 4s 234ms/step - loss: 0.0013 - val_loss: 0.0069\n",
            "Epoch 45/70\n",
            "15/15 [==============================] - 3s 233ms/step - loss: 0.0013 - val_loss: 0.0052\n",
            "Epoch 46/70\n",
            "15/15 [==============================] - 4s 234ms/step - loss: 0.0013 - val_loss: 0.0054\n",
            "Epoch 47/70\n",
            "15/15 [==============================] - 4s 234ms/step - loss: 0.0017 - val_loss: 0.0031\n",
            "Epoch 48/70\n",
            "15/15 [==============================] - 3s 233ms/step - loss: 0.0014 - val_loss: 0.0034\n",
            "Epoch 49/70\n",
            "15/15 [==============================] - 4s 234ms/step - loss: 0.0010 - val_loss: 0.0017\n",
            "Epoch 50/70\n",
            "15/15 [==============================] - 3s 233ms/step - loss: 0.0013 - val_loss: 0.0016\n",
            "Epoch 51/70\n",
            "15/15 [==============================] - 4s 234ms/step - loss: 0.0011 - val_loss: 0.0012\n",
            "Epoch 52/70\n",
            "15/15 [==============================] - 4s 234ms/step - loss: 0.0011 - val_loss: 7.5333e-04\n",
            "Epoch 53/70\n",
            "15/15 [==============================] - 4s 234ms/step - loss: 0.0015 - val_loss: 0.0012\n",
            "Epoch 54/70\n",
            "15/15 [==============================] - 4s 234ms/step - loss: 0.0020 - val_loss: 0.0048\n",
            "Epoch 55/70\n",
            "15/15 [==============================] - 4s 235ms/step - loss: 9.9937e-04 - val_loss: 6.2729e-04\n",
            "Epoch 56/70\n",
            "15/15 [==============================] - 4s 234ms/step - loss: 0.0022 - val_loss: 0.0044\n",
            "Epoch 57/70\n",
            "15/15 [==============================] - 4s 234ms/step - loss: 0.0011 - val_loss: 0.0027\n",
            "Epoch 58/70\n",
            "15/15 [==============================] - 4s 235ms/step - loss: 0.0014 - val_loss: 0.0027\n",
            "Epoch 59/70\n",
            "15/15 [==============================] - 4s 234ms/step - loss: 0.0013 - val_loss: 9.0478e-04\n",
            "Epoch 60/70\n",
            "15/15 [==============================] - 4s 234ms/step - loss: 8.5282e-04 - val_loss: 6.5933e-04\n",
            "Epoch 61/70\n",
            "15/15 [==============================] - 4s 233ms/step - loss: 0.0015 - val_loss: 0.0017\n",
            "Epoch 62/70\n",
            "15/15 [==============================] - 4s 234ms/step - loss: 0.0014 - val_loss: 7.5929e-04\n",
            "Epoch 63/70\n",
            "15/15 [==============================] - 4s 234ms/step - loss: 0.0013 - val_loss: 0.0010\n",
            "Epoch 64/70\n",
            "15/15 [==============================] - 4s 235ms/step - loss: 0.0010 - val_loss: 8.8298e-04\n",
            "Epoch 65/70\n",
            "15/15 [==============================] - 4s 234ms/step - loss: 0.0012 - val_loss: 7.3818e-04\n",
            "Epoch 66/70\n",
            "15/15 [==============================] - 4s 234ms/step - loss: 0.0014 - val_loss: 0.0017\n",
            "Epoch 67/70\n",
            "15/15 [==============================] - 4s 234ms/step - loss: 0.0019 - val_loss: 0.0016\n",
            "Epoch 68/70\n",
            "15/15 [==============================] - 4s 234ms/step - loss: 0.0011 - val_loss: 0.0015\n",
            "Epoch 69/70\n",
            "15/15 [==============================] - 4s 234ms/step - loss: 0.0012 - val_loss: 0.0016\n",
            "Epoch 70/70\n",
            "15/15 [==============================] - 4s 234ms/step - loss: 0.0013 - val_loss: 0.0020\n",
            "CPU times: user 2min 4s, sys: 1min 10s, total: 3min 14s\n",
            "Wall time: 4min 11s\n"
          ],
          "name": "stdout"
        }
      ]
    },
    {
      "cell_type": "code",
      "metadata": {
        "id": "jzlUZpoRq1k_"
      },
      "source": [
        "# Сохраняем модель]\n",
        "#modelAutoHorse.save_weights('modelAutoHorse.h5')\n",
        "modelAutoHorse = baseAutoencoder3()\n",
        "modelAutoHorse.load_weights('modelAutoHorse2.h5') "
      ],
      "execution_count": 19,
      "outputs": []
    },
    {
      "cell_type": "markdown",
      "metadata": {
        "id": "JRGrNrLbjm68"
      },
      "source": [
        "## Часть 2. Уменьшаем все картинки"
      ]
    },
    {
      "cell_type": "code",
      "metadata": {
        "colab": {
          "base_uri": "https://localhost:8080/"
        },
        "id": "ZkCc9VPcu9g3",
        "outputId": "7469d76d-288d-4206-b0ad-571ae9870d01"
      },
      "source": [
        "%%time\n",
        "# Уменьшаем картинки через предикт\n",
        "prediction = modelAutoHorse.predict(xTrain_img)"
      ],
      "execution_count": 20,
      "outputs": [
        {
          "output_type": "stream",
          "text": [
            "CPU times: user 2.84 s, sys: 1.5 s, total: 4.35 s\n",
            "Wall time: 8.6 s\n"
          ],
          "name": "stdout"
        }
      ]
    },
    {
      "cell_type": "code",
      "metadata": {
        "id": "KXRwy0-uwx4I"
      },
      "source": [
        "predHorse = modelAutoHorse.predict(xTrain_img[:100]) # сделаем предикт для первых ста картинок\n",
        "\n",
        "predHorse = predHorse * 255 # представляем в виде значений от 0 до 255\n",
        "predHorse = predHorse.astype('uint8') # устанавливаем 8битовый тип"
      ],
      "execution_count": 21,
      "outputs": []
    },
    {
      "cell_type": "code",
      "metadata": {
        "colab": {
          "base_uri": "https://localhost:8080/"
        },
        "id": "p5Ksl3CJ0qJI",
        "outputId": "993238fc-dff0-42b1-9427-6938761bcdd6"
      },
      "source": [
        "# Проверяем размеры\n",
        "print(len(prediction), len(predHorse[0]))"
      ],
      "execution_count": 22,
      "outputs": [
        {
          "output_type": "stream",
          "text": [
            "500 75\n"
          ],
          "name": "stdout"
        }
      ]
    },
    {
      "cell_type": "code",
      "metadata": {
        "colab": {
          "base_uri": "https://localhost:8080/",
          "height": 427
        },
        "id": "nkkTqEJTqg0Y",
        "outputId": "255bd19e-4e98-400c-9318-fbd2d1849f7d"
      },
      "source": [
        "# Печатаем исходные и конечные картинки\n",
        "plotImages2(xTrain_img, predHorse) "
      ],
      "execution_count": 99,
      "outputs": [
        {
          "output_type": "display_data",
          "data": {
            "image/png": "[encoded data removed]",
            "text/plain": [
              "<Figure size 720x720 with 10 Axes>"
            ]
          },
          "metadata": {
            "tags": [],
            "needs_background": "light"
          }
        }
      ]
    },
    {
      "cell_type": "code",
      "metadata": {
        "id": "3ve60LM325a7"
      },
      "source": [
        "# функция загрузки изображений\n",
        "def load_images(images_dir, img_height, img_width): \n",
        "  list_images = [] # создаем пустой список в который будем загружать изображения\n",
        "  for img in os.listdir(images_dir): # получим список изображений и для каждого изображения\n",
        "  # добавим в список изображение в виде массива, с заданными размерами, в отенках серого\n",
        "    list_images.append(image.img_to_array(image.load_img(os.path.join(images_dir, img), target_size=(img_height, img_width), color_mode='grayscale')))\n",
        "  return np.array(list_images) # возвращаем numpy массив загруженных избражений"
      ],
      "execution_count": 24,
      "outputs": []
    },
    {
      "cell_type": "code",
      "metadata": {
        "id": "7vThm9Qg25a6"
      },
      "source": [
        "images_i = ('train/horses', 'train/humans', 'validation/horses', 'validation/humans') \n",
        "img_height = 300 # зададим высоту изображений\n",
        "img_width = 300 # зададим ширину избражений"
      ],
      "execution_count": 25,
      "outputs": []
    },
    {
      "cell_type": "code",
      "metadata": {
        "colab": {
          "base_uri": "https://localhost:8080/"
        },
        "id": "avNCVjFE25a7",
        "outputId": "5957f584-49a5-4bd1-a954-891b2dfc8d7f"
      },
      "source": [
        "%%time\n",
        "# Делаем предобработку данных в обучающие и тестовые]\n",
        "xTrain1 = load_images(images_i[0], img_height, img_width)\n",
        "xTrain2 = load_images(images_i[1], img_height, img_width)[:500]\n",
        "xTest1 = load_images(images_i[2], img_height, img_width)\n",
        "xTest2 = load_images(images_i[3], img_height, img_width)\n",
        "\n",
        "print ([len(i) for i in [xTrain1, xTrain2, xTest1, xTest2]])\n",
        "\n",
        "xTrainM1 = modelAutoHorse.predict(xTrain1)\n",
        "xTrainM2 = modelAutoHorse.predict(xTrain2)\n",
        "xTestM1 = modelAutoHorse.predict(xTest1)\n",
        "xTestM2 = modelAutoHorse.predict(xTest2)\n",
        "\n",
        "print ([len(i) for i in [xTrainM1, xTrainM2, xTestM1, xTestM2]])\n",
        "print ([type(i) for i in [xTrainM1, xTrainM2, xTestM1, xTestM2]])"
      ],
      "execution_count": 38,
      "outputs": [
        {
          "output_type": "stream",
          "text": [
            "[500, 500, 128, 128]\n",
            "[500, 500, 128, 128]\n",
            "[<class 'numpy.ndarray'>, <class 'numpy.ndarray'>, <class 'numpy.ndarray'>, <class 'numpy.ndarray'>]\n",
            "CPU times: user 8.06 s, sys: 1.17 s, total: 9.23 s\n",
            "Wall time: 9.09 s\n"
          ],
          "name": "stdout"
        }
      ]
    },
    {
      "cell_type": "markdown",
      "metadata": {
        "id": "PdK3IYB3_IkU"
      },
      "source": [
        "**Подготавливаем обучающие и тестовые данные**"
      ]
    },
    {
      "cell_type": "code",
      "metadata": {
        "colab": {
          "base_uri": "https://localhost:8080/"
        },
        "id": "N8Eefm3a7GGt",
        "outputId": "906c792a-7082-439f-9d24-6983fa563543"
      },
      "source": [
        "# horses - 0, humans - 1\n",
        "yTrain1 = [0]*len(xTrain1)\n",
        "yTrain2 = [1]*len(xTrain2)\n",
        "yTest1 = [0]*len(xTest1)\n",
        "yTest2 = [1]*len(xTest2)\n",
        "print ([len(i) for i in [yTrain1, yTrain2, yTest1, yTest2]])\n",
        "print ([type(i) for i in [yTrain1, yTrain2, yTest1, yTest2]])"
      ],
      "execution_count": 39,
      "outputs": [
        {
          "output_type": "stream",
          "text": [
            "[500, 500, 128, 128]\n",
            "[<class 'list'>, <class 'list'>, <class 'list'>, <class 'list'>]\n"
          ],
          "name": "stdout"
        }
      ]
    },
    {
      "cell_type": "code",
      "metadata": {
        "colab": {
          "base_uri": "https://localhost:8080/"
        },
        "id": "1DMWycqf9tD9",
        "outputId": "d3aef95e-1ec6-4101-d130-e6d67c571a20"
      },
      "source": [
        "xTrain = np.array(list(xTrainM1) + list(xTrainM2))\n",
        "yTrain = yTrain1 + yTrain2\n",
        "xTest = np.array(list(xTestM1) + list(xTestM2))\n",
        "yTest = yTest1 + yTest2\n",
        "print ([len(i) for i in [xTrain, yTrain, xTest, yTest]])\n",
        "print ([type(i) for i in [xTrain, yTrain, xTest, yTest]])"
      ],
      "execution_count": 40,
      "outputs": [
        {
          "output_type": "stream",
          "text": [
            "[1000, 1000, 256, 256]\n",
            "[<class 'numpy.ndarray'>, <class 'list'>, <class 'numpy.ndarray'>, <class 'list'>]\n"
          ],
          "name": "stdout"
        }
      ]
    },
    {
      "cell_type": "markdown",
      "metadata": {
        "id": "EJoA442wjpY1"
      },
      "source": [
        "## Часть 3. Кластеризатор"
      ]
    },
    {
      "cell_type": "code",
      "metadata": {
        "colab": {
          "base_uri": "https://localhost:8080/"
        },
        "id": "L_QR9fuC6w6U",
        "outputId": "43f13bdd-35a3-4a60-a9ab-6ef31d19d49e"
      },
      "source": [
        "# Проверяем тестовые и обучающие данные \n",
        "print([len(i) for i in [xTrain, yTrain, xTest, yTest]])\n",
        "print ([type(i) for i in [xTrain, yTrain, xTest, yTest]])"
      ],
      "execution_count": 41,
      "outputs": [
        {
          "output_type": "stream",
          "text": [
            "[1000, 1000, 256, 256]\n",
            "[<class 'numpy.ndarray'>, <class 'list'>, <class 'numpy.ndarray'>, <class 'list'>]\n"
          ],
          "name": "stdout"
        }
      ]
    },
    {
      "cell_type": "code",
      "metadata": {
        "id": "mYazuCsYcr7F"
      },
      "source": [
        "#Определяем названия классов\n",
        "classes = ['horses', 'humans']"
      ],
      "execution_count": 42,
      "outputs": []
    },
    {
      "cell_type": "code",
      "metadata": {
        "id": "Od450qOE1w78"
      },
      "source": [
        "def plotImages3(pred, n=1, shape2 =(75,75)): # создадим функцию для вывода изображений как картинок\n",
        "  n = n  # количество картинок, которые хотим показать\n",
        "  plt.figure(figsize=(10, 10)) # указываем размеры фигуры\n",
        "  for i in range(n): # для каждой картинки из n\n",
        "      index = np.random.randint(0, pred.shape[0]) # startIndex - начиная с какого индекса хотим заплотить картинки\n",
        "      # Показываем восстановленные картинки\n",
        "      ax = plt.subplot(2, n, i + 1 + n) # выведем область рисования Axes \n",
        "      plt.imshow(pred[index].reshape(shape2)) # отрисуем обработанные сеткой картинки в размере shape     \n",
        "      plt.gray() # выведем в черно-белом цвете\n",
        "      ax.get_xaxis().set_visible(False) # скрываем вывод координатной оси x\n",
        "      ax.get_yaxis().set_visible(False) # скрываем вывод координатной оси y\n",
        "  plt.show()"
      ],
      "execution_count": 113,
      "outputs": []
    },
    {
      "cell_type": "code",
      "metadata": {
        "id": "T5oG97a524nc"
      },
      "source": [
        "# Печатаем картинку\n",
        "plotImages3(xTrain, 1) "
      ],
      "execution_count": null,
      "outputs": []
    },
    {
      "cell_type": "code",
      "metadata": {
        "id": "B6gZ7EcUcdB9",
        "colab": {
          "base_uri": "https://localhost:8080/"
        },
        "outputId": "574a18a5-d8be-4b44-b3c3-091a73a1ef45"
      },
      "source": [
        "#Превращаем y_train и y_test сетей в формат one hot encoding\n",
        "x_train10 = utils.to_categorical(xTrain)\n",
        "x_test10 = utils.to_categorical(xTest)\n",
        "y_train10 = utils.to_categorical(yTrain, 2)\n",
        "y_test10 = utils.to_categorical(yTest, 2)\n",
        "\n",
        "# Cмотрим размеры выборок перед обучением\n",
        "print(x_train10.shape, type(x_train10))\n",
        "print(x_test10.shape, type(x_test10))\n",
        "print(y_train10.shape, type(y_train10))\n",
        "print(y_test10.shape, type(y_test10))"
      ],
      "execution_count": 45,
      "outputs": [
        {
          "output_type": "stream",
          "text": [
            "(1000, 75, 75, 2) <class 'numpy.ndarray'>\n",
            "(256, 75, 75, 2) <class 'numpy.ndarray'>\n",
            "(1000, 2) <class 'numpy.ndarray'>\n",
            "(256, 2) <class 'numpy.ndarray'>\n"
          ],
          "name": "stdout"
        }
      ]
    },
    {
      "cell_type": "code",
      "metadata": {
        "colab": {
          "base_uri": "https://localhost:8080/"
        },
        "id": "NlgARA3EkC3t",
        "outputId": "2ccd7b66-31ff-4031-ac23-4d1a89f21c75"
      },
      "source": [
        "x_train10[0][12][0]"
      ],
      "execution_count": 58,
      "outputs": [
        {
          "output_type": "execute_result",
          "data": {
            "text/plain": [
              "array([0., 1.], dtype=float32)"
            ]
          },
          "metadata": {
            "tags": []
          },
          "execution_count": 58
        }
      ]
    },
    {
      "cell_type": "markdown",
      "metadata": {
        "id": "dpqHnjMjcdCA"
      },
      "source": [
        "**Нейронная сеть**\n",
        "\n",
        "*Разбор данного раздела:* https://youtu.be/wvScQNvuZ8c?t=6070\n",
        "\n"
      ]
    },
    {
      "cell_type": "code",
      "metadata": {
        "id": "PPfxYVf1duG2",
        "colab": {
          "base_uri": "https://localhost:8080/",
          "height": 1000
        },
        "outputId": "9ce51635-0221-4e85-f94f-f13aae6bb4d5"
      },
      "source": [
        "# создаем сеть\n",
        "batch_size = 128 \n",
        "model = Sequential()\n",
        "model.add(BatchNormalization(input_shape=(75, 75, 2)))\n",
        "\n",
        "model.add(Conv2D(32, (3, 3), padding='same', activation='relu'))\n",
        "model.add(Conv2D(32, (3, 3), padding='same', activation='relu'))\n",
        "model.add(MaxPooling2D(pool_size=(2, 2)))\n",
        "model.add(Dropout(0.25))\n",
        "\n",
        "model.add(BatchNormalization())\n",
        "model.add(Conv2D(64, (3, 3), padding='same', activation='relu'))\n",
        "model.add(Conv2D(64, (3, 3), padding='same', activation='relu'))\n",
        "model.add(MaxPooling2D(pool_size=(2, 2)))\n",
        "model.add(Dropout(0.25))\n",
        "\n",
        "model.add(BatchNormalization())\n",
        "model.add(Conv2D(128, (3, 3), padding='same', activation='relu'))\n",
        "model.add(Conv2D(128, (3, 3), padding='same', activation='relu'))\n",
        "model.add(MaxPooling2D(pool_size=(2, 2)))\n",
        "model.add(Dropout(0.25))\n",
        "\n",
        "model.add(Flatten())\n",
        "model.add(Dense(512, activation='relu'))\n",
        "model.add(Dropout(0.25))\n",
        "model.add(Dense(2, activation='softmax'))\n",
        "\n",
        "#Компилируем сеть\n",
        "model.compile(loss=\"categorical_crossentropy\", optimizer=\"adam\", metrics=[\"accuracy\"])\n",
        "\n",
        "#Обучаем сеть на данных\n",
        "history = model.fit(x_train10, \n",
        "                    y_train10, \n",
        "                    batch_size=batch_size, \n",
        "                    epochs=500,\n",
        "                    validation_data=(x_test10, y_test10),\n",
        "                    verbose=1)\n",
        "\n",
        "#Оображаем график точности обучения\n",
        "plt.plot(history.history['accuracy'], \n",
        "         label='Доля верных ответов на обучающем наборе')\n",
        "plt.plot(history.history['val_accuracy'], \n",
        "         label='Доля верных ответов на проверочном наборе')\n",
        "plt.xlabel('Эпоха обучения')\n",
        "plt.ylabel('Доля верных ответов')\n",
        "plt.legend()\n",
        "plt.show()"
      ],
      "execution_count": 101,
      "outputs": [
        {
          "output_type": "stream",
          "text": [
            "Epoch 1/500\n",
            "2/8 [======>.......................] - ETA: 0s - loss: 1.8138 - accuracy: 0.5859WARNING:tensorflow:Callbacks method `on_train_batch_end` is slow compared to the batch time (batch time: 0.0287s vs `on_train_batch_end` time: 0.0625s). Check your callbacks.\n",
            "7/8 [=========================>....] - ETA: 0s - loss: 1.1954 - accuracy: 0.6596WARNING:tensorflow:Callbacks method `on_test_batch_end` is slow compared to the batch time (batch time: 0.0028s vs `on_test_batch_end` time: 0.0129s). Check your callbacks.\n",
            "8/8 [==============================] - 1s 92ms/step - loss: 1.1334 - accuracy: 0.6580 - val_loss: 0.6921 - val_accuracy: 0.5000\n",
            "Epoch 2/500\n",
            "8/8 [==============================] - 1s 63ms/step - loss: 0.5135 - accuracy: 0.7950 - val_loss: 0.6812 - val_accuracy: 0.6094\n",
            "Epoch 3/500\n",
            "8/8 [==============================] - 1s 63ms/step - loss: 0.3822 - accuracy: 0.8320 - val_loss: 0.6865 - val_accuracy: 0.6250\n",
            "Epoch 4/500\n",
            "8/8 [==============================] - 0s 62ms/step - loss: 0.3223 - accuracy: 0.8540 - val_loss: 0.6820 - val_accuracy: 0.6016\n",
            "Epoch 5/500\n",
            "8/8 [==============================] - 1s 63ms/step - loss: 0.2862 - accuracy: 0.8710 - val_loss: 0.6855 - val_accuracy: 0.5000\n",
            "Epoch 6/500\n",
            "8/8 [==============================] - 1s 63ms/step - loss: 0.2464 - accuracy: 0.8820 - val_loss: 0.6835 - val_accuracy: 0.5039\n",
            "Epoch 7/500\n",
            "8/8 [==============================] - 0s 62ms/step - loss: 0.2275 - accuracy: 0.8880 - val_loss: 0.6865 - val_accuracy: 0.5000\n",
            "Epoch 8/500\n",
            "8/8 [==============================] - 1s 63ms/step - loss: 0.2062 - accuracy: 0.8980 - val_loss: 0.6923 - val_accuracy: 0.5000\n",
            "Epoch 9/500\n",
            "8/8 [==============================] - 0s 62ms/step - loss: 0.2047 - accuracy: 0.9010 - val_loss: 0.6896 - val_accuracy: 0.5000\n",
            "Epoch 10/500\n",
            "8/8 [==============================] - 1s 63ms/step - loss: 0.1952 - accuracy: 0.9070 - val_loss: 0.6982 - val_accuracy: 0.5000\n",
            "Epoch 11/500\n",
            "8/8 [==============================] - 0s 62ms/step - loss: 0.1858 - accuracy: 0.9100 - val_loss: 0.6947 - val_accuracy: 0.5000\n",
            "Epoch 12/500\n",
            "8/8 [==============================] - 0s 62ms/step - loss: 0.1852 - accuracy: 0.9130 - val_loss: 0.6987 - val_accuracy: 0.5000\n",
            "Epoch 13/500\n",
            "8/8 [==============================] - 0s 62ms/step - loss: 0.1793 - accuracy: 0.9100 - val_loss: 0.7050 - val_accuracy: 0.5000\n",
            "Epoch 14/500\n",
            "8/8 [==============================] - 1s 63ms/step - loss: 0.1724 - accuracy: 0.9130 - val_loss: 0.6986 - val_accuracy: 0.5000\n",
            "Epoch 15/500\n",
            "8/8 [==============================] - 0s 62ms/step - loss: 0.1683 - accuracy: 0.9170 - val_loss: 0.6976 - val_accuracy: 0.5000\n",
            "Epoch 16/500\n",
            "8/8 [==============================] - 1s 63ms/step - loss: 0.1649 - accuracy: 0.9170 - val_loss: 0.6842 - val_accuracy: 0.5156\n",
            "Epoch 17/500\n",
            "8/8 [==============================] - 0s 62ms/step - loss: 0.1664 - accuracy: 0.9150 - val_loss: 0.6787 - val_accuracy: 0.5430\n",
            "Epoch 18/500\n",
            "8/8 [==============================] - 0s 62ms/step - loss: 0.1676 - accuracy: 0.9140 - val_loss: 0.6703 - val_accuracy: 0.5664\n",
            "Epoch 19/500\n",
            "8/8 [==============================] - 0s 62ms/step - loss: 0.1655 - accuracy: 0.9150 - val_loss: 0.6867 - val_accuracy: 0.5195\n",
            "Epoch 20/500\n",
            "8/8 [==============================] - 0s 62ms/step - loss: 0.1680 - accuracy: 0.9150 - val_loss: 0.6392 - val_accuracy: 0.6367\n",
            "Epoch 21/500\n",
            "8/8 [==============================] - 1s 63ms/step - loss: 0.1645 - accuracy: 0.9170 - val_loss: 0.6453 - val_accuracy: 0.6094\n",
            "Epoch 22/500\n",
            "8/8 [==============================] - 1s 63ms/step - loss: 0.1644 - accuracy: 0.9180 - val_loss: 0.6242 - val_accuracy: 0.6367\n",
            "Epoch 23/500\n",
            "8/8 [==============================] - 1s 63ms/step - loss: 0.1757 - accuracy: 0.9130 - val_loss: 0.5820 - val_accuracy: 0.6797\n",
            "Epoch 24/500\n",
            "8/8 [==============================] - 0s 62ms/step - loss: 0.1700 - accuracy: 0.9170 - val_loss: 0.5923 - val_accuracy: 0.6953\n",
            "Epoch 25/500\n",
            "8/8 [==============================] - 0s 62ms/step - loss: 0.1577 - accuracy: 0.9190 - val_loss: 0.5905 - val_accuracy: 0.6719\n",
            "Epoch 26/500\n",
            "8/8 [==============================] - 1s 63ms/step - loss: 0.1575 - accuracy: 0.9180 - val_loss: 0.5897 - val_accuracy: 0.6680\n",
            "Epoch 27/500\n",
            "8/8 [==============================] - 0s 62ms/step - loss: 0.1632 - accuracy: 0.9150 - val_loss: 0.5456 - val_accuracy: 0.7188\n",
            "Epoch 28/500\n",
            "8/8 [==============================] - 1s 63ms/step - loss: 0.1600 - accuracy: 0.9190 - val_loss: 0.5359 - val_accuracy: 0.7383\n",
            "Epoch 29/500\n",
            "8/8 [==============================] - 0s 62ms/step - loss: 0.1569 - accuracy: 0.9190 - val_loss: 0.5354 - val_accuracy: 0.7266\n",
            "Epoch 30/500\n",
            "8/8 [==============================] - 1s 63ms/step - loss: 0.1561 - accuracy: 0.9200 - val_loss: 0.5375 - val_accuracy: 0.7109\n",
            "Epoch 31/500\n",
            "8/8 [==============================] - 0s 62ms/step - loss: 0.1537 - accuracy: 0.9200 - val_loss: 0.5545 - val_accuracy: 0.7344\n",
            "Epoch 32/500\n",
            "8/8 [==============================] - 0s 62ms/step - loss: 0.1523 - accuracy: 0.9200 - val_loss: 0.5824 - val_accuracy: 0.7305\n",
            "Epoch 33/500\n",
            "8/8 [==============================] - 0s 62ms/step - loss: 0.1556 - accuracy: 0.9200 - val_loss: 0.5088 - val_accuracy: 0.7148\n",
            "Epoch 34/500\n",
            "8/8 [==============================] - 0s 62ms/step - loss: 0.1622 - accuracy: 0.9180 - val_loss: 0.4724 - val_accuracy: 0.7461\n",
            "Epoch 35/500\n",
            "8/8 [==============================] - 0s 62ms/step - loss: 0.1612 - accuracy: 0.9190 - val_loss: 0.4880 - val_accuracy: 0.7461\n",
            "Epoch 36/500\n",
            "8/8 [==============================] - 1s 63ms/step - loss: 0.1601 - accuracy: 0.9170 - val_loss: 0.4729 - val_accuracy: 0.7500\n",
            "Epoch 37/500\n",
            "8/8 [==============================] - 1s 63ms/step - loss: 0.1945 - accuracy: 0.9110 - val_loss: 0.5386 - val_accuracy: 0.7148\n",
            "Epoch 38/500\n",
            "8/8 [==============================] - 1s 64ms/step - loss: 0.1730 - accuracy: 0.9140 - val_loss: 0.5325 - val_accuracy: 0.7539\n",
            "Epoch 39/500\n",
            "8/8 [==============================] - 1s 63ms/step - loss: 0.1701 - accuracy: 0.9160 - val_loss: 0.3989 - val_accuracy: 0.8203\n",
            "Epoch 40/500\n",
            "8/8 [==============================] - 1s 64ms/step - loss: 0.1727 - accuracy: 0.9140 - val_loss: 0.4363 - val_accuracy: 0.7930\n",
            "Epoch 41/500\n",
            "8/8 [==============================] - 1s 63ms/step - loss: 0.1681 - accuracy: 0.9180 - val_loss: 0.5595 - val_accuracy: 0.7656\n",
            "Epoch 42/500\n",
            "8/8 [==============================] - 0s 62ms/step - loss: 0.1620 - accuracy: 0.9150 - val_loss: 0.6230 - val_accuracy: 0.7773\n",
            "Epoch 43/500\n",
            "8/8 [==============================] - 1s 63ms/step - loss: 0.1544 - accuracy: 0.9190 - val_loss: 0.6593 - val_accuracy: 0.7773\n",
            "Epoch 44/500\n",
            "8/8 [==============================] - 1s 63ms/step - loss: 0.1604 - accuracy: 0.9190 - val_loss: 0.6278 - val_accuracy: 0.7852\n",
            "Epoch 45/500\n",
            "8/8 [==============================] - 0s 62ms/step - loss: 0.1560 - accuracy: 0.9210 - val_loss: 0.5844 - val_accuracy: 0.7930\n",
            "Epoch 46/500\n",
            "8/8 [==============================] - 1s 63ms/step - loss: 0.1565 - accuracy: 0.9200 - val_loss: 0.6670 - val_accuracy: 0.7852\n",
            "Epoch 47/500\n",
            "8/8 [==============================] - 1s 64ms/step - loss: 0.1572 - accuracy: 0.9200 - val_loss: 0.7732 - val_accuracy: 0.7852\n",
            "Epoch 48/500\n",
            "8/8 [==============================] - 1s 63ms/step - loss: 0.1502 - accuracy: 0.9220 - val_loss: 0.7813 - val_accuracy: 0.8164\n",
            "Epoch 49/500\n",
            "8/8 [==============================] - 0s 62ms/step - loss: 0.1562 - accuracy: 0.9180 - val_loss: 0.7549 - val_accuracy: 0.7969\n",
            "Epoch 50/500\n",
            "8/8 [==============================] - 0s 62ms/step - loss: 0.1545 - accuracy: 0.9210 - val_loss: 0.7594 - val_accuracy: 0.7969\n",
            "Epoch 51/500\n",
            "8/8 [==============================] - 1s 64ms/step - loss: 0.1509 - accuracy: 0.9210 - val_loss: 0.6954 - val_accuracy: 0.7930\n",
            "Epoch 52/500\n",
            "8/8 [==============================] - 1s 64ms/step - loss: 0.1493 - accuracy: 0.9220 - val_loss: 0.6504 - val_accuracy: 0.8242\n",
            "Epoch 53/500\n",
            "8/8 [==============================] - 1s 63ms/step - loss: 0.1501 - accuracy: 0.9220 - val_loss: 0.6711 - val_accuracy: 0.8242\n",
            "Epoch 54/500\n",
            "8/8 [==============================] - 0s 62ms/step - loss: 0.1494 - accuracy: 0.9220 - val_loss: 0.7230 - val_accuracy: 0.8320\n",
            "Epoch 55/500\n",
            "8/8 [==============================] - 1s 64ms/step - loss: 0.1512 - accuracy: 0.9210 - val_loss: 0.8060 - val_accuracy: 0.8320\n",
            "Epoch 56/500\n",
            "8/8 [==============================] - 1s 63ms/step - loss: 0.1518 - accuracy: 0.9220 - val_loss: 0.8740 - val_accuracy: 0.8242\n",
            "Epoch 57/500\n",
            "8/8 [==============================] - 1s 63ms/step - loss: 0.1485 - accuracy: 0.9230 - val_loss: 0.9055 - val_accuracy: 0.8320\n",
            "Epoch 58/500\n",
            "8/8 [==============================] - 0s 62ms/step - loss: 0.1567 - accuracy: 0.9200 - val_loss: 1.0528 - val_accuracy: 0.8242\n",
            "Epoch 59/500\n",
            "8/8 [==============================] - 1s 63ms/step - loss: 0.1601 - accuracy: 0.9190 - val_loss: 1.2267 - val_accuracy: 0.8203\n",
            "Epoch 60/500\n",
            "8/8 [==============================] - 0s 62ms/step - loss: 0.1481 - accuracy: 0.9230 - val_loss: 1.2007 - val_accuracy: 0.8203\n",
            "Epoch 61/500\n",
            "8/8 [==============================] - 1s 63ms/step - loss: 0.1661 - accuracy: 0.9180 - val_loss: 1.0640 - val_accuracy: 0.8047\n",
            "Epoch 62/500\n",
            "8/8 [==============================] - 1s 63ms/step - loss: 0.1542 - accuracy: 0.9180 - val_loss: 1.1375 - val_accuracy: 0.7930\n",
            "Epoch 63/500\n",
            "8/8 [==============================] - 1s 64ms/step - loss: 0.1600 - accuracy: 0.9180 - val_loss: 1.3129 - val_accuracy: 0.7852\n",
            "Epoch 64/500\n",
            "8/8 [==============================] - 1s 63ms/step - loss: 0.1630 - accuracy: 0.9190 - val_loss: 1.2894 - val_accuracy: 0.8203\n",
            "Epoch 65/500\n",
            "8/8 [==============================] - 0s 62ms/step - loss: 0.1567 - accuracy: 0.9200 - val_loss: 1.6846 - val_accuracy: 0.8164\n",
            "Epoch 66/500\n",
            "8/8 [==============================] - 1s 63ms/step - loss: 0.1695 - accuracy: 0.9170 - val_loss: 1.5510 - val_accuracy: 0.7891\n",
            "Epoch 67/500\n",
            "8/8 [==============================] - 1s 65ms/step - loss: 0.1671 - accuracy: 0.9170 - val_loss: 1.6188 - val_accuracy: 0.8125\n",
            "Epoch 68/500\n",
            "8/8 [==============================] - 1s 64ms/step - loss: 0.1622 - accuracy: 0.9170 - val_loss: 1.6141 - val_accuracy: 0.8203\n",
            "Epoch 69/500\n",
            "8/8 [==============================] - 1s 63ms/step - loss: 0.1701 - accuracy: 0.9150 - val_loss: 1.5186 - val_accuracy: 0.8242\n",
            "Epoch 70/500\n",
            "8/8 [==============================] - 1s 63ms/step - loss: 0.1996 - accuracy: 0.9160 - val_loss: 1.7195 - val_accuracy: 0.8438\n",
            "Epoch 71/500\n",
            "8/8 [==============================] - 1s 65ms/step - loss: 0.1675 - accuracy: 0.9190 - val_loss: 1.0736 - val_accuracy: 0.8438\n",
            "Epoch 72/500\n",
            "8/8 [==============================] - 1s 65ms/step - loss: 0.1624 - accuracy: 0.9190 - val_loss: 1.7041 - val_accuracy: 0.8203\n",
            "Epoch 73/500\n",
            "8/8 [==============================] - 1s 65ms/step - loss: 0.1883 - accuracy: 0.9160 - val_loss: 1.4219 - val_accuracy: 0.8359\n",
            "Epoch 74/500\n",
            "8/8 [==============================] - 1s 65ms/step - loss: 0.1540 - accuracy: 0.9210 - val_loss: 1.5623 - val_accuracy: 0.8047\n",
            "Epoch 75/500\n",
            "8/8 [==============================] - 0s 62ms/step - loss: 0.1572 - accuracy: 0.9190 - val_loss: 1.7315 - val_accuracy: 0.8047\n",
            "Epoch 76/500\n",
            "8/8 [==============================] - 0s 62ms/step - loss: 0.1544 - accuracy: 0.9190 - val_loss: 1.8018 - val_accuracy: 0.8086\n",
            "Epoch 77/500\n",
            "8/8 [==============================] - 1s 63ms/step - loss: 0.1551 - accuracy: 0.9200 - val_loss: 1.7082 - val_accuracy: 0.8242\n",
            "Epoch 78/500\n",
            "8/8 [==============================] - 1s 63ms/step - loss: 0.1610 - accuracy: 0.9190 - val_loss: 1.5637 - val_accuracy: 0.8242\n",
            "Epoch 79/500\n",
            "8/8 [==============================] - 1s 64ms/step - loss: 0.1538 - accuracy: 0.9210 - val_loss: 1.5823 - val_accuracy: 0.8125\n",
            "Epoch 80/500\n",
            "8/8 [==============================] - 1s 64ms/step - loss: 0.1491 - accuracy: 0.9220 - val_loss: 1.5025 - val_accuracy: 0.8125\n",
            "Epoch 81/500\n",
            "8/8 [==============================] - 1s 63ms/step - loss: 0.1473 - accuracy: 0.9230 - val_loss: 1.4606 - val_accuracy: 0.8281\n",
            "Epoch 82/500\n",
            "8/8 [==============================] - 1s 64ms/step - loss: 0.1495 - accuracy: 0.9220 - val_loss: 1.4452 - val_accuracy: 0.8242\n",
            "Epoch 83/500\n",
            "8/8 [==============================] - 1s 63ms/step - loss: 0.1476 - accuracy: 0.9220 - val_loss: 1.3816 - val_accuracy: 0.8086\n",
            "Epoch 84/500\n",
            "8/8 [==============================] - 1s 64ms/step - loss: 0.1513 - accuracy: 0.9210 - val_loss: 1.4759 - val_accuracy: 0.7891\n",
            "Epoch 85/500\n",
            "8/8 [==============================] - 1s 64ms/step - loss: 0.1486 - accuracy: 0.9220 - val_loss: 1.5131 - val_accuracy: 0.7969\n",
            "Epoch 86/500\n",
            "8/8 [==============================] - 1s 64ms/step - loss: 0.1568 - accuracy: 0.9210 - val_loss: 1.4889 - val_accuracy: 0.8320\n",
            "Epoch 87/500\n",
            "8/8 [==============================] - 1s 65ms/step - loss: 0.1470 - accuracy: 0.9230 - val_loss: 1.4925 - val_accuracy: 0.8398\n",
            "Epoch 88/500\n",
            "8/8 [==============================] - 1s 64ms/step - loss: 0.1701 - accuracy: 0.9150 - val_loss: 2.2835 - val_accuracy: 0.8398\n",
            "Epoch 89/500\n",
            "8/8 [==============================] - 1s 64ms/step - loss: 0.1620 - accuracy: 0.9190 - val_loss: 2.8206 - val_accuracy: 0.8398\n",
            "Epoch 90/500\n",
            "8/8 [==============================] - 1s 65ms/step - loss: 0.1551 - accuracy: 0.9200 - val_loss: 2.2602 - val_accuracy: 0.8242\n",
            "Epoch 91/500\n",
            "8/8 [==============================] - 0s 62ms/step - loss: 0.1585 - accuracy: 0.9190 - val_loss: 2.2562 - val_accuracy: 0.8320\n",
            "Epoch 92/500\n",
            "8/8 [==============================] - 0s 62ms/step - loss: 0.1536 - accuracy: 0.9200 - val_loss: 2.5496 - val_accuracy: 0.8594\n",
            "Epoch 93/500\n",
            "8/8 [==============================] - 1s 63ms/step - loss: 0.1649 - accuracy: 0.9190 - val_loss: 2.4158 - val_accuracy: 0.8555\n",
            "Epoch 94/500\n",
            "8/8 [==============================] - 1s 64ms/step - loss: 0.1514 - accuracy: 0.9220 - val_loss: 2.2448 - val_accuracy: 0.8594\n",
            "Epoch 95/500\n",
            "8/8 [==============================] - 1s 63ms/step - loss: 0.1535 - accuracy: 0.9190 - val_loss: 2.0300 - val_accuracy: 0.8477\n",
            "Epoch 96/500\n",
            "8/8 [==============================] - 1s 64ms/step - loss: 0.1541 - accuracy: 0.9210 - val_loss: 1.9003 - val_accuracy: 0.8555\n",
            "Epoch 97/500\n",
            "8/8 [==============================] - 1s 64ms/step - loss: 0.1509 - accuracy: 0.9200 - val_loss: 1.8058 - val_accuracy: 0.8477\n",
            "Epoch 98/500\n",
            "8/8 [==============================] - 1s 63ms/step - loss: 0.1521 - accuracy: 0.9210 - val_loss: 1.7224 - val_accuracy: 0.8438\n",
            "Epoch 99/500\n",
            "8/8 [==============================] - 0s 62ms/step - loss: 0.1498 - accuracy: 0.9210 - val_loss: 1.7036 - val_accuracy: 0.8281\n",
            "Epoch 100/500\n",
            "8/8 [==============================] - 1s 63ms/step - loss: 0.1482 - accuracy: 0.9230 - val_loss: 1.7413 - val_accuracy: 0.8359\n",
            "Epoch 101/500\n",
            "8/8 [==============================] - 1s 63ms/step - loss: 0.1472 - accuracy: 0.9230 - val_loss: 1.7562 - val_accuracy: 0.8516\n",
            "Epoch 102/500\n",
            "8/8 [==============================] - 0s 62ms/step - loss: 0.1493 - accuracy: 0.9220 - val_loss: 1.7063 - val_accuracy: 0.8438\n",
            "Epoch 103/500\n",
            "8/8 [==============================] - 1s 65ms/step - loss: 0.1466 - accuracy: 0.9230 - val_loss: 1.7422 - val_accuracy: 0.8398\n",
            "Epoch 104/500\n",
            "8/8 [==============================] - 1s 67ms/step - loss: 0.1493 - accuracy: 0.9210 - val_loss: 1.8894 - val_accuracy: 0.8242\n",
            "Epoch 105/500\n",
            "8/8 [==============================] - 1s 65ms/step - loss: 0.1495 - accuracy: 0.9220 - val_loss: 2.1632 - val_accuracy: 0.8320\n",
            "Epoch 106/500\n",
            "8/8 [==============================] - 1s 65ms/step - loss: 0.1491 - accuracy: 0.9210 - val_loss: 2.1427 - val_accuracy: 0.8359\n",
            "Epoch 107/500\n",
            "8/8 [==============================] - 1s 65ms/step - loss: 0.1587 - accuracy: 0.9200 - val_loss: 1.9581 - val_accuracy: 0.8320\n",
            "Epoch 108/500\n",
            "8/8 [==============================] - 1s 65ms/step - loss: 0.1485 - accuracy: 0.9220 - val_loss: 1.9765 - val_accuracy: 0.8281\n",
            "Epoch 109/500\n",
            "8/8 [==============================] - 1s 65ms/step - loss: 0.1487 - accuracy: 0.9210 - val_loss: 2.0465 - val_accuracy: 0.8242\n",
            "Epoch 110/500\n",
            "8/8 [==============================] - 1s 65ms/step - loss: 0.1472 - accuracy: 0.9230 - val_loss: 2.0698 - val_accuracy: 0.8320\n",
            "Epoch 111/500\n",
            "8/8 [==============================] - 1s 63ms/step - loss: 0.1482 - accuracy: 0.9220 - val_loss: 2.0469 - val_accuracy: 0.8516\n",
            "Epoch 112/500\n",
            "8/8 [==============================] - 1s 64ms/step - loss: 0.1475 - accuracy: 0.9220 - val_loss: 2.0411 - val_accuracy: 0.8477\n",
            "Epoch 113/500\n",
            "8/8 [==============================] - 1s 64ms/step - loss: 0.1481 - accuracy: 0.9220 - val_loss: 2.0014 - val_accuracy: 0.8477\n",
            "Epoch 114/500\n",
            "8/8 [==============================] - 1s 65ms/step - loss: 0.1470 - accuracy: 0.9230 - val_loss: 1.9581 - val_accuracy: 0.8398\n",
            "Epoch 115/500\n",
            "8/8 [==============================] - 1s 64ms/step - loss: 0.1469 - accuracy: 0.9230 - val_loss: 1.9617 - val_accuracy: 0.8477\n",
            "Epoch 116/500\n",
            "8/8 [==============================] - 1s 63ms/step - loss: 0.1496 - accuracy: 0.9210 - val_loss: 2.0931 - val_accuracy: 0.8516\n",
            "Epoch 117/500\n",
            "8/8 [==============================] - 0s 62ms/step - loss: 0.1489 - accuracy: 0.9220 - val_loss: 2.1645 - val_accuracy: 0.8281\n",
            "Epoch 118/500\n",
            "8/8 [==============================] - 1s 63ms/step - loss: 0.1469 - accuracy: 0.9230 - val_loss: 2.3001 - val_accuracy: 0.8164\n",
            "Epoch 119/500\n",
            "8/8 [==============================] - 0s 62ms/step - loss: 0.1468 - accuracy: 0.9230 - val_loss: 2.3476 - val_accuracy: 0.8125\n",
            "Epoch 120/500\n",
            "8/8 [==============================] - 1s 64ms/step - loss: 0.1476 - accuracy: 0.9220 - val_loss: 2.3527 - val_accuracy: 0.8086\n",
            "Epoch 121/500\n",
            "8/8 [==============================] - 1s 63ms/step - loss: 0.1475 - accuracy: 0.9220 - val_loss: 2.4109 - val_accuracy: 0.8086\n",
            "Epoch 122/500\n",
            "8/8 [==============================] - 1s 63ms/step - loss: 0.1582 - accuracy: 0.9200 - val_loss: 2.1016 - val_accuracy: 0.8242\n",
            "Epoch 123/500\n",
            "8/8 [==============================] - 1s 64ms/step - loss: 0.1510 - accuracy: 0.9220 - val_loss: 1.7571 - val_accuracy: 0.8594\n",
            "Epoch 124/500\n",
            "8/8 [==============================] - 1s 64ms/step - loss: 0.1495 - accuracy: 0.9220 - val_loss: 1.6654 - val_accuracy: 0.8594\n",
            "Epoch 125/500\n",
            "8/8 [==============================] - 1s 65ms/step - loss: 0.1472 - accuracy: 0.9230 - val_loss: 1.9416 - val_accuracy: 0.8398\n",
            "Epoch 126/500\n",
            "8/8 [==============================] - 1s 65ms/step - loss: 0.1536 - accuracy: 0.9210 - val_loss: 1.9113 - val_accuracy: 0.8438\n",
            "Epoch 127/500\n",
            "8/8 [==============================] - 1s 64ms/step - loss: 0.1501 - accuracy: 0.9200 - val_loss: 2.0536 - val_accuracy: 0.8281\n",
            "Epoch 128/500\n",
            "8/8 [==============================] - 1s 65ms/step - loss: 0.1511 - accuracy: 0.9210 - val_loss: 2.1394 - val_accuracy: 0.8281\n",
            "Epoch 129/500\n",
            "8/8 [==============================] - 1s 64ms/step - loss: 0.1524 - accuracy: 0.9200 - val_loss: 1.7063 - val_accuracy: 0.8633\n",
            "Epoch 130/500\n",
            "8/8 [==============================] - 1s 65ms/step - loss: 0.1480 - accuracy: 0.9230 - val_loss: 1.6484 - val_accuracy: 0.8750\n",
            "Epoch 131/500\n",
            "8/8 [==============================] - 1s 64ms/step - loss: 0.1488 - accuracy: 0.9220 - val_loss: 1.7488 - val_accuracy: 0.8672\n",
            "Epoch 132/500\n",
            "8/8 [==============================] - 1s 64ms/step - loss: 0.1481 - accuracy: 0.9220 - val_loss: 1.8485 - val_accuracy: 0.8594\n",
            "Epoch 133/500\n",
            "8/8 [==============================] - 1s 64ms/step - loss: 0.1496 - accuracy: 0.9220 - val_loss: 1.9323 - val_accuracy: 0.8555\n",
            "Epoch 134/500\n",
            "8/8 [==============================] - 1s 66ms/step - loss: 0.1488 - accuracy: 0.9230 - val_loss: 1.9508 - val_accuracy: 0.8594\n",
            "Epoch 135/500\n",
            "8/8 [==============================] - 1s 65ms/step - loss: 0.1523 - accuracy: 0.9220 - val_loss: 2.0793 - val_accuracy: 0.8359\n",
            "Epoch 136/500\n",
            "8/8 [==============================] - 1s 65ms/step - loss: 0.1487 - accuracy: 0.9210 - val_loss: 2.2501 - val_accuracy: 0.8281\n",
            "Epoch 137/500\n",
            "8/8 [==============================] - 1s 66ms/step - loss: 0.1473 - accuracy: 0.9220 - val_loss: 2.2397 - val_accuracy: 0.8242\n",
            "Epoch 138/500\n",
            "8/8 [==============================] - 1s 64ms/step - loss: 0.1497 - accuracy: 0.9220 - val_loss: 2.1814 - val_accuracy: 0.8320\n",
            "Epoch 139/500\n",
            "8/8 [==============================] - 1s 64ms/step - loss: 0.1475 - accuracy: 0.9230 - val_loss: 2.1615 - val_accuracy: 0.8242\n",
            "Epoch 140/500\n",
            "8/8 [==============================] - 1s 65ms/step - loss: 0.1497 - accuracy: 0.9220 - val_loss: 2.1871 - val_accuracy: 0.8164\n",
            "Epoch 141/500\n",
            "8/8 [==============================] - 1s 64ms/step - loss: 0.1469 - accuracy: 0.9230 - val_loss: 2.2303 - val_accuracy: 0.8242\n",
            "Epoch 142/500\n",
            "8/8 [==============================] - 1s 64ms/step - loss: 0.1481 - accuracy: 0.9220 - val_loss: 2.2912 - val_accuracy: 0.8164\n",
            "Epoch 143/500\n",
            "8/8 [==============================] - 1s 63ms/step - loss: 0.1479 - accuracy: 0.9220 - val_loss: 2.8170 - val_accuracy: 0.7969\n",
            "Epoch 144/500\n",
            "8/8 [==============================] - 1s 63ms/step - loss: 0.1472 - accuracy: 0.9230 - val_loss: 3.2403 - val_accuracy: 0.7891\n",
            "Epoch 145/500\n",
            "8/8 [==============================] - 1s 64ms/step - loss: 0.1510 - accuracy: 0.9220 - val_loss: 3.1655 - val_accuracy: 0.7969\n",
            "Epoch 146/500\n",
            "8/8 [==============================] - 1s 64ms/step - loss: 0.1491 - accuracy: 0.9210 - val_loss: 2.5145 - val_accuracy: 0.8242\n",
            "Epoch 147/500\n",
            "8/8 [==============================] - 1s 63ms/step - loss: 0.1468 - accuracy: 0.9230 - val_loss: 2.2995 - val_accuracy: 0.8281\n",
            "Epoch 148/500\n",
            "8/8 [==============================] - 1s 65ms/step - loss: 0.1466 - accuracy: 0.9230 - val_loss: 2.2848 - val_accuracy: 0.8320\n",
            "Epoch 149/500\n",
            "8/8 [==============================] - 1s 64ms/step - loss: 0.1469 - accuracy: 0.9230 - val_loss: 2.3511 - val_accuracy: 0.8320\n",
            "Epoch 150/500\n",
            "8/8 [==============================] - 1s 65ms/step - loss: 0.1483 - accuracy: 0.9220 - val_loss: 2.5609 - val_accuracy: 0.8320\n",
            "Epoch 151/500\n",
            "8/8 [==============================] - 1s 63ms/step - loss: 0.1462 - accuracy: 0.9230 - val_loss: 2.7224 - val_accuracy: 0.8242\n",
            "Epoch 152/500\n",
            "8/8 [==============================] - 1s 65ms/step - loss: 0.1465 - accuracy: 0.9230 - val_loss: 2.7616 - val_accuracy: 0.8242\n",
            "Epoch 153/500\n",
            "8/8 [==============================] - 1s 64ms/step - loss: 0.1467 - accuracy: 0.9230 - val_loss: 2.7759 - val_accuracy: 0.8320\n",
            "Epoch 154/500\n",
            "8/8 [==============================] - 1s 65ms/step - loss: 0.1463 - accuracy: 0.9230 - val_loss: 2.7805 - val_accuracy: 0.8359\n",
            "Epoch 155/500\n",
            "8/8 [==============================] - 1s 66ms/step - loss: 0.1469 - accuracy: 0.9230 - val_loss: 2.7684 - val_accuracy: 0.8359\n",
            "Epoch 156/500\n",
            "8/8 [==============================] - 1s 65ms/step - loss: 0.1478 - accuracy: 0.9220 - val_loss: 2.8856 - val_accuracy: 0.8281\n",
            "Epoch 157/500\n",
            "8/8 [==============================] - 1s 66ms/step - loss: 0.1547 - accuracy: 0.9220 - val_loss: 2.7872 - val_accuracy: 0.8359\n",
            "Epoch 158/500\n",
            "8/8 [==============================] - 1s 64ms/step - loss: 0.1546 - accuracy: 0.9210 - val_loss: 2.9295 - val_accuracy: 0.8555\n",
            "Epoch 159/500\n",
            "8/8 [==============================] - 0s 62ms/step - loss: 0.1683 - accuracy: 0.9200 - val_loss: 3.5936 - val_accuracy: 0.8242\n",
            "Epoch 160/500\n",
            "8/8 [==============================] - 1s 65ms/step - loss: 0.1619 - accuracy: 0.9200 - val_loss: 3.3449 - val_accuracy: 0.8203\n",
            "Epoch 161/500\n",
            "8/8 [==============================] - 1s 65ms/step - loss: 0.1465 - accuracy: 0.9230 - val_loss: 3.1311 - val_accuracy: 0.8164\n",
            "Epoch 162/500\n",
            "8/8 [==============================] - 1s 65ms/step - loss: 0.1629 - accuracy: 0.9210 - val_loss: 3.2758 - val_accuracy: 0.8320\n",
            "Epoch 163/500\n",
            "8/8 [==============================] - 1s 66ms/step - loss: 0.1505 - accuracy: 0.9210 - val_loss: 2.2963 - val_accuracy: 0.8398\n",
            "Epoch 164/500\n",
            "8/8 [==============================] - 1s 66ms/step - loss: 0.1554 - accuracy: 0.9200 - val_loss: 2.7867 - val_accuracy: 0.8398\n",
            "Epoch 165/500\n",
            "8/8 [==============================] - 1s 65ms/step - loss: 0.1611 - accuracy: 0.9210 - val_loss: 4.4617 - val_accuracy: 0.7930\n",
            "Epoch 166/500\n",
            "8/8 [==============================] - 1s 65ms/step - loss: 0.1700 - accuracy: 0.9200 - val_loss: 3.6384 - val_accuracy: 0.8281\n",
            "Epoch 167/500\n",
            "8/8 [==============================] - 1s 66ms/step - loss: 0.1683 - accuracy: 0.9180 - val_loss: 2.9012 - val_accuracy: 0.8633\n",
            "Epoch 168/500\n",
            "8/8 [==============================] - 1s 65ms/step - loss: 0.1706 - accuracy: 0.9150 - val_loss: 2.9906 - val_accuracy: 0.8242\n",
            "Epoch 169/500\n",
            "8/8 [==============================] - 1s 65ms/step - loss: 0.1874 - accuracy: 0.9170 - val_loss: 3.0659 - val_accuracy: 0.7969\n",
            "Epoch 170/500\n",
            "8/8 [==============================] - 1s 65ms/step - loss: 0.1633 - accuracy: 0.9180 - val_loss: 2.8310 - val_accuracy: 0.8008\n",
            "Epoch 171/500\n",
            "8/8 [==============================] - 1s 63ms/step - loss: 0.1636 - accuracy: 0.9220 - val_loss: 3.3914 - val_accuracy: 0.8047\n",
            "Epoch 172/500\n",
            "8/8 [==============================] - 1s 66ms/step - loss: 0.1920 - accuracy: 0.9150 - val_loss: 3.2343 - val_accuracy: 0.7930\n",
            "Epoch 173/500\n",
            "8/8 [==============================] - 1s 66ms/step - loss: 0.1635 - accuracy: 0.9200 - val_loss: 3.0071 - val_accuracy: 0.7969\n",
            "Epoch 174/500\n",
            "8/8 [==============================] - 1s 63ms/step - loss: 0.1623 - accuracy: 0.9170 - val_loss: 3.1649 - val_accuracy: 0.7852\n",
            "Epoch 175/500\n",
            "8/8 [==============================] - 1s 63ms/step - loss: 0.1501 - accuracy: 0.9220 - val_loss: 2.9457 - val_accuracy: 0.8086\n",
            "Epoch 176/500\n",
            "8/8 [==============================] - 1s 64ms/step - loss: 0.1522 - accuracy: 0.9210 - val_loss: 2.7572 - val_accuracy: 0.8047\n",
            "Epoch 177/500\n",
            "8/8 [==============================] - 1s 65ms/step - loss: 0.1515 - accuracy: 0.9200 - val_loss: 2.6691 - val_accuracy: 0.8320\n",
            "Epoch 178/500\n",
            "8/8 [==============================] - 1s 67ms/step - loss: 0.1480 - accuracy: 0.9210 - val_loss: 2.4396 - val_accuracy: 0.8320\n",
            "Epoch 179/500\n",
            "8/8 [==============================] - 1s 67ms/step - loss: 0.1472 - accuracy: 0.9230 - val_loss: 2.3654 - val_accuracy: 0.8477\n",
            "Epoch 180/500\n",
            "8/8 [==============================] - 1s 66ms/step - loss: 0.1525 - accuracy: 0.9210 - val_loss: 2.3087 - val_accuracy: 0.8398\n",
            "Epoch 181/500\n",
            "8/8 [==============================] - 1s 66ms/step - loss: 0.1481 - accuracy: 0.9220 - val_loss: 2.2506 - val_accuracy: 0.8359\n",
            "Epoch 182/500\n",
            "8/8 [==============================] - 1s 66ms/step - loss: 0.1487 - accuracy: 0.9220 - val_loss: 2.1771 - val_accuracy: 0.8359\n",
            "Epoch 183/500\n",
            "8/8 [==============================] - 1s 67ms/step - loss: 0.1467 - accuracy: 0.9230 - val_loss: 2.1183 - val_accuracy: 0.8477\n",
            "Epoch 184/500\n",
            "8/8 [==============================] - 1s 65ms/step - loss: 0.1512 - accuracy: 0.9220 - val_loss: 1.9928 - val_accuracy: 0.8516\n",
            "Epoch 185/500\n",
            "8/8 [==============================] - 1s 65ms/step - loss: 0.1537 - accuracy: 0.9200 - val_loss: 1.9016 - val_accuracy: 0.8516\n",
            "Epoch 186/500\n",
            "8/8 [==============================] - 1s 65ms/step - loss: 0.1491 - accuracy: 0.9220 - val_loss: 1.9748 - val_accuracy: 0.8516\n",
            "Epoch 187/500\n",
            "8/8 [==============================] - 1s 65ms/step - loss: 0.1470 - accuracy: 0.9230 - val_loss: 2.0065 - val_accuracy: 0.8516\n",
            "Epoch 188/500\n",
            "8/8 [==============================] - 1s 64ms/step - loss: 0.1473 - accuracy: 0.9230 - val_loss: 2.1673 - val_accuracy: 0.8477\n",
            "Epoch 189/500\n",
            "8/8 [==============================] - 1s 65ms/step - loss: 0.1474 - accuracy: 0.9230 - val_loss: 2.3111 - val_accuracy: 0.8398\n",
            "Epoch 190/500\n",
            "8/8 [==============================] - 1s 66ms/step - loss: 0.1511 - accuracy: 0.9220 - val_loss: 2.2782 - val_accuracy: 0.8438\n",
            "Epoch 191/500\n",
            "8/8 [==============================] - 1s 65ms/step - loss: 0.1466 - accuracy: 0.9230 - val_loss: 2.2209 - val_accuracy: 0.8438\n",
            "Epoch 192/500\n",
            "8/8 [==============================] - 1s 65ms/step - loss: 0.1468 - accuracy: 0.9230 - val_loss: 2.1171 - val_accuracy: 0.8438\n",
            "Epoch 193/500\n",
            "8/8 [==============================] - 1s 64ms/step - loss: 0.1485 - accuracy: 0.9220 - val_loss: 2.1022 - val_accuracy: 0.8477\n",
            "Epoch 194/500\n",
            "8/8 [==============================] - 1s 65ms/step - loss: 0.1482 - accuracy: 0.9220 - val_loss: 2.2450 - val_accuracy: 0.8398\n",
            "Epoch 195/500\n",
            "8/8 [==============================] - 1s 64ms/step - loss: 0.1466 - accuracy: 0.9230 - val_loss: 2.3162 - val_accuracy: 0.8359\n",
            "Epoch 196/500\n",
            "8/8 [==============================] - 1s 65ms/step - loss: 0.1476 - accuracy: 0.9230 - val_loss: 2.3797 - val_accuracy: 0.8320\n",
            "Epoch 197/500\n",
            "8/8 [==============================] - 1s 67ms/step - loss: 0.1457 - accuracy: 0.9230 - val_loss: 2.3663 - val_accuracy: 0.8359\n",
            "Epoch 198/500\n",
            "8/8 [==============================] - 1s 67ms/step - loss: 0.1462 - accuracy: 0.9230 - val_loss: 2.3970 - val_accuracy: 0.8281\n",
            "Epoch 199/500\n",
            "8/8 [==============================] - 1s 64ms/step - loss: 0.1461 - accuracy: 0.9230 - val_loss: 2.4179 - val_accuracy: 0.8320\n",
            "Epoch 200/500\n",
            "8/8 [==============================] - 1s 65ms/step - loss: 0.1459 - accuracy: 0.9230 - val_loss: 2.4272 - val_accuracy: 0.8320\n",
            "Epoch 201/500\n",
            "8/8 [==============================] - 1s 67ms/step - loss: 0.1467 - accuracy: 0.9230 - val_loss: 2.4219 - val_accuracy: 0.8320\n",
            "Epoch 202/500\n",
            "8/8 [==============================] - 1s 65ms/step - loss: 0.1467 - accuracy: 0.9230 - val_loss: 2.4111 - val_accuracy: 0.8242\n",
            "Epoch 203/500\n",
            "8/8 [==============================] - 1s 67ms/step - loss: 0.1490 - accuracy: 0.9220 - val_loss: 2.5086 - val_accuracy: 0.8164\n",
            "Epoch 204/500\n",
            "8/8 [==============================] - 1s 66ms/step - loss: 0.1467 - accuracy: 0.9230 - val_loss: 2.5700 - val_accuracy: 0.8164\n",
            "Epoch 205/500\n",
            "8/8 [==============================] - 1s 64ms/step - loss: 0.1475 - accuracy: 0.9220 - val_loss: 2.6043 - val_accuracy: 0.8203\n",
            "Epoch 206/500\n",
            "8/8 [==============================] - 1s 65ms/step - loss: 0.1462 - accuracy: 0.9230 - val_loss: 2.6345 - val_accuracy: 0.8242\n",
            "Epoch 207/500\n",
            "8/8 [==============================] - 1s 66ms/step - loss: 0.1464 - accuracy: 0.9230 - val_loss: 2.6497 - val_accuracy: 0.8242\n",
            "Epoch 208/500\n",
            "8/8 [==============================] - 1s 66ms/step - loss: 0.1465 - accuracy: 0.9230 - val_loss: 2.6961 - val_accuracy: 0.8203\n",
            "Epoch 209/500\n",
            "8/8 [==============================] - 1s 65ms/step - loss: 0.1479 - accuracy: 0.9220 - val_loss: 2.6062 - val_accuracy: 0.8242\n",
            "Epoch 210/500\n",
            "8/8 [==============================] - 1s 67ms/step - loss: 0.1464 - accuracy: 0.9230 - val_loss: 2.5889 - val_accuracy: 0.8320\n",
            "Epoch 211/500\n",
            "8/8 [==============================] - 1s 65ms/step - loss: 0.1471 - accuracy: 0.9230 - val_loss: 2.5912 - val_accuracy: 0.8320\n",
            "Epoch 212/500\n",
            "8/8 [==============================] - 1s 67ms/step - loss: 0.1465 - accuracy: 0.9230 - val_loss: 2.5962 - val_accuracy: 0.8359\n",
            "Epoch 213/500\n",
            "8/8 [==============================] - 1s 67ms/step - loss: 0.1478 - accuracy: 0.9220 - val_loss: 2.5976 - val_accuracy: 0.8242\n",
            "Epoch 214/500\n",
            "8/8 [==============================] - 1s 66ms/step - loss: 0.1465 - accuracy: 0.9230 - val_loss: 2.5944 - val_accuracy: 0.8281\n",
            "Epoch 215/500\n",
            "8/8 [==============================] - 1s 64ms/step - loss: 0.1466 - accuracy: 0.9230 - val_loss: 2.5933 - val_accuracy: 0.8281\n",
            "Epoch 216/500\n",
            "8/8 [==============================] - 1s 65ms/step - loss: 0.1546 - accuracy: 0.9220 - val_loss: 2.6366 - val_accuracy: 0.8242\n",
            "Epoch 217/500\n",
            "8/8 [==============================] - 1s 67ms/step - loss: 0.1501 - accuracy: 0.9220 - val_loss: 2.7812 - val_accuracy: 0.8203\n",
            "Epoch 218/500\n",
            "8/8 [==============================] - 1s 66ms/step - loss: 0.1474 - accuracy: 0.9220 - val_loss: 2.8289 - val_accuracy: 0.8242\n",
            "Epoch 219/500\n",
            "8/8 [==============================] - 1s 64ms/step - loss: 0.1505 - accuracy: 0.9220 - val_loss: 2.9867 - val_accuracy: 0.8164\n",
            "Epoch 220/500\n",
            "8/8 [==============================] - 1s 66ms/step - loss: 0.1495 - accuracy: 0.9220 - val_loss: 2.8683 - val_accuracy: 0.8164\n",
            "Epoch 221/500\n",
            "8/8 [==============================] - 1s 66ms/step - loss: 0.1464 - accuracy: 0.9230 - val_loss: 2.6829 - val_accuracy: 0.8320\n",
            "Epoch 222/500\n",
            "8/8 [==============================] - 1s 67ms/step - loss: 0.1463 - accuracy: 0.9230 - val_loss: 2.6690 - val_accuracy: 0.8398\n",
            "Epoch 223/500\n",
            "8/8 [==============================] - 1s 66ms/step - loss: 0.1485 - accuracy: 0.9210 - val_loss: 2.5700 - val_accuracy: 0.8477\n",
            "Epoch 224/500\n",
            "8/8 [==============================] - 1s 65ms/step - loss: 0.1508 - accuracy: 0.9210 - val_loss: 2.5014 - val_accuracy: 0.8516\n",
            "Epoch 225/500\n",
            "8/8 [==============================] - 1s 67ms/step - loss: 0.1466 - accuracy: 0.9230 - val_loss: 2.4749 - val_accuracy: 0.8516\n",
            "Epoch 226/500\n",
            "8/8 [==============================] - 1s 66ms/step - loss: 0.1470 - accuracy: 0.9230 - val_loss: 2.5111 - val_accuracy: 0.8438\n",
            "Epoch 227/500\n",
            "8/8 [==============================] - 1s 66ms/step - loss: 0.1463 - accuracy: 0.9230 - val_loss: 2.5308 - val_accuracy: 0.8398\n",
            "Epoch 228/500\n",
            "8/8 [==============================] - 1s 67ms/step - loss: 0.1468 - accuracy: 0.9230 - val_loss: 2.5355 - val_accuracy: 0.8398\n",
            "Epoch 229/500\n",
            "8/8 [==============================] - 1s 68ms/step - loss: 0.1460 - accuracy: 0.9230 - val_loss: 2.5347 - val_accuracy: 0.8398\n",
            "Epoch 230/500\n",
            "8/8 [==============================] - 1s 66ms/step - loss: 0.1474 - accuracy: 0.9230 - val_loss: 2.5290 - val_accuracy: 0.8438\n",
            "Epoch 231/500\n",
            "8/8 [==============================] - 1s 66ms/step - loss: 0.1465 - accuracy: 0.9230 - val_loss: 2.5233 - val_accuracy: 0.8438\n",
            "Epoch 232/500\n",
            "8/8 [==============================] - 1s 66ms/step - loss: 0.1465 - accuracy: 0.9230 - val_loss: 2.5209 - val_accuracy: 0.8438\n",
            "Epoch 233/500\n",
            "8/8 [==============================] - 1s 66ms/step - loss: 0.1464 - accuracy: 0.9230 - val_loss: 2.5242 - val_accuracy: 0.8438\n",
            "Epoch 234/500\n",
            "8/8 [==============================] - 1s 67ms/step - loss: 0.1463 - accuracy: 0.9230 - val_loss: 2.5262 - val_accuracy: 0.8438\n",
            "Epoch 235/500\n",
            "8/8 [==============================] - 1s 66ms/step - loss: 0.1462 - accuracy: 0.9230 - val_loss: 2.5291 - val_accuracy: 0.8438\n",
            "Epoch 236/500\n",
            "8/8 [==============================] - 1s 65ms/step - loss: 0.1468 - accuracy: 0.9230 - val_loss: 2.6354 - val_accuracy: 0.8281\n",
            "Epoch 237/500\n",
            "8/8 [==============================] - 1s 66ms/step - loss: 0.1463 - accuracy: 0.9230 - val_loss: 2.8107 - val_accuracy: 0.8164\n",
            "Epoch 238/500\n",
            "8/8 [==============================] - 1s 65ms/step - loss: 0.1462 - accuracy: 0.9230 - val_loss: 2.8998 - val_accuracy: 0.8164\n",
            "Epoch 239/500\n",
            "8/8 [==============================] - 1s 67ms/step - loss: 0.1461 - accuracy: 0.9230 - val_loss: 2.9360 - val_accuracy: 0.8164\n",
            "Epoch 240/500\n",
            "8/8 [==============================] - 1s 66ms/step - loss: 0.1486 - accuracy: 0.9220 - val_loss: 2.9919 - val_accuracy: 0.8086\n",
            "Epoch 241/500\n",
            "8/8 [==============================] - 1s 66ms/step - loss: 0.1471 - accuracy: 0.9230 - val_loss: 3.1264 - val_accuracy: 0.8164\n",
            "Epoch 242/500\n",
            "8/8 [==============================] - 1s 65ms/step - loss: 0.1528 - accuracy: 0.9210 - val_loss: 2.9734 - val_accuracy: 0.8203\n",
            "Epoch 243/500\n",
            "8/8 [==============================] - 1s 66ms/step - loss: 0.1465 - accuracy: 0.9230 - val_loss: 3.0778 - val_accuracy: 0.8242\n",
            "Epoch 244/500\n",
            "8/8 [==============================] - 1s 68ms/step - loss: 0.1468 - accuracy: 0.9230 - val_loss: 3.1185 - val_accuracy: 0.8242\n",
            "Epoch 245/500\n",
            "8/8 [==============================] - 1s 65ms/step - loss: 0.1466 - accuracy: 0.9230 - val_loss: 3.1322 - val_accuracy: 0.8320\n",
            "Epoch 246/500\n",
            "8/8 [==============================] - 1s 67ms/step - loss: 0.1466 - accuracy: 0.9230 - val_loss: 3.1152 - val_accuracy: 0.8359\n",
            "Epoch 247/500\n",
            "8/8 [==============================] - 1s 67ms/step - loss: 0.1473 - accuracy: 0.9220 - val_loss: 3.0807 - val_accuracy: 0.8359\n",
            "Epoch 248/500\n",
            "8/8 [==============================] - 1s 68ms/step - loss: 0.1464 - accuracy: 0.9230 - val_loss: 3.0871 - val_accuracy: 0.8320\n",
            "Epoch 249/500\n",
            "8/8 [==============================] - 1s 65ms/step - loss: 0.1469 - accuracy: 0.9230 - val_loss: 3.0769 - val_accuracy: 0.8320\n",
            "Epoch 250/500\n",
            "8/8 [==============================] - 1s 66ms/step - loss: 0.1472 - accuracy: 0.9230 - val_loss: 3.1139 - val_accuracy: 0.8320\n",
            "Epoch 251/500\n",
            "8/8 [==============================] - 1s 66ms/step - loss: 0.1463 - accuracy: 0.9230 - val_loss: 3.1461 - val_accuracy: 0.8320\n",
            "Epoch 252/500\n",
            "8/8 [==============================] - 1s 68ms/step - loss: 0.1488 - accuracy: 0.9220 - val_loss: 3.2210 - val_accuracy: 0.8242\n",
            "Epoch 253/500\n",
            "8/8 [==============================] - 1s 66ms/step - loss: 0.1489 - accuracy: 0.9220 - val_loss: 3.1150 - val_accuracy: 0.8242\n",
            "Epoch 254/500\n",
            "8/8 [==============================] - 1s 65ms/step - loss: 0.1465 - accuracy: 0.9230 - val_loss: 3.0733 - val_accuracy: 0.8281\n",
            "Epoch 255/500\n",
            "8/8 [==============================] - 1s 67ms/step - loss: 0.1465 - accuracy: 0.9230 - val_loss: 3.0308 - val_accuracy: 0.8281\n",
            "Epoch 256/500\n",
            "8/8 [==============================] - 1s 65ms/step - loss: 0.1463 - accuracy: 0.9230 - val_loss: 3.0105 - val_accuracy: 0.8281\n",
            "Epoch 257/500\n",
            "8/8 [==============================] - 1s 67ms/step - loss: 0.1479 - accuracy: 0.9220 - val_loss: 3.1071 - val_accuracy: 0.8320\n",
            "Epoch 258/500\n",
            "8/8 [==============================] - 1s 66ms/step - loss: 0.1461 - accuracy: 0.9230 - val_loss: 3.1522 - val_accuracy: 0.8359\n",
            "Epoch 259/500\n",
            "8/8 [==============================] - 1s 65ms/step - loss: 0.1475 - accuracy: 0.9220 - val_loss: 2.9826 - val_accuracy: 0.8359\n",
            "Epoch 260/500\n",
            "8/8 [==============================] - 1s 68ms/step - loss: 0.1464 - accuracy: 0.9230 - val_loss: 2.8918 - val_accuracy: 0.8398\n",
            "Epoch 261/500\n",
            "8/8 [==============================] - 1s 66ms/step - loss: 0.1473 - accuracy: 0.9220 - val_loss: 3.0522 - val_accuracy: 0.8438\n",
            "Epoch 262/500\n",
            "8/8 [==============================] - 1s 65ms/step - loss: 0.1469 - accuracy: 0.9230 - val_loss: 3.2715 - val_accuracy: 0.8438\n",
            "Epoch 263/500\n",
            "8/8 [==============================] - 1s 67ms/step - loss: 0.1463 - accuracy: 0.9230 - val_loss: 3.3663 - val_accuracy: 0.8438\n",
            "Epoch 264/500\n",
            "8/8 [==============================] - 1s 68ms/step - loss: 0.1466 - accuracy: 0.9230 - val_loss: 3.1967 - val_accuracy: 0.8438\n",
            "Epoch 265/500\n",
            "8/8 [==============================] - 1s 68ms/step - loss: 0.1461 - accuracy: 0.9230 - val_loss: 3.1269 - val_accuracy: 0.8359\n",
            "Epoch 266/500\n",
            "8/8 [==============================] - 1s 66ms/step - loss: 0.1466 - accuracy: 0.9230 - val_loss: 3.0929 - val_accuracy: 0.8359\n",
            "Epoch 267/500\n",
            "8/8 [==============================] - 1s 68ms/step - loss: 0.1510 - accuracy: 0.9220 - val_loss: 3.0816 - val_accuracy: 0.8125\n",
            "Epoch 268/500\n",
            "8/8 [==============================] - 1s 67ms/step - loss: 0.1467 - accuracy: 0.9230 - val_loss: 3.2182 - val_accuracy: 0.8008\n",
            "Epoch 269/500\n",
            "8/8 [==============================] - 1s 68ms/step - loss: 0.1465 - accuracy: 0.9230 - val_loss: 3.2657 - val_accuracy: 0.7969\n",
            "Epoch 270/500\n",
            "8/8 [==============================] - 1s 64ms/step - loss: 0.1565 - accuracy: 0.9220 - val_loss: 3.2531 - val_accuracy: 0.7930\n",
            "Epoch 271/500\n",
            "8/8 [==============================] - 1s 67ms/step - loss: 0.1459 - accuracy: 0.9230 - val_loss: 3.3631 - val_accuracy: 0.8086\n",
            "Epoch 272/500\n",
            "8/8 [==============================] - 1s 68ms/step - loss: 0.1474 - accuracy: 0.9220 - val_loss: 3.4789 - val_accuracy: 0.8086\n",
            "Epoch 273/500\n",
            "8/8 [==============================] - 1s 66ms/step - loss: 0.1535 - accuracy: 0.9220 - val_loss: 3.2940 - val_accuracy: 0.8125\n",
            "Epoch 274/500\n",
            "8/8 [==============================] - 1s 67ms/step - loss: 0.1528 - accuracy: 0.9220 - val_loss: 3.1946 - val_accuracy: 0.7930\n",
            "Epoch 275/500\n",
            "8/8 [==============================] - 1s 66ms/step - loss: 0.1551 - accuracy: 0.9210 - val_loss: 3.2187 - val_accuracy: 0.7930\n",
            "Epoch 276/500\n",
            "8/8 [==============================] - 1s 67ms/step - loss: 0.1464 - accuracy: 0.9230 - val_loss: 3.1818 - val_accuracy: 0.7969\n",
            "Epoch 277/500\n",
            "8/8 [==============================] - 1s 66ms/step - loss: 0.1584 - accuracy: 0.9210 - val_loss: 2.9619 - val_accuracy: 0.7930\n",
            "Epoch 278/500\n",
            "8/8 [==============================] - 1s 68ms/step - loss: 0.1468 - accuracy: 0.9230 - val_loss: 2.7398 - val_accuracy: 0.8164\n",
            "Epoch 279/500\n",
            "8/8 [==============================] - 1s 68ms/step - loss: 0.1520 - accuracy: 0.9210 - val_loss: 2.9138 - val_accuracy: 0.8281\n",
            "Epoch 280/500\n",
            "8/8 [==============================] - 1s 67ms/step - loss: 0.1588 - accuracy: 0.9220 - val_loss: 2.7199 - val_accuracy: 0.8594\n",
            "Epoch 281/500\n",
            "8/8 [==============================] - 1s 65ms/step - loss: 0.1594 - accuracy: 0.9200 - val_loss: 2.9275 - val_accuracy: 0.8281\n",
            "Epoch 282/500\n",
            "8/8 [==============================] - 1s 69ms/step - loss: 0.1524 - accuracy: 0.9210 - val_loss: 4.1958 - val_accuracy: 0.7734\n",
            "Epoch 283/500\n",
            "8/8 [==============================] - 1s 66ms/step - loss: 0.1487 - accuracy: 0.9220 - val_loss: 4.3083 - val_accuracy: 0.7734\n",
            "Epoch 284/500\n",
            "8/8 [==============================] - 1s 67ms/step - loss: 0.1758 - accuracy: 0.9170 - val_loss: 3.7345 - val_accuracy: 0.7812\n",
            "Epoch 285/500\n",
            "8/8 [==============================] - 1s 67ms/step - loss: 0.1770 - accuracy: 0.9200 - val_loss: 3.1329 - val_accuracy: 0.7930\n",
            "Epoch 286/500\n",
            "8/8 [==============================] - 1s 66ms/step - loss: 0.1479 - accuracy: 0.9230 - val_loss: 2.6086 - val_accuracy: 0.8320\n",
            "Epoch 287/500\n",
            "8/8 [==============================] - 1s 67ms/step - loss: 0.1693 - accuracy: 0.9210 - val_loss: 3.5898 - val_accuracy: 0.8203\n",
            "Epoch 288/500\n",
            "8/8 [==============================] - 1s 67ms/step - loss: 0.1589 - accuracy: 0.9200 - val_loss: 3.5556 - val_accuracy: 0.8398\n",
            "Epoch 289/500\n",
            "8/8 [==============================] - 1s 67ms/step - loss: 0.1720 - accuracy: 0.9200 - val_loss: 4.0738 - val_accuracy: 0.8281\n",
            "Epoch 290/500\n",
            "8/8 [==============================] - 1s 67ms/step - loss: 0.1600 - accuracy: 0.9200 - val_loss: 4.1132 - val_accuracy: 0.8398\n",
            "Epoch 291/500\n",
            "8/8 [==============================] - 1s 66ms/step - loss: 0.1526 - accuracy: 0.9210 - val_loss: 3.7005 - val_accuracy: 0.8516\n",
            "Epoch 292/500\n",
            "8/8 [==============================] - 1s 66ms/step - loss: 0.1747 - accuracy: 0.9170 - val_loss: 4.8594 - val_accuracy: 0.8438\n",
            "Epoch 293/500\n",
            "8/8 [==============================] - 1s 65ms/step - loss: 0.1887 - accuracy: 0.9170 - val_loss: 5.9523 - val_accuracy: 0.8359\n",
            "Epoch 294/500\n",
            "8/8 [==============================] - 1s 66ms/step - loss: 0.1962 - accuracy: 0.9140 - val_loss: 6.7329 - val_accuracy: 0.8047\n",
            "Epoch 295/500\n",
            "8/8 [==============================] - 1s 68ms/step - loss: 0.1796 - accuracy: 0.9170 - val_loss: 5.3513 - val_accuracy: 0.8281\n",
            "Epoch 296/500\n",
            "8/8 [==============================] - 1s 70ms/step - loss: 0.1963 - accuracy: 0.9170 - val_loss: 5.1691 - val_accuracy: 0.8086\n",
            "Epoch 297/500\n",
            "8/8 [==============================] - 1s 69ms/step - loss: 0.1849 - accuracy: 0.9150 - val_loss: 5.1934 - val_accuracy: 0.8164\n",
            "Epoch 298/500\n",
            "8/8 [==============================] - 1s 67ms/step - loss: 0.1688 - accuracy: 0.9200 - val_loss: 4.5634 - val_accuracy: 0.8516\n",
            "Epoch 299/500\n",
            "8/8 [==============================] - 1s 67ms/step - loss: 0.1937 - accuracy: 0.9170 - val_loss: 4.3767 - val_accuracy: 0.8516\n",
            "Epoch 300/500\n",
            "8/8 [==============================] - 1s 68ms/step - loss: 0.2011 - accuracy: 0.9180 - val_loss: 3.3790 - val_accuracy: 0.8633\n",
            "Epoch 301/500\n",
            "8/8 [==============================] - 1s 66ms/step - loss: 0.1577 - accuracy: 0.9200 - val_loss: 2.9866 - val_accuracy: 0.8359\n",
            "Epoch 302/500\n",
            "8/8 [==============================] - 1s 67ms/step - loss: 0.1769 - accuracy: 0.9160 - val_loss: 3.5981 - val_accuracy: 0.8398\n",
            "Epoch 303/500\n",
            "8/8 [==============================] - 1s 68ms/step - loss: 0.1691 - accuracy: 0.9200 - val_loss: 5.3114 - val_accuracy: 0.8242\n",
            "Epoch 304/500\n",
            "8/8 [==============================] - 1s 67ms/step - loss: 0.1600 - accuracy: 0.9200 - val_loss: 5.2374 - val_accuracy: 0.8320\n",
            "Epoch 305/500\n",
            "8/8 [==============================] - 1s 67ms/step - loss: 0.1563 - accuracy: 0.9200 - val_loss: 4.7360 - val_accuracy: 0.8281\n",
            "Epoch 306/500\n",
            "8/8 [==============================] - 1s 66ms/step - loss: 0.1612 - accuracy: 0.9200 - val_loss: 4.1716 - val_accuracy: 0.8164\n",
            "Epoch 307/500\n",
            "8/8 [==============================] - 1s 66ms/step - loss: 0.1474 - accuracy: 0.9230 - val_loss: 4.0197 - val_accuracy: 0.8242\n",
            "Epoch 308/500\n",
            "8/8 [==============================] - 1s 66ms/step - loss: 0.1547 - accuracy: 0.9190 - val_loss: 3.8910 - val_accuracy: 0.8320\n",
            "Epoch 309/500\n",
            "8/8 [==============================] - 1s 66ms/step - loss: 0.1463 - accuracy: 0.9230 - val_loss: 3.7711 - val_accuracy: 0.8320\n",
            "Epoch 310/500\n",
            "8/8 [==============================] - 1s 67ms/step - loss: 0.1493 - accuracy: 0.9220 - val_loss: 3.7248 - val_accuracy: 0.8320\n",
            "Epoch 311/500\n",
            "8/8 [==============================] - 1s 68ms/step - loss: 0.1495 - accuracy: 0.9210 - val_loss: 3.6783 - val_accuracy: 0.8203\n",
            "Epoch 312/500\n",
            "8/8 [==============================] - 1s 67ms/step - loss: 0.1467 - accuracy: 0.9230 - val_loss: 3.3728 - val_accuracy: 0.8281\n",
            "Epoch 313/500\n",
            "8/8 [==============================] - 1s 67ms/step - loss: 0.1497 - accuracy: 0.9210 - val_loss: 3.5684 - val_accuracy: 0.8555\n",
            "Epoch 314/500\n",
            "8/8 [==============================] - 1s 67ms/step - loss: 0.1500 - accuracy: 0.9220 - val_loss: 3.7422 - val_accuracy: 0.8594\n",
            "Epoch 315/500\n",
            "8/8 [==============================] - 1s 68ms/step - loss: 0.1460 - accuracy: 0.9230 - val_loss: 3.8456 - val_accuracy: 0.8555\n",
            "Epoch 316/500\n",
            "8/8 [==============================] - 1s 68ms/step - loss: 0.1514 - accuracy: 0.9220 - val_loss: 3.8235 - val_accuracy: 0.8477\n",
            "Epoch 317/500\n",
            "8/8 [==============================] - 1s 67ms/step - loss: 0.1461 - accuracy: 0.9230 - val_loss: 3.7797 - val_accuracy: 0.8477\n",
            "Epoch 318/500\n",
            "8/8 [==============================] - 1s 68ms/step - loss: 0.1486 - accuracy: 0.9220 - val_loss: 3.4641 - val_accuracy: 0.8398\n",
            "Epoch 319/500\n",
            "8/8 [==============================] - 1s 69ms/step - loss: 0.1565 - accuracy: 0.9220 - val_loss: 3.5804 - val_accuracy: 0.8398\n",
            "Epoch 320/500\n",
            "8/8 [==============================] - 1s 69ms/step - loss: 0.1530 - accuracy: 0.9210 - val_loss: 3.7514 - val_accuracy: 0.8320\n",
            "Epoch 321/500\n",
            "8/8 [==============================] - 1s 66ms/step - loss: 0.1482 - accuracy: 0.9220 - val_loss: 3.5290 - val_accuracy: 0.8320\n",
            "Epoch 322/500\n",
            "8/8 [==============================] - 1s 67ms/step - loss: 0.1529 - accuracy: 0.9210 - val_loss: 3.4586 - val_accuracy: 0.8242\n",
            "Epoch 323/500\n",
            "8/8 [==============================] - 1s 67ms/step - loss: 0.1477 - accuracy: 0.9220 - val_loss: 3.5155 - val_accuracy: 0.8242\n",
            "Epoch 324/500\n",
            "8/8 [==============================] - 1s 69ms/step - loss: 0.1529 - accuracy: 0.9210 - val_loss: 3.3809 - val_accuracy: 0.8320\n",
            "Epoch 325/500\n",
            "8/8 [==============================] - 1s 67ms/step - loss: 0.1463 - accuracy: 0.9230 - val_loss: 3.1904 - val_accuracy: 0.8359\n",
            "Epoch 326/500\n",
            "8/8 [==============================] - 1s 67ms/step - loss: 0.1487 - accuracy: 0.9220 - val_loss: 3.2871 - val_accuracy: 0.8398\n",
            "Epoch 327/500\n",
            "8/8 [==============================] - 1s 66ms/step - loss: 0.1618 - accuracy: 0.9220 - val_loss: 3.7494 - val_accuracy: 0.8477\n",
            "Epoch 328/500\n",
            "8/8 [==============================] - 1s 67ms/step - loss: 0.1465 - accuracy: 0.9230 - val_loss: 3.8146 - val_accuracy: 0.8516\n",
            "Epoch 329/500\n",
            "8/8 [==============================] - 1s 69ms/step - loss: 0.1494 - accuracy: 0.9210 - val_loss: 3.9008 - val_accuracy: 0.8438\n",
            "Epoch 330/500\n",
            "8/8 [==============================] - 1s 69ms/step - loss: 0.1525 - accuracy: 0.9210 - val_loss: 3.7070 - val_accuracy: 0.8359\n",
            "Epoch 331/500\n",
            "8/8 [==============================] - 1s 68ms/step - loss: 0.1578 - accuracy: 0.9210 - val_loss: 3.5210 - val_accuracy: 0.8359\n",
            "Epoch 332/500\n",
            "8/8 [==============================] - 1s 67ms/step - loss: 0.1492 - accuracy: 0.9220 - val_loss: 3.4310 - val_accuracy: 0.8125\n",
            "Epoch 333/500\n",
            "8/8 [==============================] - 1s 69ms/step - loss: 0.1574 - accuracy: 0.9210 - val_loss: 4.1181 - val_accuracy: 0.8164\n",
            "Epoch 334/500\n",
            "8/8 [==============================] - 1s 67ms/step - loss: 0.1544 - accuracy: 0.9210 - val_loss: 5.7128 - val_accuracy: 0.7969\n",
            "Epoch 335/500\n",
            "8/8 [==============================] - 1s 68ms/step - loss: 0.1604 - accuracy: 0.9220 - val_loss: 4.2207 - val_accuracy: 0.8281\n",
            "Epoch 336/500\n",
            "8/8 [==============================] - 1s 66ms/step - loss: 0.1466 - accuracy: 0.9230 - val_loss: 3.5270 - val_accuracy: 0.8359\n",
            "Epoch 337/500\n",
            "8/8 [==============================] - 1s 68ms/step - loss: 0.1566 - accuracy: 0.9220 - val_loss: 3.3285 - val_accuracy: 0.8359\n",
            "Epoch 338/500\n",
            "8/8 [==============================] - 1s 68ms/step - loss: 0.1467 - accuracy: 0.9230 - val_loss: 3.2432 - val_accuracy: 0.8359\n",
            "Epoch 339/500\n",
            "8/8 [==============================] - 1s 70ms/step - loss: 0.1468 - accuracy: 0.9230 - val_loss: 3.2294 - val_accuracy: 0.8359\n",
            "Epoch 340/500\n",
            "8/8 [==============================] - 1s 67ms/step - loss: 0.1682 - accuracy: 0.9210 - val_loss: 3.1727 - val_accuracy: 0.8359\n",
            "Epoch 341/500\n",
            "8/8 [==============================] - 1s 67ms/step - loss: 0.1490 - accuracy: 0.9220 - val_loss: 3.3277 - val_accuracy: 0.8359\n",
            "Epoch 342/500\n",
            "8/8 [==============================] - 1s 66ms/step - loss: 0.1466 - accuracy: 0.9230 - val_loss: 3.4377 - val_accuracy: 0.8398\n",
            "Epoch 343/500\n",
            "8/8 [==============================] - 1s 67ms/step - loss: 0.1469 - accuracy: 0.9220 - val_loss: 3.5266 - val_accuracy: 0.8359\n",
            "Epoch 344/500\n",
            "8/8 [==============================] - 1s 67ms/step - loss: 0.1464 - accuracy: 0.9230 - val_loss: 3.5661 - val_accuracy: 0.8398\n",
            "Epoch 345/500\n",
            "8/8 [==============================] - 1s 66ms/step - loss: 0.1472 - accuracy: 0.9230 - val_loss: 3.5778 - val_accuracy: 0.8398\n",
            "Epoch 346/500\n",
            "8/8 [==============================] - 1s 67ms/step - loss: 0.1541 - accuracy: 0.9220 - val_loss: 3.4389 - val_accuracy: 0.8516\n",
            "Epoch 347/500\n",
            "8/8 [==============================] - 1s 68ms/step - loss: 0.1461 - accuracy: 0.9230 - val_loss: 3.3404 - val_accuracy: 0.8633\n",
            "Epoch 348/500\n",
            "8/8 [==============================] - 1s 70ms/step - loss: 0.1464 - accuracy: 0.9230 - val_loss: 3.3401 - val_accuracy: 0.8711\n",
            "Epoch 349/500\n",
            "8/8 [==============================] - 1s 68ms/step - loss: 0.1463 - accuracy: 0.9230 - val_loss: 3.3465 - val_accuracy: 0.8711\n",
            "Epoch 350/500\n",
            "8/8 [==============================] - 1s 70ms/step - loss: 0.1499 - accuracy: 0.9210 - val_loss: 3.0615 - val_accuracy: 0.8594\n",
            "Epoch 351/500\n",
            "8/8 [==============================] - 1s 67ms/step - loss: 0.1497 - accuracy: 0.9220 - val_loss: 2.9530 - val_accuracy: 0.8398\n",
            "Epoch 352/500\n",
            "8/8 [==============================] - 1s 66ms/step - loss: 0.1462 - accuracy: 0.9230 - val_loss: 2.9523 - val_accuracy: 0.8320\n",
            "Epoch 353/500\n",
            "8/8 [==============================] - 1s 68ms/step - loss: 0.1487 - accuracy: 0.9210 - val_loss: 2.9338 - val_accuracy: 0.8242\n",
            "Epoch 354/500\n",
            "8/8 [==============================] - 1s 68ms/step - loss: 0.1491 - accuracy: 0.9220 - val_loss: 2.8330 - val_accuracy: 0.8594\n",
            "Epoch 355/500\n",
            "8/8 [==============================] - 1s 69ms/step - loss: 0.1461 - accuracy: 0.9230 - val_loss: 2.8608 - val_accuracy: 0.8672\n",
            "Epoch 356/500\n",
            "8/8 [==============================] - 1s 68ms/step - loss: 0.1463 - accuracy: 0.9230 - val_loss: 2.8865 - val_accuracy: 0.8711\n",
            "Epoch 357/500\n",
            "8/8 [==============================] - 1s 68ms/step - loss: 0.1468 - accuracy: 0.9230 - val_loss: 2.8994 - val_accuracy: 0.8711\n",
            "Epoch 358/500\n",
            "8/8 [==============================] - 1s 70ms/step - loss: 0.1521 - accuracy: 0.9220 - val_loss: 2.9244 - val_accuracy: 0.8555\n",
            "Epoch 359/500\n",
            "8/8 [==============================] - 1s 67ms/step - loss: 0.1467 - accuracy: 0.9230 - val_loss: 3.3862 - val_accuracy: 0.8359\n",
            "Epoch 360/500\n",
            "8/8 [==============================] - 1s 69ms/step - loss: 0.1523 - accuracy: 0.9210 - val_loss: 3.9193 - val_accuracy: 0.8203\n",
            "Epoch 361/500\n",
            "8/8 [==============================] - 1s 69ms/step - loss: 0.1478 - accuracy: 0.9220 - val_loss: 3.9248 - val_accuracy: 0.8203\n",
            "Epoch 362/500\n",
            "8/8 [==============================] - 1s 69ms/step - loss: 0.1579 - accuracy: 0.9210 - val_loss: 3.8029 - val_accuracy: 0.8242\n",
            "Epoch 363/500\n",
            "8/8 [==============================] - 1s 67ms/step - loss: 0.1469 - accuracy: 0.9230 - val_loss: 3.7519 - val_accuracy: 0.8242\n",
            "Epoch 364/500\n",
            "8/8 [==============================] - 1s 68ms/step - loss: 0.1544 - accuracy: 0.9220 - val_loss: 3.8619 - val_accuracy: 0.8242\n",
            "Epoch 365/500\n",
            "8/8 [==============================] - 1s 68ms/step - loss: 0.1471 - accuracy: 0.9230 - val_loss: 3.9788 - val_accuracy: 0.8203\n",
            "Epoch 366/500\n",
            "8/8 [==============================] - 1s 69ms/step - loss: 0.1469 - accuracy: 0.9230 - val_loss: 4.0304 - val_accuracy: 0.8242\n",
            "Epoch 367/500\n",
            "8/8 [==============================] - 1s 67ms/step - loss: 0.1469 - accuracy: 0.9230 - val_loss: 4.0332 - val_accuracy: 0.8242\n",
            "Epoch 368/500\n",
            "8/8 [==============================] - 1s 68ms/step - loss: 0.1461 - accuracy: 0.9230 - val_loss: 4.0275 - val_accuracy: 0.8281\n",
            "Epoch 369/500\n",
            "8/8 [==============================] - 1s 69ms/step - loss: 0.1464 - accuracy: 0.9230 - val_loss: 4.0192 - val_accuracy: 0.8281\n",
            "Epoch 370/500\n",
            "8/8 [==============================] - 1s 67ms/step - loss: 0.1465 - accuracy: 0.9230 - val_loss: 4.0011 - val_accuracy: 0.8320\n",
            "Epoch 371/500\n",
            "8/8 [==============================] - 1s 68ms/step - loss: 0.1466 - accuracy: 0.9230 - val_loss: 3.9812 - val_accuracy: 0.8320\n",
            "Epoch 372/500\n",
            "8/8 [==============================] - 1s 68ms/step - loss: 0.1469 - accuracy: 0.9230 - val_loss: 4.0036 - val_accuracy: 0.8320\n",
            "Epoch 373/500\n",
            "8/8 [==============================] - 1s 69ms/step - loss: 0.1477 - accuracy: 0.9230 - val_loss: 4.0008 - val_accuracy: 0.8359\n",
            "Epoch 374/500\n",
            "8/8 [==============================] - 1s 68ms/step - loss: 0.1467 - accuracy: 0.9220 - val_loss: 4.1518 - val_accuracy: 0.8281\n",
            "Epoch 375/500\n",
            "8/8 [==============================] - 1s 68ms/step - loss: 0.1479 - accuracy: 0.9220 - val_loss: 4.2461 - val_accuracy: 0.8320\n",
            "Epoch 376/500\n",
            "8/8 [==============================] - 1s 68ms/step - loss: 0.1461 - accuracy: 0.9230 - val_loss: 4.2928 - val_accuracy: 0.8281\n",
            "Epoch 377/500\n",
            "8/8 [==============================] - 1s 68ms/step - loss: 0.1463 - accuracy: 0.9230 - val_loss: 4.3118 - val_accuracy: 0.8281\n",
            "Epoch 378/500\n",
            "8/8 [==============================] - 1s 68ms/step - loss: 0.1467 - accuracy: 0.9230 - val_loss: 4.3156 - val_accuracy: 0.8242\n",
            "Epoch 379/500\n",
            "8/8 [==============================] - 1s 67ms/step - loss: 0.1468 - accuracy: 0.9230 - val_loss: 4.3118 - val_accuracy: 0.8242\n",
            "Epoch 380/500\n",
            "8/8 [==============================] - 1s 69ms/step - loss: 0.1467 - accuracy: 0.9230 - val_loss: 4.3138 - val_accuracy: 0.8242\n",
            "Epoch 381/500\n",
            "8/8 [==============================] - 1s 69ms/step - loss: 0.1463 - accuracy: 0.9230 - val_loss: 4.3160 - val_accuracy: 0.8242\n",
            "Epoch 382/500\n",
            "8/8 [==============================] - 1s 66ms/step - loss: 0.1459 - accuracy: 0.9230 - val_loss: 4.3180 - val_accuracy: 0.8242\n",
            "Epoch 383/500\n",
            "8/8 [==============================] - 1s 69ms/step - loss: 0.1462 - accuracy: 0.9230 - val_loss: 4.3185 - val_accuracy: 0.8242\n",
            "Epoch 384/500\n",
            "8/8 [==============================] - 1s 69ms/step - loss: 0.1464 - accuracy: 0.9230 - val_loss: 4.3170 - val_accuracy: 0.8242\n",
            "Epoch 385/500\n",
            "8/8 [==============================] - 1s 67ms/step - loss: 0.1464 - accuracy: 0.9230 - val_loss: 4.2905 - val_accuracy: 0.8242\n",
            "Epoch 386/500\n",
            "8/8 [==============================] - 1s 67ms/step - loss: 0.1457 - accuracy: 0.9230 - val_loss: 4.2511 - val_accuracy: 0.8281\n",
            "Epoch 387/500\n",
            "8/8 [==============================] - 1s 68ms/step - loss: 0.1475 - accuracy: 0.9220 - val_loss: 4.2561 - val_accuracy: 0.8281\n",
            "Epoch 388/500\n",
            "8/8 [==============================] - 1s 71ms/step - loss: 0.1463 - accuracy: 0.9230 - val_loss: 4.2648 - val_accuracy: 0.8281\n",
            "Epoch 389/500\n",
            "8/8 [==============================] - 1s 67ms/step - loss: 0.1464 - accuracy: 0.9230 - val_loss: 4.2697 - val_accuracy: 0.8281\n",
            "Epoch 390/500\n",
            "8/8 [==============================] - 1s 70ms/step - loss: 0.1464 - accuracy: 0.9230 - val_loss: 4.2677 - val_accuracy: 0.8281\n",
            "Epoch 391/500\n",
            "8/8 [==============================] - 1s 67ms/step - loss: 0.1485 - accuracy: 0.9220 - val_loss: 3.6726 - val_accuracy: 0.8398\n",
            "Epoch 392/500\n",
            "8/8 [==============================] - 1s 67ms/step - loss: 0.1459 - accuracy: 0.9230 - val_loss: 3.3841 - val_accuracy: 0.8359\n",
            "Epoch 393/500\n",
            "8/8 [==============================] - 1s 68ms/step - loss: 0.1471 - accuracy: 0.9230 - val_loss: 3.2954 - val_accuracy: 0.8320\n",
            "Epoch 394/500\n",
            "8/8 [==============================] - 1s 70ms/step - loss: 0.1469 - accuracy: 0.9230 - val_loss: 3.2653 - val_accuracy: 0.8320\n",
            "Epoch 395/500\n",
            "8/8 [==============================] - 1s 67ms/step - loss: 0.1464 - accuracy: 0.9230 - val_loss: 3.2673 - val_accuracy: 0.8320\n",
            "Epoch 396/500\n",
            "8/8 [==============================] - 1s 67ms/step - loss: 0.1463 - accuracy: 0.9230 - val_loss: 3.2710 - val_accuracy: 0.8320\n",
            "Epoch 397/500\n",
            "8/8 [==============================] - 1s 67ms/step - loss: 0.1462 - accuracy: 0.9230 - val_loss: 3.2735 - val_accuracy: 0.8320\n",
            "Epoch 398/500\n",
            "8/8 [==============================] - 1s 67ms/step - loss: 0.1462 - accuracy: 0.9230 - val_loss: 3.2815 - val_accuracy: 0.8320\n",
            "Epoch 399/500\n",
            "8/8 [==============================] - 1s 68ms/step - loss: 0.1463 - accuracy: 0.9230 - val_loss: 3.2862 - val_accuracy: 0.8320\n",
            "Epoch 400/500\n",
            "8/8 [==============================] - 1s 68ms/step - loss: 0.1466 - accuracy: 0.9230 - val_loss: 3.2900 - val_accuracy: 0.8320\n",
            "Epoch 401/500\n",
            "8/8 [==============================] - 1s 67ms/step - loss: 0.1461 - accuracy: 0.9230 - val_loss: 3.2959 - val_accuracy: 0.8320\n",
            "Epoch 402/500\n",
            "8/8 [==============================] - 1s 67ms/step - loss: 0.1481 - accuracy: 0.9220 - val_loss: 3.3139 - val_accuracy: 0.8320\n",
            "Epoch 403/500\n",
            "8/8 [==============================] - 1s 67ms/step - loss: 0.1462 - accuracy: 0.9230 - val_loss: 3.3466 - val_accuracy: 0.8320\n",
            "Epoch 404/500\n",
            "8/8 [==============================] - 1s 68ms/step - loss: 0.1465 - accuracy: 0.9230 - val_loss: 3.3642 - val_accuracy: 0.8281\n",
            "Epoch 405/500\n",
            "8/8 [==============================] - 1s 69ms/step - loss: 0.1465 - accuracy: 0.9230 - val_loss: 3.3728 - val_accuracy: 0.8281\n",
            "Epoch 406/500\n",
            "8/8 [==============================] - 1s 69ms/step - loss: 0.1464 - accuracy: 0.9230 - val_loss: 3.3811 - val_accuracy: 0.8281\n",
            "Epoch 407/500\n",
            "8/8 [==============================] - 1s 67ms/step - loss: 0.1463 - accuracy: 0.9230 - val_loss: 3.4000 - val_accuracy: 0.8359\n",
            "Epoch 408/500\n",
            "8/8 [==============================] - 1s 67ms/step - loss: 0.1468 - accuracy: 0.9230 - val_loss: 3.4137 - val_accuracy: 0.8398\n",
            "Epoch 409/500\n",
            "8/8 [==============================] - 1s 68ms/step - loss: 0.1467 - accuracy: 0.9230 - val_loss: 3.4119 - val_accuracy: 0.8398\n",
            "Epoch 410/500\n",
            "8/8 [==============================] - 1s 66ms/step - loss: 0.1464 - accuracy: 0.9230 - val_loss: 3.4041 - val_accuracy: 0.8398\n",
            "Epoch 411/500\n",
            "8/8 [==============================] - 1s 66ms/step - loss: 0.1465 - accuracy: 0.9230 - val_loss: 3.4024 - val_accuracy: 0.8438\n",
            "Epoch 412/500\n",
            "8/8 [==============================] - 1s 67ms/step - loss: 0.1464 - accuracy: 0.9230 - val_loss: 3.4034 - val_accuracy: 0.8438\n",
            "Epoch 413/500\n",
            "8/8 [==============================] - 1s 67ms/step - loss: 0.1473 - accuracy: 0.9220 - val_loss: 3.3724 - val_accuracy: 0.8438\n",
            "Epoch 414/500\n",
            "8/8 [==============================] - 1s 67ms/step - loss: 0.1465 - accuracy: 0.9230 - val_loss: 3.4035 - val_accuracy: 0.8477\n",
            "Epoch 415/500\n",
            "8/8 [==============================] - 1s 70ms/step - loss: 0.1463 - accuracy: 0.9230 - val_loss: 3.5100 - val_accuracy: 0.8516\n",
            "Epoch 416/500\n",
            "8/8 [==============================] - 1s 66ms/step - loss: 0.1464 - accuracy: 0.9230 - val_loss: 3.5973 - val_accuracy: 0.8477\n",
            "Epoch 417/500\n",
            "8/8 [==============================] - 1s 66ms/step - loss: 0.1473 - accuracy: 0.9220 - val_loss: 3.5022 - val_accuracy: 0.8438\n",
            "Epoch 418/500\n",
            "8/8 [==============================] - 1s 68ms/step - loss: 0.1459 - accuracy: 0.9230 - val_loss: 3.5457 - val_accuracy: 0.8398\n",
            "Epoch 419/500\n",
            "8/8 [==============================] - 1s 69ms/step - loss: 0.1461 - accuracy: 0.9230 - val_loss: 3.6065 - val_accuracy: 0.8438\n",
            "Epoch 420/500\n",
            "8/8 [==============================] - 1s 66ms/step - loss: 0.1464 - accuracy: 0.9230 - val_loss: 3.6329 - val_accuracy: 0.8398\n",
            "Epoch 421/500\n",
            "8/8 [==============================] - 1s 70ms/step - loss: 0.1483 - accuracy: 0.9220 - val_loss: 3.6160 - val_accuracy: 0.8359\n",
            "Epoch 422/500\n",
            "8/8 [==============================] - 1s 67ms/step - loss: 0.1465 - accuracy: 0.9230 - val_loss: 3.3439 - val_accuracy: 0.8281\n",
            "Epoch 423/500\n",
            "8/8 [==============================] - 1s 67ms/step - loss: 0.1464 - accuracy: 0.9230 - val_loss: 3.2173 - val_accuracy: 0.8438\n",
            "Epoch 424/500\n",
            "8/8 [==============================] - 1s 69ms/step - loss: 0.1461 - accuracy: 0.9230 - val_loss: 3.1977 - val_accuracy: 0.8438\n",
            "Epoch 425/500\n",
            "8/8 [==============================] - 1s 68ms/step - loss: 0.1468 - accuracy: 0.9230 - val_loss: 3.2041 - val_accuracy: 0.8438\n",
            "Epoch 426/500\n",
            "8/8 [==============================] - 1s 68ms/step - loss: 0.1463 - accuracy: 0.9230 - val_loss: 3.2214 - val_accuracy: 0.8477\n",
            "Epoch 427/500\n",
            "8/8 [==============================] - 1s 67ms/step - loss: 0.1460 - accuracy: 0.9230 - val_loss: 3.2346 - val_accuracy: 0.8477\n",
            "Epoch 428/500\n",
            "8/8 [==============================] - 1s 70ms/step - loss: 0.1589 - accuracy: 0.9220 - val_loss: 3.3976 - val_accuracy: 0.8477\n",
            "Epoch 429/500\n",
            "8/8 [==============================] - 1s 66ms/step - loss: 0.1496 - accuracy: 0.9220 - val_loss: 3.5064 - val_accuracy: 0.8438\n",
            "Epoch 430/500\n",
            "8/8 [==============================] - 1s 68ms/step - loss: 0.1467 - accuracy: 0.9230 - val_loss: 3.4757 - val_accuracy: 0.8477\n",
            "Epoch 431/500\n",
            "8/8 [==============================] - 1s 66ms/step - loss: 0.1464 - accuracy: 0.9230 - val_loss: 3.4721 - val_accuracy: 0.8516\n",
            "Epoch 432/500\n",
            "8/8 [==============================] - 1s 69ms/step - loss: 0.1760 - accuracy: 0.9220 - val_loss: 4.2582 - val_accuracy: 0.8398\n",
            "Epoch 433/500\n",
            "8/8 [==============================] - 1s 69ms/step - loss: 0.1463 - accuracy: 0.9230 - val_loss: 5.0953 - val_accuracy: 0.8320\n",
            "Epoch 434/500\n",
            "8/8 [==============================] - 1s 70ms/step - loss: 0.1668 - accuracy: 0.9190 - val_loss: 4.8264 - val_accuracy: 0.8320\n",
            "Epoch 435/500\n",
            "8/8 [==============================] - 1s 68ms/step - loss: 0.1515 - accuracy: 0.9220 - val_loss: 4.5110 - val_accuracy: 0.8398\n",
            "Epoch 436/500\n",
            "8/8 [==============================] - 1s 69ms/step - loss: 0.1571 - accuracy: 0.9180 - val_loss: 3.7645 - val_accuracy: 0.8594\n",
            "Epoch 437/500\n",
            "8/8 [==============================] - 1s 66ms/step - loss: 0.1600 - accuracy: 0.9200 - val_loss: 4.1731 - val_accuracy: 0.8516\n",
            "Epoch 438/500\n",
            "8/8 [==============================] - 1s 68ms/step - loss: 0.1517 - accuracy: 0.9220 - val_loss: 5.2270 - val_accuracy: 0.8438\n",
            "Epoch 439/500\n",
            "8/8 [==============================] - 1s 66ms/step - loss: 0.1651 - accuracy: 0.9190 - val_loss: 7.1024 - val_accuracy: 0.8477\n",
            "Epoch 440/500\n",
            "8/8 [==============================] - 1s 68ms/step - loss: 0.1702 - accuracy: 0.9200 - val_loss: 7.1176 - val_accuracy: 0.8438\n",
            "Epoch 441/500\n",
            "8/8 [==============================] - 1s 66ms/step - loss: 0.1578 - accuracy: 0.9210 - val_loss: 6.7611 - val_accuracy: 0.8281\n",
            "Epoch 442/500\n",
            "8/8 [==============================] - 1s 67ms/step - loss: 0.1478 - accuracy: 0.9230 - val_loss: 6.9833 - val_accuracy: 0.8359\n",
            "Epoch 443/500\n",
            "8/8 [==============================] - 1s 67ms/step - loss: 0.1662 - accuracy: 0.9190 - val_loss: 7.2549 - val_accuracy: 0.8164\n",
            "Epoch 444/500\n",
            "8/8 [==============================] - 1s 66ms/step - loss: 0.1551 - accuracy: 0.9220 - val_loss: 6.4168 - val_accuracy: 0.8359\n",
            "Epoch 445/500\n",
            "8/8 [==============================] - 1s 67ms/step - loss: 0.1867 - accuracy: 0.9200 - val_loss: 7.5499 - val_accuracy: 0.8398\n",
            "Epoch 446/500\n",
            "8/8 [==============================] - 1s 70ms/step - loss: 0.1658 - accuracy: 0.9220 - val_loss: 7.5180 - val_accuracy: 0.8320\n",
            "Epoch 447/500\n",
            "8/8 [==============================] - 1s 67ms/step - loss: 0.1463 - accuracy: 0.9230 - val_loss: 7.2394 - val_accuracy: 0.8320\n",
            "Epoch 448/500\n",
            "8/8 [==============================] - 1s 67ms/step - loss: 0.1561 - accuracy: 0.9210 - val_loss: 6.8431 - val_accuracy: 0.8281\n",
            "Epoch 449/500\n",
            "8/8 [==============================] - 1s 67ms/step - loss: 0.1565 - accuracy: 0.9220 - val_loss: 6.5420 - val_accuracy: 0.8359\n",
            "Epoch 450/500\n",
            "8/8 [==============================] - 1s 70ms/step - loss: 0.1664 - accuracy: 0.9200 - val_loss: 6.0853 - val_accuracy: 0.8398\n",
            "Epoch 451/500\n",
            "8/8 [==============================] - 1s 68ms/step - loss: 0.1567 - accuracy: 0.9210 - val_loss: 5.8878 - val_accuracy: 0.8359\n",
            "Epoch 452/500\n",
            "8/8 [==============================] - 1s 67ms/step - loss: 0.1479 - accuracy: 0.9220 - val_loss: 6.0199 - val_accuracy: 0.8242\n",
            "Epoch 453/500\n",
            "8/8 [==============================] - 1s 70ms/step - loss: 0.1519 - accuracy: 0.9210 - val_loss: 5.8413 - val_accuracy: 0.8516\n",
            "Epoch 454/500\n",
            "8/8 [==============================] - 1s 67ms/step - loss: 0.1509 - accuracy: 0.9220 - val_loss: 6.3214 - val_accuracy: 0.8672\n",
            "Epoch 455/500\n",
            "8/8 [==============================] - 1s 67ms/step - loss: 0.1938 - accuracy: 0.9170 - val_loss: 6.5129 - val_accuracy: 0.8359\n",
            "Epoch 456/500\n",
            "8/8 [==============================] - 1s 69ms/step - loss: 0.2365 - accuracy: 0.9170 - val_loss: 6.3767 - val_accuracy: 0.8281\n",
            "Epoch 457/500\n",
            "8/8 [==============================] - 1s 67ms/step - loss: 0.1547 - accuracy: 0.9210 - val_loss: 5.8561 - val_accuracy: 0.8164\n",
            "Epoch 458/500\n",
            "8/8 [==============================] - 1s 69ms/step - loss: 0.1765 - accuracy: 0.9190 - val_loss: 5.4322 - val_accuracy: 0.8203\n",
            "Epoch 459/500\n",
            "8/8 [==============================] - 1s 69ms/step - loss: 0.1518 - accuracy: 0.9220 - val_loss: 5.8675 - val_accuracy: 0.8047\n",
            "Epoch 460/500\n",
            "8/8 [==============================] - 1s 67ms/step - loss: 0.1848 - accuracy: 0.9210 - val_loss: 5.7913 - val_accuracy: 0.8164\n",
            "Epoch 461/500\n",
            "8/8 [==============================] - 1s 68ms/step - loss: 0.1473 - accuracy: 0.9220 - val_loss: 6.0147 - val_accuracy: 0.8125\n",
            "Epoch 462/500\n",
            "8/8 [==============================] - 1s 68ms/step - loss: 0.1710 - accuracy: 0.9200 - val_loss: 6.1717 - val_accuracy: 0.8242\n",
            "Epoch 463/500\n",
            "8/8 [==============================] - 1s 70ms/step - loss: 0.1685 - accuracy: 0.9180 - val_loss: 6.0446 - val_accuracy: 0.8438\n",
            "Epoch 464/500\n",
            "8/8 [==============================] - 1s 66ms/step - loss: 0.1507 - accuracy: 0.9220 - val_loss: 5.9065 - val_accuracy: 0.8477\n",
            "Epoch 465/500\n",
            "8/8 [==============================] - 1s 70ms/step - loss: 0.1547 - accuracy: 0.9200 - val_loss: 6.1017 - val_accuracy: 0.8320\n",
            "Epoch 466/500\n",
            "8/8 [==============================] - 1s 67ms/step - loss: 0.1520 - accuracy: 0.9220 - val_loss: 5.8115 - val_accuracy: 0.8281\n",
            "Epoch 467/500\n",
            "8/8 [==============================] - 1s 68ms/step - loss: 0.1510 - accuracy: 0.9210 - val_loss: 5.1820 - val_accuracy: 0.8398\n",
            "Epoch 468/500\n",
            "8/8 [==============================] - 1s 67ms/step - loss: 0.1468 - accuracy: 0.9230 - val_loss: 5.0185 - val_accuracy: 0.8477\n",
            "Epoch 469/500\n",
            "8/8 [==============================] - 1s 66ms/step - loss: 0.1492 - accuracy: 0.9220 - val_loss: 4.9569 - val_accuracy: 0.8555\n",
            "Epoch 470/500\n",
            "8/8 [==============================] - 1s 68ms/step - loss: 0.1469 - accuracy: 0.9230 - val_loss: 4.9106 - val_accuracy: 0.8516\n",
            "Epoch 471/500\n",
            "8/8 [==============================] - 1s 66ms/step - loss: 0.1476 - accuracy: 0.9230 - val_loss: 4.9114 - val_accuracy: 0.8594\n",
            "Epoch 472/500\n",
            "8/8 [==============================] - 1s 69ms/step - loss: 0.1464 - accuracy: 0.9230 - val_loss: 5.1095 - val_accuracy: 0.8320\n",
            "Epoch 473/500\n",
            "8/8 [==============================] - 1s 69ms/step - loss: 0.1626 - accuracy: 0.9200 - val_loss: 5.1420 - val_accuracy: 0.8438\n",
            "Epoch 474/500\n",
            "8/8 [==============================] - 1s 69ms/step - loss: 0.1498 - accuracy: 0.9220 - val_loss: 5.3674 - val_accuracy: 0.8359\n",
            "Epoch 475/500\n",
            "8/8 [==============================] - 1s 68ms/step - loss: 0.1540 - accuracy: 0.9210 - val_loss: 5.4988 - val_accuracy: 0.8320\n",
            "Epoch 476/500\n",
            "8/8 [==============================] - 1s 68ms/step - loss: 0.1512 - accuracy: 0.9210 - val_loss: 5.3464 - val_accuracy: 0.8203\n",
            "Epoch 477/500\n",
            "8/8 [==============================] - 1s 69ms/step - loss: 0.1657 - accuracy: 0.9210 - val_loss: 5.0579 - val_accuracy: 0.8281\n",
            "Epoch 478/500\n",
            "8/8 [==============================] - 1s 68ms/step - loss: 0.1467 - accuracy: 0.9230 - val_loss: 4.8885 - val_accuracy: 0.8281\n",
            "Epoch 479/500\n",
            "8/8 [==============================] - 1s 67ms/step - loss: 0.1474 - accuracy: 0.9220 - val_loss: 4.9985 - val_accuracy: 0.8359\n",
            "Epoch 480/500\n",
            "8/8 [==============================] - 1s 69ms/step - loss: 0.1462 - accuracy: 0.9230 - val_loss: 5.2090 - val_accuracy: 0.8320\n",
            "Epoch 481/500\n",
            "8/8 [==============================] - 1s 67ms/step - loss: 0.1527 - accuracy: 0.9220 - val_loss: 5.2423 - val_accuracy: 0.8281\n",
            "Epoch 482/500\n",
            "8/8 [==============================] - 1s 68ms/step - loss: 0.1617 - accuracy: 0.9200 - val_loss: 5.0146 - val_accuracy: 0.8203\n",
            "Epoch 483/500\n",
            "8/8 [==============================] - 1s 69ms/step - loss: 0.1463 - accuracy: 0.9230 - val_loss: 4.9383 - val_accuracy: 0.8164\n",
            "Epoch 484/500\n",
            "8/8 [==============================] - 1s 68ms/step - loss: 0.1465 - accuracy: 0.9230 - val_loss: 4.9168 - val_accuracy: 0.8086\n",
            "Epoch 485/500\n",
            "8/8 [==============================] - 1s 70ms/step - loss: 0.1510 - accuracy: 0.9210 - val_loss: 5.0419 - val_accuracy: 0.8125\n",
            "Epoch 486/500\n",
            "8/8 [==============================] - 1s 69ms/step - loss: 0.1503 - accuracy: 0.9220 - val_loss: 5.0821 - val_accuracy: 0.8242\n",
            "Epoch 487/500\n",
            "8/8 [==============================] - 1s 70ms/step - loss: 0.1463 - accuracy: 0.9230 - val_loss: 5.0760 - val_accuracy: 0.8242\n",
            "Epoch 488/500\n",
            "8/8 [==============================] - 1s 67ms/step - loss: 0.1461 - accuracy: 0.9230 - val_loss: 5.0704 - val_accuracy: 0.8281\n",
            "Epoch 489/500\n",
            "8/8 [==============================] - 1s 68ms/step - loss: 0.1470 - accuracy: 0.9220 - val_loss: 5.0640 - val_accuracy: 0.8242\n",
            "Epoch 490/500\n",
            "8/8 [==============================] - 1s 67ms/step - loss: 0.1460 - accuracy: 0.9230 - val_loss: 5.0664 - val_accuracy: 0.8203\n",
            "Epoch 491/500\n",
            "8/8 [==============================] - 1s 67ms/step - loss: 0.1467 - accuracy: 0.9230 - val_loss: 5.0459 - val_accuracy: 0.8203\n",
            "Epoch 492/500\n",
            "8/8 [==============================] - 1s 67ms/step - loss: 0.1458 - accuracy: 0.9230 - val_loss: 5.0367 - val_accuracy: 0.8242\n",
            "Epoch 493/500\n",
            "8/8 [==============================] - 1s 67ms/step - loss: 0.1500 - accuracy: 0.9220 - val_loss: 5.0848 - val_accuracy: 0.8203\n",
            "Epoch 494/500\n",
            "8/8 [==============================] - 1s 67ms/step - loss: 0.1465 - accuracy: 0.9230 - val_loss: 5.5053 - val_accuracy: 0.8047\n",
            "Epoch 495/500\n",
            "8/8 [==============================] - 1s 69ms/step - loss: 0.1488 - accuracy: 0.9220 - val_loss: 5.7237 - val_accuracy: 0.8008\n",
            "Epoch 496/500\n",
            "8/8 [==============================] - 1s 70ms/step - loss: 0.1491 - accuracy: 0.9220 - val_loss: 5.5521 - val_accuracy: 0.8203\n",
            "Epoch 497/500\n",
            "8/8 [==============================] - 1s 70ms/step - loss: 0.1564 - accuracy: 0.9200 - val_loss: 5.4027 - val_accuracy: 0.8320\n",
            "Epoch 498/500\n",
            "8/8 [==============================] - 1s 70ms/step - loss: 0.1695 - accuracy: 0.9200 - val_loss: 5.3213 - val_accuracy: 0.8242\n",
            "Epoch 499/500\n",
            "8/8 [==============================] - 1s 70ms/step - loss: 0.1608 - accuracy: 0.9210 - val_loss: 5.6473 - val_accuracy: 0.8086\n",
            "Epoch 500/500\n",
            "8/8 [==============================] - 1s 71ms/step - loss: 0.1602 - accuracy: 0.9210 - val_loss: 5.4489 - val_accuracy: 0.8398\n"
          ],
          "name": "stdout"
        },
        {
          "output_type": "display_data",
          "data": {
            "image/png": "[encoded data removed]",
            "text/plain": [
              "<Figure size 432x288 with 1 Axes>"
            ]
          },
          "metadata": {
            "tags": [],
            "needs_background": "light"
          }
        }
      ]
    },
    {
      "cell_type": "code",
      "metadata": {
        "id": "bmHJNkrn3x5k"
      },
      "source": [
        "model.save_weights('modelClassifierHorse.h5')"
      ],
      "execution_count": 119,
      "outputs": []
    },
    {
      "cell_type": "code",
      "metadata": {
        "id": "swNhs1KGeEY5",
        "colab": {
          "base_uri": "https://localhost:8080/"
        },
        "outputId": "6a359f66-14ce-4a23-a2b9-5f0d5c784c54"
      },
      "source": [
        "model.summary()"
      ],
      "execution_count": 64,
      "outputs": [
        {
          "output_type": "stream",
          "text": [
            "Model: \"sequential_7\"\n",
            "_________________________________________________________________\n",
            "Layer (type)                 Output Shape              Param #   \n",
            "=================================================================\n",
            "batch_normalization_25 (Batc (None, 75, 75, 2)         8         \n",
            "_________________________________________________________________\n",
            "conv2d_47 (Conv2D)           (None, 75, 75, 32)        608       \n",
            "_________________________________________________________________\n",
            "conv2d_48 (Conv2D)           (None, 75, 75, 32)        9248      \n",
            "_________________________________________________________________\n",
            "max_pooling2d_23 (MaxPooling (None, 37, 37, 32)        0         \n",
            "_________________________________________________________________\n",
            "dropout_28 (Dropout)         (None, 37, 37, 32)        0         \n",
            "_________________________________________________________________\n",
            "batch_normalization_26 (Batc (None, 37, 37, 32)        128       \n",
            "_________________________________________________________________\n",
            "conv2d_49 (Conv2D)           (None, 37, 37, 64)        18496     \n",
            "_________________________________________________________________\n",
            "conv2d_50 (Conv2D)           (None, 37, 37, 64)        36928     \n",
            "_________________________________________________________________\n",
            "max_pooling2d_24 (MaxPooling (None, 18, 18, 64)        0         \n",
            "_________________________________________________________________\n",
            "dropout_29 (Dropout)         (None, 18, 18, 64)        0         \n",
            "_________________________________________________________________\n",
            "batch_normalization_27 (Batc (None, 18, 18, 64)        256       \n",
            "_________________________________________________________________\n",
            "conv2d_51 (Conv2D)           (None, 18, 18, 128)       73856     \n",
            "_________________________________________________________________\n",
            "conv2d_52 (Conv2D)           (None, 18, 18, 128)       147584    \n",
            "_________________________________________________________________\n",
            "max_pooling2d_25 (MaxPooling (None, 9, 9, 128)         0         \n",
            "_________________________________________________________________\n",
            "dropout_30 (Dropout)         (None, 9, 9, 128)         0         \n",
            "_________________________________________________________________\n",
            "flatten_7 (Flatten)          (None, 10368)             0         \n",
            "_________________________________________________________________\n",
            "dense_14 (Dense)             (None, 512)               5308928   \n",
            "_________________________________________________________________\n",
            "dropout_31 (Dropout)         (None, 512)               0         \n",
            "_________________________________________________________________\n",
            "dense_15 (Dense)             (None, 2)                 1026      \n",
            "=================================================================\n",
            "Total params: 5,597,066\n",
            "Trainable params: 5,596,870\n",
            "Non-trainable params: 196\n",
            "_________________________________________________________________\n"
          ],
          "name": "stdout"
        }
      ]
    },
    {
      "cell_type": "markdown",
      "metadata": {
        "id": "WwjAVmaZgbLd"
      },
      "source": [
        "## **Проверяем на тестовой выборке**\n"
      ]
    },
    {
      "cell_type": "code",
      "metadata": {
        "id": "qTQEhiM1hV3l"
      },
      "source": [
        "#Распознаём тестовые картинки\n",
        "predictionEnd = model.predict(x_test10)"
      ],
      "execution_count": 65,
      "outputs": []
    },
    {
      "cell_type": "code",
      "metadata": {
        "id": "oaF1locAgbLf",
        "colab": {
          "base_uri": "https://localhost:8080/"
        },
        "outputId": "1a79957e-7be5-4528-967e-e4482ae8768d"
      },
      "source": [
        "#Выбираем пример\n",
        "n = 240\n",
        "\n",
        "#Выводим результаты\n",
        "print(\"Выход сети: \", predictionEnd[n])\n",
        "print(\"Распознанный образ: \", np.argmax(predictionEnd[n]))\n",
        "print(\"Верный ответ: \", y_test10[n])\n",
        "print(\"Распознанный образ на картинке: \", classes[np.argmax(predictionEnd[n])])"
      ],
      "execution_count": 76,
      "outputs": [
        {
          "output_type": "stream",
          "text": [
            "Выход сети:  [1.244804e-09 1.000000e+00]\n",
            "Распознанный образ:  1\n",
            "Верный ответ:  [0. 1.]\n",
            "Распознанный образ на картинке:  humans\n"
          ],
          "name": "stdout"
        }
      ]
    },
    {
      "cell_type": "code",
      "metadata": {
        "colab": {
          "base_uri": "https://localhost:8080/"
        },
        "id": "d7khjwrYouY4",
        "outputId": "7628a255-88c7-4200-cb72-d2ca52c97d48"
      },
      "source": [
        "n = -129\n",
        "\n",
        "print(\"Выход сети: \", predictionEnd[n])\n",
        "print(\"Распознанный образ: \", np.argmax(predictionEnd[n]))\n",
        "print(\"Верный ответ: \", y_test10[n])\n",
        "print(\"Распознанный образ на картинке: \", classes[np.argmax(predictionEnd[n])])"
      ],
      "execution_count": 106,
      "outputs": [
        {
          "output_type": "stream",
          "text": [
            "Выход сети:  [0.66314036 0.33685964]\n",
            "Распознанный образ:  0\n",
            "Верный ответ:  [1. 0.]\n",
            "Распознанный образ на картинке:  horses\n"
          ],
          "name": "stdout"
        }
      ]
    }
  ]
}